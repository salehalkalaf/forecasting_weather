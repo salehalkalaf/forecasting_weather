{
  "cells": [
    {
      "cell_type": "code",
      "execution_count": 4,
      "id": "3cf36e49",
      "metadata": {
        "colab": {
          "base_uri": "https://localhost:8080/",
          "height": 73
        },
        "id": "3cf36e49",
        "outputId": "4905983f-de83-44d5-8983-7d082c6c1375"
      },
      "outputs": [
        {
          "output_type": "display_data",
          "data": {
            "text/plain": [
              "<IPython.core.display.HTML object>"
            ],
            "text/html": [
              "\n",
              "     <input type=\"file\" id=\"files-1125bbb8-b617-40cf-ac2c-07d053b0a8da\" name=\"files[]\" multiple disabled\n",
              "        style=\"border:none\" />\n",
              "     <output id=\"result-1125bbb8-b617-40cf-ac2c-07d053b0a8da\">\n",
              "      Upload widget is only available when the cell has been executed in the\n",
              "      current browser session. Please rerun this cell to enable.\n",
              "      </output>\n",
              "      <script>// Copyright 2017 Google LLC\n",
              "//\n",
              "// Licensed under the Apache License, Version 2.0 (the \"License\");\n",
              "// you may not use this file except in compliance with the License.\n",
              "// You may obtain a copy of the License at\n",
              "//\n",
              "//      http://www.apache.org/licenses/LICENSE-2.0\n",
              "//\n",
              "// Unless required by applicable law or agreed to in writing, software\n",
              "// distributed under the License is distributed on an \"AS IS\" BASIS,\n",
              "// WITHOUT WARRANTIES OR CONDITIONS OF ANY KIND, either express or implied.\n",
              "// See the License for the specific language governing permissions and\n",
              "// limitations under the License.\n",
              "\n",
              "/**\n",
              " * @fileoverview Helpers for google.colab Python module.\n",
              " */\n",
              "(function(scope) {\n",
              "function span(text, styleAttributes = {}) {\n",
              "  const element = document.createElement('span');\n",
              "  element.textContent = text;\n",
              "  for (const key of Object.keys(styleAttributes)) {\n",
              "    element.style[key] = styleAttributes[key];\n",
              "  }\n",
              "  return element;\n",
              "}\n",
              "\n",
              "// Max number of bytes which will be uploaded at a time.\n",
              "const MAX_PAYLOAD_SIZE = 100 * 1024;\n",
              "\n",
              "function _uploadFiles(inputId, outputId) {\n",
              "  const steps = uploadFilesStep(inputId, outputId);\n",
              "  const outputElement = document.getElementById(outputId);\n",
              "  // Cache steps on the outputElement to make it available for the next call\n",
              "  // to uploadFilesContinue from Python.\n",
              "  outputElement.steps = steps;\n",
              "\n",
              "  return _uploadFilesContinue(outputId);\n",
              "}\n",
              "\n",
              "// This is roughly an async generator (not supported in the browser yet),\n",
              "// where there are multiple asynchronous steps and the Python side is going\n",
              "// to poll for completion of each step.\n",
              "// This uses a Promise to block the python side on completion of each step,\n",
              "// then passes the result of the previous step as the input to the next step.\n",
              "function _uploadFilesContinue(outputId) {\n",
              "  const outputElement = document.getElementById(outputId);\n",
              "  const steps = outputElement.steps;\n",
              "\n",
              "  const next = steps.next(outputElement.lastPromiseValue);\n",
              "  return Promise.resolve(next.value.promise).then((value) => {\n",
              "    // Cache the last promise value to make it available to the next\n",
              "    // step of the generator.\n",
              "    outputElement.lastPromiseValue = value;\n",
              "    return next.value.response;\n",
              "  });\n",
              "}\n",
              "\n",
              "/**\n",
              " * Generator function which is called between each async step of the upload\n",
              " * process.\n",
              " * @param {string} inputId Element ID of the input file picker element.\n",
              " * @param {string} outputId Element ID of the output display.\n",
              " * @return {!Iterable<!Object>} Iterable of next steps.\n",
              " */\n",
              "function* uploadFilesStep(inputId, outputId) {\n",
              "  const inputElement = document.getElementById(inputId);\n",
              "  inputElement.disabled = false;\n",
              "\n",
              "  const outputElement = document.getElementById(outputId);\n",
              "  outputElement.innerHTML = '';\n",
              "\n",
              "  const pickedPromise = new Promise((resolve) => {\n",
              "    inputElement.addEventListener('change', (e) => {\n",
              "      resolve(e.target.files);\n",
              "    });\n",
              "  });\n",
              "\n",
              "  const cancel = document.createElement('button');\n",
              "  inputElement.parentElement.appendChild(cancel);\n",
              "  cancel.textContent = 'Cancel upload';\n",
              "  const cancelPromise = new Promise((resolve) => {\n",
              "    cancel.onclick = () => {\n",
              "      resolve(null);\n",
              "    };\n",
              "  });\n",
              "\n",
              "  // Wait for the user to pick the files.\n",
              "  const files = yield {\n",
              "    promise: Promise.race([pickedPromise, cancelPromise]),\n",
              "    response: {\n",
              "      action: 'starting',\n",
              "    }\n",
              "  };\n",
              "\n",
              "  cancel.remove();\n",
              "\n",
              "  // Disable the input element since further picks are not allowed.\n",
              "  inputElement.disabled = true;\n",
              "\n",
              "  if (!files) {\n",
              "    return {\n",
              "      response: {\n",
              "        action: 'complete',\n",
              "      }\n",
              "    };\n",
              "  }\n",
              "\n",
              "  for (const file of files) {\n",
              "    const li = document.createElement('li');\n",
              "    li.append(span(file.name, {fontWeight: 'bold'}));\n",
              "    li.append(span(\n",
              "        `(${file.type || 'n/a'}) - ${file.size} bytes, ` +\n",
              "        `last modified: ${\n",
              "            file.lastModifiedDate ? file.lastModifiedDate.toLocaleDateString() :\n",
              "                                    'n/a'} - `));\n",
              "    const percent = span('0% done');\n",
              "    li.appendChild(percent);\n",
              "\n",
              "    outputElement.appendChild(li);\n",
              "\n",
              "    const fileDataPromise = new Promise((resolve) => {\n",
              "      const reader = new FileReader();\n",
              "      reader.onload = (e) => {\n",
              "        resolve(e.target.result);\n",
              "      };\n",
              "      reader.readAsArrayBuffer(file);\n",
              "    });\n",
              "    // Wait for the data to be ready.\n",
              "    let fileData = yield {\n",
              "      promise: fileDataPromise,\n",
              "      response: {\n",
              "        action: 'continue',\n",
              "      }\n",
              "    };\n",
              "\n",
              "    // Use a chunked sending to avoid message size limits. See b/62115660.\n",
              "    let position = 0;\n",
              "    do {\n",
              "      const length = Math.min(fileData.byteLength - position, MAX_PAYLOAD_SIZE);\n",
              "      const chunk = new Uint8Array(fileData, position, length);\n",
              "      position += length;\n",
              "\n",
              "      const base64 = btoa(String.fromCharCode.apply(null, chunk));\n",
              "      yield {\n",
              "        response: {\n",
              "          action: 'append',\n",
              "          file: file.name,\n",
              "          data: base64,\n",
              "        },\n",
              "      };\n",
              "\n",
              "      let percentDone = fileData.byteLength === 0 ?\n",
              "          100 :\n",
              "          Math.round((position / fileData.byteLength) * 100);\n",
              "      percent.textContent = `${percentDone}% done`;\n",
              "\n",
              "    } while (position < fileData.byteLength);\n",
              "  }\n",
              "\n",
              "  // All done.\n",
              "  yield {\n",
              "    response: {\n",
              "      action: 'complete',\n",
              "    }\n",
              "  };\n",
              "}\n",
              "\n",
              "scope.google = scope.google || {};\n",
              "scope.google.colab = scope.google.colab || {};\n",
              "scope.google.colab._files = {\n",
              "  _uploadFiles,\n",
              "  _uploadFilesContinue,\n",
              "};\n",
              "})(self);\n",
              "</script> "
            ]
          },
          "metadata": {}
        },
        {
          "output_type": "stream",
          "name": "stdout",
          "text": [
            "Saving jordan-airports-historical-observations.csv to jordan-airports-historical-observations.csv\n"
          ]
        }
      ],
      "source": [
        "from google.colab import files\n",
        "uploaded = files.upload()\n"
      ]
    },
    {
      "cell_type": "code",
      "source": [
        "import pandas as pd\n",
        "df = pd.read_csv(\"jordan-airports-historical-observations.csv\", encoding='ISO-8859-1')\n",
        "df.head()\n"
      ],
      "metadata": {
        "colab": {
          "base_uri": "https://localhost:8080/",
          "height": 313
        },
        "id": "704AwW-6tVIm",
        "outputId": "78307950-ecbe-4a1c-9a5a-32869bc851e7"
      },
      "id": "704AwW-6tVIm",
      "execution_count": 5,
      "outputs": [
        {
          "output_type": "execute_result",
          "data": {
            "text/plain": [
              "                        time        lat        lng identifier  temperature  \\\n",
              "0  2019-01-01 00:00:00+00:00  31.983299  35.983299  icao:OJAM          7.0   \n",
              "1  2019-01-01 00:00:00+00:00  31.983299  35.983299  icao:OJAM          7.0   \n",
              "2  2019-01-01 00:00:00+00:00  31.983299  35.983299  icao:OJAM          7.0   \n",
              "3  2019-01-01 01:00:00+00:00  31.983299  35.983299  icao:OJAM          8.0   \n",
              "4  2019-01-01 01:00:00+00:00  31.983299  35.983299  icao:OJAM          8.0   \n",
              "\n",
              "   dew_point  wind_speed  wind_direction  visibility  \n",
              "0        3.0        1.54           120.0      5000.0  \n",
              "1        3.0        1.54           120.0      5000.0  \n",
              "2        3.0        1.54           120.0      5000.0  \n",
              "3        3.0        1.54           120.0      9999.0  \n",
              "4        3.0        1.54           120.0      9999.0  "
            ],
            "text/html": [
              "\n",
              "  <div id=\"df-8f498cf3-4d94-491e-9c11-454d7be0afd6\" class=\"colab-df-container\">\n",
              "    <div>\n",
              "<style scoped>\n",
              "    .dataframe tbody tr th:only-of-type {\n",
              "        vertical-align: middle;\n",
              "    }\n",
              "\n",
              "    .dataframe tbody tr th {\n",
              "        vertical-align: top;\n",
              "    }\n",
              "\n",
              "    .dataframe thead th {\n",
              "        text-align: right;\n",
              "    }\n",
              "</style>\n",
              "<table border=\"1\" class=\"dataframe\">\n",
              "  <thead>\n",
              "    <tr style=\"text-align: right;\">\n",
              "      <th></th>\n",
              "      <th>time</th>\n",
              "      <th>lat</th>\n",
              "      <th>lng</th>\n",
              "      <th>identifier</th>\n",
              "      <th>temperature</th>\n",
              "      <th>dew_point</th>\n",
              "      <th>wind_speed</th>\n",
              "      <th>wind_direction</th>\n",
              "      <th>visibility</th>\n",
              "    </tr>\n",
              "  </thead>\n",
              "  <tbody>\n",
              "    <tr>\n",
              "      <th>0</th>\n",
              "      <td>2019-01-01 00:00:00+00:00</td>\n",
              "      <td>31.983299</td>\n",
              "      <td>35.983299</td>\n",
              "      <td>icao:OJAM</td>\n",
              "      <td>7.0</td>\n",
              "      <td>3.0</td>\n",
              "      <td>1.54</td>\n",
              "      <td>120.0</td>\n",
              "      <td>5000.0</td>\n",
              "    </tr>\n",
              "    <tr>\n",
              "      <th>1</th>\n",
              "      <td>2019-01-01 00:00:00+00:00</td>\n",
              "      <td>31.983299</td>\n",
              "      <td>35.983299</td>\n",
              "      <td>icao:OJAM</td>\n",
              "      <td>7.0</td>\n",
              "      <td>3.0</td>\n",
              "      <td>1.54</td>\n",
              "      <td>120.0</td>\n",
              "      <td>5000.0</td>\n",
              "    </tr>\n",
              "    <tr>\n",
              "      <th>2</th>\n",
              "      <td>2019-01-01 00:00:00+00:00</td>\n",
              "      <td>31.983299</td>\n",
              "      <td>35.983299</td>\n",
              "      <td>icao:OJAM</td>\n",
              "      <td>7.0</td>\n",
              "      <td>3.0</td>\n",
              "      <td>1.54</td>\n",
              "      <td>120.0</td>\n",
              "      <td>5000.0</td>\n",
              "    </tr>\n",
              "    <tr>\n",
              "      <th>3</th>\n",
              "      <td>2019-01-01 01:00:00+00:00</td>\n",
              "      <td>31.983299</td>\n",
              "      <td>35.983299</td>\n",
              "      <td>icao:OJAM</td>\n",
              "      <td>8.0</td>\n",
              "      <td>3.0</td>\n",
              "      <td>1.54</td>\n",
              "      <td>120.0</td>\n",
              "      <td>9999.0</td>\n",
              "    </tr>\n",
              "    <tr>\n",
              "      <th>4</th>\n",
              "      <td>2019-01-01 01:00:00+00:00</td>\n",
              "      <td>31.983299</td>\n",
              "      <td>35.983299</td>\n",
              "      <td>icao:OJAM</td>\n",
              "      <td>8.0</td>\n",
              "      <td>3.0</td>\n",
              "      <td>1.54</td>\n",
              "      <td>120.0</td>\n",
              "      <td>9999.0</td>\n",
              "    </tr>\n",
              "  </tbody>\n",
              "</table>\n",
              "</div>\n",
              "    <div class=\"colab-df-buttons\">\n",
              "\n",
              "  <div class=\"colab-df-container\">\n",
              "    <button class=\"colab-df-convert\" onclick=\"convertToInteractive('df-8f498cf3-4d94-491e-9c11-454d7be0afd6')\"\n",
              "            title=\"Convert this dataframe to an interactive table.\"\n",
              "            style=\"display:none;\">\n",
              "\n",
              "  <svg xmlns=\"http://www.w3.org/2000/svg\" height=\"24px\" viewBox=\"0 -960 960 960\">\n",
              "    <path d=\"M120-120v-720h720v720H120Zm60-500h600v-160H180v160Zm220 220h160v-160H400v160Zm0 220h160v-160H400v160ZM180-400h160v-160H180v160Zm440 0h160v-160H620v160ZM180-180h160v-160H180v160Zm440 0h160v-160H620v160Z\"/>\n",
              "  </svg>\n",
              "    </button>\n",
              "\n",
              "  <style>\n",
              "    .colab-df-container {\n",
              "      display:flex;\n",
              "      gap: 12px;\n",
              "    }\n",
              "\n",
              "    .colab-df-convert {\n",
              "      background-color: #E8F0FE;\n",
              "      border: none;\n",
              "      border-radius: 50%;\n",
              "      cursor: pointer;\n",
              "      display: none;\n",
              "      fill: #1967D2;\n",
              "      height: 32px;\n",
              "      padding: 0 0 0 0;\n",
              "      width: 32px;\n",
              "    }\n",
              "\n",
              "    .colab-df-convert:hover {\n",
              "      background-color: #E2EBFA;\n",
              "      box-shadow: 0px 1px 2px rgba(60, 64, 67, 0.3), 0px 1px 3px 1px rgba(60, 64, 67, 0.15);\n",
              "      fill: #174EA6;\n",
              "    }\n",
              "\n",
              "    .colab-df-buttons div {\n",
              "      margin-bottom: 4px;\n",
              "    }\n",
              "\n",
              "    [theme=dark] .colab-df-convert {\n",
              "      background-color: #3B4455;\n",
              "      fill: #D2E3FC;\n",
              "    }\n",
              "\n",
              "    [theme=dark] .colab-df-convert:hover {\n",
              "      background-color: #434B5C;\n",
              "      box-shadow: 0px 1px 3px 1px rgba(0, 0, 0, 0.15);\n",
              "      filter: drop-shadow(0px 1px 2px rgba(0, 0, 0, 0.3));\n",
              "      fill: #FFFFFF;\n",
              "    }\n",
              "  </style>\n",
              "\n",
              "    <script>\n",
              "      const buttonEl =\n",
              "        document.querySelector('#df-8f498cf3-4d94-491e-9c11-454d7be0afd6 button.colab-df-convert');\n",
              "      buttonEl.style.display =\n",
              "        google.colab.kernel.accessAllowed ? 'block' : 'none';\n",
              "\n",
              "      async function convertToInteractive(key) {\n",
              "        const element = document.querySelector('#df-8f498cf3-4d94-491e-9c11-454d7be0afd6');\n",
              "        const dataTable =\n",
              "          await google.colab.kernel.invokeFunction('convertToInteractive',\n",
              "                                                    [key], {});\n",
              "        if (!dataTable) return;\n",
              "\n",
              "        const docLinkHtml = 'Like what you see? Visit the ' +\n",
              "          '<a target=\"_blank\" href=https://colab.research.google.com/notebooks/data_table.ipynb>data table notebook</a>'\n",
              "          + ' to learn more about interactive tables.';\n",
              "        element.innerHTML = '';\n",
              "        dataTable['output_type'] = 'display_data';\n",
              "        await google.colab.output.renderOutput(dataTable, element);\n",
              "        const docLink = document.createElement('div');\n",
              "        docLink.innerHTML = docLinkHtml;\n",
              "        element.appendChild(docLink);\n",
              "      }\n",
              "    </script>\n",
              "  </div>\n",
              "\n",
              "\n",
              "    <div id=\"df-e72ecf86-7770-446c-a91f-e914d0b4c135\">\n",
              "      <button class=\"colab-df-quickchart\" onclick=\"quickchart('df-e72ecf86-7770-446c-a91f-e914d0b4c135')\"\n",
              "                title=\"Suggest charts\"\n",
              "                style=\"display:none;\">\n",
              "\n",
              "<svg xmlns=\"http://www.w3.org/2000/svg\" height=\"24px\"viewBox=\"0 0 24 24\"\n",
              "     width=\"24px\">\n",
              "    <g>\n",
              "        <path d=\"M19 3H5c-1.1 0-2 .9-2 2v14c0 1.1.9 2 2 2h14c1.1 0 2-.9 2-2V5c0-1.1-.9-2-2-2zM9 17H7v-7h2v7zm4 0h-2V7h2v10zm4 0h-2v-4h2v4z\"/>\n",
              "    </g>\n",
              "</svg>\n",
              "      </button>\n",
              "\n",
              "<style>\n",
              "  .colab-df-quickchart {\n",
              "      --bg-color: #E8F0FE;\n",
              "      --fill-color: #1967D2;\n",
              "      --hover-bg-color: #E2EBFA;\n",
              "      --hover-fill-color: #174EA6;\n",
              "      --disabled-fill-color: #AAA;\n",
              "      --disabled-bg-color: #DDD;\n",
              "  }\n",
              "\n",
              "  [theme=dark] .colab-df-quickchart {\n",
              "      --bg-color: #3B4455;\n",
              "      --fill-color: #D2E3FC;\n",
              "      --hover-bg-color: #434B5C;\n",
              "      --hover-fill-color: #FFFFFF;\n",
              "      --disabled-bg-color: #3B4455;\n",
              "      --disabled-fill-color: #666;\n",
              "  }\n",
              "\n",
              "  .colab-df-quickchart {\n",
              "    background-color: var(--bg-color);\n",
              "    border: none;\n",
              "    border-radius: 50%;\n",
              "    cursor: pointer;\n",
              "    display: none;\n",
              "    fill: var(--fill-color);\n",
              "    height: 32px;\n",
              "    padding: 0;\n",
              "    width: 32px;\n",
              "  }\n",
              "\n",
              "  .colab-df-quickchart:hover {\n",
              "    background-color: var(--hover-bg-color);\n",
              "    box-shadow: 0 1px 2px rgba(60, 64, 67, 0.3), 0 1px 3px 1px rgba(60, 64, 67, 0.15);\n",
              "    fill: var(--button-hover-fill-color);\n",
              "  }\n",
              "\n",
              "  .colab-df-quickchart-complete:disabled,\n",
              "  .colab-df-quickchart-complete:disabled:hover {\n",
              "    background-color: var(--disabled-bg-color);\n",
              "    fill: var(--disabled-fill-color);\n",
              "    box-shadow: none;\n",
              "  }\n",
              "\n",
              "  .colab-df-spinner {\n",
              "    border: 2px solid var(--fill-color);\n",
              "    border-color: transparent;\n",
              "    border-bottom-color: var(--fill-color);\n",
              "    animation:\n",
              "      spin 1s steps(1) infinite;\n",
              "  }\n",
              "\n",
              "  @keyframes spin {\n",
              "    0% {\n",
              "      border-color: transparent;\n",
              "      border-bottom-color: var(--fill-color);\n",
              "      border-left-color: var(--fill-color);\n",
              "    }\n",
              "    20% {\n",
              "      border-color: transparent;\n",
              "      border-left-color: var(--fill-color);\n",
              "      border-top-color: var(--fill-color);\n",
              "    }\n",
              "    30% {\n",
              "      border-color: transparent;\n",
              "      border-left-color: var(--fill-color);\n",
              "      border-top-color: var(--fill-color);\n",
              "      border-right-color: var(--fill-color);\n",
              "    }\n",
              "    40% {\n",
              "      border-color: transparent;\n",
              "      border-right-color: var(--fill-color);\n",
              "      border-top-color: var(--fill-color);\n",
              "    }\n",
              "    60% {\n",
              "      border-color: transparent;\n",
              "      border-right-color: var(--fill-color);\n",
              "    }\n",
              "    80% {\n",
              "      border-color: transparent;\n",
              "      border-right-color: var(--fill-color);\n",
              "      border-bottom-color: var(--fill-color);\n",
              "    }\n",
              "    90% {\n",
              "      border-color: transparent;\n",
              "      border-bottom-color: var(--fill-color);\n",
              "    }\n",
              "  }\n",
              "</style>\n",
              "\n",
              "      <script>\n",
              "        async function quickchart(key) {\n",
              "          const quickchartButtonEl =\n",
              "            document.querySelector('#' + key + ' button');\n",
              "          quickchartButtonEl.disabled = true;  // To prevent multiple clicks.\n",
              "          quickchartButtonEl.classList.add('colab-df-spinner');\n",
              "          try {\n",
              "            const charts = await google.colab.kernel.invokeFunction(\n",
              "                'suggestCharts', [key], {});\n",
              "          } catch (error) {\n",
              "            console.error('Error during call to suggestCharts:', error);\n",
              "          }\n",
              "          quickchartButtonEl.classList.remove('colab-df-spinner');\n",
              "          quickchartButtonEl.classList.add('colab-df-quickchart-complete');\n",
              "        }\n",
              "        (() => {\n",
              "          let quickchartButtonEl =\n",
              "            document.querySelector('#df-e72ecf86-7770-446c-a91f-e914d0b4c135 button');\n",
              "          quickchartButtonEl.style.display =\n",
              "            google.colab.kernel.accessAllowed ? 'block' : 'none';\n",
              "        })();\n",
              "      </script>\n",
              "    </div>\n",
              "\n",
              "    </div>\n",
              "  </div>\n"
            ],
            "application/vnd.google.colaboratory.intrinsic+json": {
              "type": "dataframe",
              "variable_name": "df"
            }
          },
          "metadata": {},
          "execution_count": 5
        }
      ]
    },
    {
      "cell_type": "code",
      "execution_count": null,
      "id": "31fd76a6",
      "metadata": {
        "id": "31fd76a6"
      },
      "outputs": [],
      "source": []
    },
    {
      "cell_type": "code",
      "execution_count": null,
      "id": "4b204277",
      "metadata": {
        "id": "4b204277",
        "outputId": "b48e9fe4-194a-4ae7-a47f-0b462aef59ca"
      },
      "outputs": [
        {
          "data": {
            "text/plain": [
              "array(['icao:OJAM'], dtype=object)"
            ]
          },
          "execution_count": 197,
          "metadata": {},
          "output_type": "execute_result"
        }
      ],
      "source": [
        "unique=df['identifier'].unique()\n",
        "unique"
      ]
    },
    {
      "cell_type": "code",
      "execution_count": null,
      "id": "0ef86673",
      "metadata": {
        "id": "0ef86673",
        "outputId": "943cc54e-8ff7-437f-ce72-0d31066ce658"
      },
      "outputs": [
        {
          "name": "stdout",
          "output_type": "stream",
          "text": [
            "<class 'pandas.core.frame.DataFrame'>\n",
            "RangeIndex: 132777 entries, 0 to 132776\n",
            "Data columns (total 9 columns):\n",
            " #   Column          Non-Null Count   Dtype  \n",
            "---  ------          --------------   -----  \n",
            " 0   time            132777 non-null  object \n",
            " 1   lat             132777 non-null  float64\n",
            " 2   lng             132777 non-null  float64\n",
            " 3   identifier      132777 non-null  object \n",
            " 4   temperature     132435 non-null  float64\n",
            " 5   dew_point       132432 non-null  float64\n",
            " 6   wind_speed      132756 non-null  float64\n",
            " 7   wind_direction  131010 non-null  float64\n",
            " 8   visibility      132693 non-null  float64\n",
            "dtypes: float64(7), object(2)\n",
            "memory usage: 9.1+ MB\n"
          ]
        }
      ],
      "source": [
        "df.info()"
      ]
    },
    {
      "cell_type": "code",
      "execution_count": null,
      "id": "a1b9b55a",
      "metadata": {
        "id": "a1b9b55a"
      },
      "outputs": [],
      "source": [
        "# Assuming your data is in a DataFrame called 'df' and the column is named 'time'\n",
        "df['time'] = pd.to_datetime(df['time'])\n",
        "\n",
        "# Now, 'time' column is converted to datetime format\n"
      ]
    },
    {
      "cell_type": "code",
      "execution_count": null,
      "id": "d87589aa",
      "metadata": {
        "id": "d87589aa",
        "outputId": "c0b34d04-1302-4011-c1e8-e69a8a11d938"
      },
      "outputs": [
        {
          "name": "stdout",
          "output_type": "stream",
          "text": [
            "<class 'pandas.core.frame.DataFrame'>\n",
            "RangeIndex: 132777 entries, 0 to 132776\n",
            "Data columns (total 9 columns):\n",
            " #   Column          Non-Null Count   Dtype              \n",
            "---  ------          --------------   -----              \n",
            " 0   time            132777 non-null  datetime64[ns, UTC]\n",
            " 1   lat             132777 non-null  float64            \n",
            " 2   lng             132777 non-null  float64            \n",
            " 3   identifier      132777 non-null  object             \n",
            " 4   temperature     132435 non-null  float64            \n",
            " 5   dew_point       132432 non-null  float64            \n",
            " 6   wind_speed      132756 non-null  float64            \n",
            " 7   wind_direction  131010 non-null  float64            \n",
            " 8   visibility      132693 non-null  float64            \n",
            "dtypes: datetime64[ns, UTC](1), float64(7), object(1)\n",
            "memory usage: 9.1+ MB\n"
          ]
        }
      ],
      "source": [
        "df.info()"
      ]
    },
    {
      "cell_type": "code",
      "execution_count": null,
      "id": "dfc7b068",
      "metadata": {
        "id": "dfc7b068"
      },
      "outputs": [],
      "source": [
        "df = df.drop_duplicates()"
      ]
    },
    {
      "cell_type": "code",
      "execution_count": null,
      "id": "7e646b6f",
      "metadata": {
        "id": "7e646b6f",
        "outputId": "4efbe219-282e-42a1-9a58-6ff028d7ca99"
      },
      "outputs": [
        {
          "name": "stdout",
          "output_type": "stream",
          "text": [
            "<class 'pandas.core.frame.DataFrame'>\n",
            "Int64Index: 43311 entries, 0 to 44258\n",
            "Data columns (total 9 columns):\n",
            " #   Column          Non-Null Count  Dtype              \n",
            "---  ------          --------------  -----              \n",
            " 0   time            43311 non-null  datetime64[ns, UTC]\n",
            " 1   lat             43311 non-null  float64            \n",
            " 2   lng             43311 non-null  float64            \n",
            " 3   identifier      43311 non-null  object             \n",
            " 4   temperature     43202 non-null  float64            \n",
            " 5   dew_point       43201 non-null  float64            \n",
            " 6   wind_speed      43305 non-null  float64            \n",
            " 7   wind_direction  42728 non-null  float64            \n",
            " 8   visibility      43284 non-null  float64            \n",
            "dtypes: datetime64[ns, UTC](1), float64(7), object(1)\n",
            "memory usage: 3.3+ MB\n"
          ]
        }
      ],
      "source": [
        "df.info()"
      ]
    },
    {
      "cell_type": "code",
      "execution_count": null,
      "id": "729feb5f",
      "metadata": {
        "id": "729feb5f",
        "outputId": "92dce642-bc21-43a3-976f-fa4a1f2e15b0"
      },
      "outputs": [
        {
          "data": {
            "text/plain": [
              "array([31.98329926])"
            ]
          },
          "execution_count": 203,
          "metadata": {},
          "output_type": "execute_result"
        }
      ],
      "source": [
        "uniquelat=df['lat'].unique()\n",
        "uniquelat"
      ]
    },
    {
      "cell_type": "code",
      "execution_count": null,
      "id": "807970ae",
      "metadata": {
        "id": "807970ae",
        "outputId": "ceda8f57-95dc-40ad-88db-0e40d80a6f47"
      },
      "outputs": [
        {
          "data": {
            "text/plain": [
              "0"
            ]
          },
          "execution_count": 204,
          "metadata": {},
          "output_type": "execute_result"
        }
      ],
      "source": [
        "df['lat'].isnull().sum()"
      ]
    },
    {
      "cell_type": "code",
      "execution_count": null,
      "id": "beb3a0ad",
      "metadata": {
        "id": "beb3a0ad",
        "outputId": "3fae1b61-ab8d-4967-eff6-b0477ab0365a"
      },
      "outputs": [
        {
          "data": {
            "text/plain": [
              "array([35.98329926])"
            ]
          },
          "execution_count": 205,
          "metadata": {},
          "output_type": "execute_result"
        }
      ],
      "source": [
        "uniquelng=df['lng'].unique()\n",
        "uniquelng"
      ]
    },
    {
      "cell_type": "code",
      "execution_count": null,
      "id": "8c84156d",
      "metadata": {
        "id": "8c84156d",
        "outputId": "56e4cea9-28f8-45b0-d94d-5326c04530fc"
      },
      "outputs": [
        {
          "data": {
            "text/plain": [
              "0"
            ]
          },
          "execution_count": 206,
          "metadata": {},
          "output_type": "execute_result"
        }
      ],
      "source": [
        "df['lng'].isnull().sum()"
      ]
    },
    {
      "cell_type": "code",
      "execution_count": null,
      "id": "4929fddc",
      "metadata": {
        "id": "4929fddc",
        "outputId": "9cd8efd3-a467-4e02-d475-c3634ae4de48"
      },
      "outputs": [
        {
          "data": {
            "text/plain": [
              "array(['icao:OJAM'], dtype=object)"
            ]
          },
          "execution_count": 207,
          "metadata": {},
          "output_type": "execute_result"
        }
      ],
      "source": [
        "unique=df['identifier'].unique()\n",
        "unique"
      ]
    },
    {
      "cell_type": "code",
      "execution_count": null,
      "id": "7bda4300",
      "metadata": {
        "id": "7bda4300",
        "outputId": "46bf6516-08bd-41da-9bc5-c5c2cb911173"
      },
      "outputs": [
        {
          "data": {
            "text/plain": [
              "array([ 7.,  8.,  9., 11., 12., 13., 14., 10.,  6.,  5., 15., 16., nan,\n",
              "        4.,  3.,  2.,  1.,  0., 19., 18., 17., 20., 21., 22., 23., 24.,\n",
              "       26., 27., 25., 28., 29., 30., 31., 32., 34., 33., 35., 36., 37.,\n",
              "       38., 39., 40., 41., 42., 43.])"
            ]
          },
          "execution_count": 208,
          "metadata": {},
          "output_type": "execute_result"
        }
      ],
      "source": [
        "unique_tem=df['temperature'].unique()\n",
        "unique_tem"
      ]
    },
    {
      "cell_type": "code",
      "execution_count": null,
      "id": "570994f5",
      "metadata": {
        "id": "570994f5",
        "outputId": "23004e3f-7799-48ed-c30f-10e6d41d5080"
      },
      "outputs": [
        {
          "data": {
            "text/plain": [
              "109"
            ]
          },
          "execution_count": 209,
          "metadata": {},
          "output_type": "execute_result"
        }
      ],
      "source": [
        "df['temperature'].isnull().sum()"
      ]
    },
    {
      "cell_type": "code",
      "execution_count": null,
      "id": "c3990c7b",
      "metadata": {
        "id": "c3990c7b",
        "outputId": "bd220d64-f971-4331-bb4e-e4095680498a"
      },
      "outputs": [
        {
          "name": "stdout",
          "output_type": "stream",
          "text": [
            "Row indices with NaN values in the 'temperature' column:\n",
            "Int64Index([  343,  1172,  1174,  1507,  2405,  2905,  3269,  3422,  3967,\n",
            "             4138,\n",
            "            ...\n",
            "            38495, 38726, 40080, 40205, 41514, 41516, 42910, 42911, 42913,\n",
            "            44111],\n",
            "           dtype='int64', length=109)\n"
          ]
        }
      ],
      "source": [
        "import pandas as pd\n",
        "\n",
        "# Assuming your data is in a DataFrame called 'df'\n",
        "# Replace 'temperature_column_name' with the actual column name containing the 'temperature' values\n",
        "rows_with_nan_indices = df[df['temperature'].isnull()].index\n",
        "\n",
        "# Display or further process the row indices with NaN values in the 'temperature' column\n",
        "print(\"Row indices with NaN values in the 'temperature' column:\")\n",
        "print(rows_with_nan_indices)\n"
      ]
    },
    {
      "cell_type": "code",
      "execution_count": null,
      "id": "b7d5e3bb",
      "metadata": {
        "id": "b7d5e3bb"
      },
      "outputs": [],
      "source": []
    },
    {
      "cell_type": "code",
      "execution_count": null,
      "id": "758788a1",
      "metadata": {
        "id": "758788a1",
        "outputId": "b287657e-8c38-4d3d-d2a3-c145d1e4c7b3"
      },
      "outputs": [
        {
          "name": "stderr",
          "output_type": "stream",
          "text": [
            "<ipython-input-211-f5d7ef591ec7>:1: SettingWithCopyWarning: \n",
            "A value is trying to be set on a copy of a slice from a DataFrame.\n",
            "Try using .loc[row_indexer,col_indexer] = value instead\n",
            "\n",
            "See the caveats in the documentation: https://pandas.pydata.org/pandas-docs/stable/user_guide/indexing.html#returning-a-view-versus-a-copy\n",
            "  df['temperature'] = df['temperature'].interpolate()\n"
          ]
        }
      ],
      "source": [
        "df['temperature'] = df['temperature'].interpolate()\n"
      ]
    },
    {
      "cell_type": "code",
      "execution_count": null,
      "id": "722005ab",
      "metadata": {
        "id": "722005ab",
        "outputId": "4d582a43-115b-4e6e-8abb-59e97e7e75aa"
      },
      "outputs": [
        {
          "data": {
            "text/plain": [
              "0"
            ]
          },
          "execution_count": 212,
          "metadata": {},
          "output_type": "execute_result"
        }
      ],
      "source": [
        "df['temperature'].isnull().sum()"
      ]
    },
    {
      "cell_type": "code",
      "execution_count": null,
      "id": "9cdd1397",
      "metadata": {
        "id": "9cdd1397",
        "outputId": "c4721e70-49f6-4786-ce81-492e3b6fdf30"
      },
      "outputs": [
        {
          "name": "stdout",
          "output_type": "stream",
          "text": [
            "Index: 1507, Predicted Value: 13.5\n",
            "Index: 2405, Predicted Value: 11.0\n",
            "Index: 3269, Predicted Value: 20.0\n",
            "Index: 4138, Predicted Value: 17.5\n",
            "Index: 1172, Predicted Value: 2.5\n",
            "Index: 1174, Predicted Value: 1.5\n",
            "Index: 343, Predicted Value: 7.5\n",
            "Index: 2905, Predicted Value: 14.0\n",
            "Index: 3422, Predicted Value: 12.5\n",
            "Index: 3967, Predicted Value: 20.0\n"
          ]
        },
        {
          "name": "stderr",
          "output_type": "stream",
          "text": [
            "<ipython-input-213-322fa13996cf>:7: SettingWithCopyWarning: \n",
            "A value is trying to be set on a copy of a slice from a DataFrame.\n",
            "Try using .loc[row_indexer,col_indexer] = value instead\n",
            "\n",
            "See the caveats in the documentation: https://pandas.pydata.org/pandas-docs/stable/user_guide/indexing.html#returning-a-view-versus-a-copy\n",
            "  df['temperature_original'] = df['temperature']\n",
            "<ipython-input-213-322fa13996cf>:10: SettingWithCopyWarning: \n",
            "A value is trying to be set on a copy of a slice from a DataFrame.\n",
            "Try using .loc[row_indexer,col_indexer] = value instead\n",
            "\n",
            "See the caveats in the documentation: https://pandas.pydata.org/pandas-docs/stable/user_guide/indexing.html#returning-a-view-versus-a-copy\n",
            "  df['temperature'] = df['temperature'].interpolate(limit_area='inside', limit_direction='both')\n"
          ]
        }
      ],
      "source": [
        "import pandas as pd\n",
        "\n",
        "# Assuming your data is in a DataFrame called 'df'\n",
        "# Assuming 'temperature' is the column with missing values\n",
        "\n",
        "# Create a new column to store the original values before interpolation\n",
        "df['temperature_original'] = df['temperature']\n",
        "\n",
        "# Use interpolate to fill missing values\n",
        "df['temperature'] = df['temperature'].interpolate(limit_area='inside', limit_direction='both')\n",
        "\n",
        "# Indices of interest\n",
        "indices_of_interest = [343, 345, 1172, 1174, 1507, 2405, 2905, 3269, 3422, 3967, 4138]\n",
        "\n",
        "# Filter indices that are present in the DataFrame\n",
        "valid_indices = set(indices_of_interest).intersection(df.index)\n",
        "\n",
        "# Extract the predicted values for the valid indices\n",
        "predicted_values = df.loc[valid_indices, 'temperature']\n",
        "\n",
        "# Display the indices and predicted values\n",
        "for index, value in predicted_values.iteritems():\n",
        "    print(f\"Index: {index}, Predicted Value: {value}\")\n"
      ]
    },
    {
      "cell_type": "code",
      "execution_count": null,
      "id": "f2f8db46",
      "metadata": {
        "id": "f2f8db46",
        "outputId": "f9079229-6ad4-4cec-dbfd-04fb0b0cd585"
      },
      "outputs": [
        {
          "data": {
            "text/html": [
              "<div>\n",
              "<style scoped>\n",
              "    .dataframe tbody tr th:only-of-type {\n",
              "        vertical-align: middle;\n",
              "    }\n",
              "\n",
              "    .dataframe tbody tr th {\n",
              "        vertical-align: top;\n",
              "    }\n",
              "\n",
              "    .dataframe thead th {\n",
              "        text-align: right;\n",
              "    }\n",
              "</style>\n",
              "<table border=\"1\" class=\"dataframe\">\n",
              "  <thead>\n",
              "    <tr style=\"text-align: right;\">\n",
              "      <th></th>\n",
              "      <th>time</th>\n",
              "      <th>lat</th>\n",
              "      <th>lng</th>\n",
              "      <th>identifier</th>\n",
              "      <th>temperature</th>\n",
              "      <th>dew_point</th>\n",
              "      <th>wind_speed</th>\n",
              "      <th>wind_direction</th>\n",
              "      <th>visibility</th>\n",
              "      <th>temperature_original</th>\n",
              "    </tr>\n",
              "  </thead>\n",
              "  <tbody>\n",
              "    <tr>\n",
              "      <th>0</th>\n",
              "      <td>2019-01-01 00:00:00+00:00</td>\n",
              "      <td>31.983299</td>\n",
              "      <td>35.983299</td>\n",
              "      <td>icao:OJAM</td>\n",
              "      <td>7.0</td>\n",
              "      <td>3.0</td>\n",
              "      <td>1.54</td>\n",
              "      <td>120.0</td>\n",
              "      <td>5000.0</td>\n",
              "      <td>7.0</td>\n",
              "    </tr>\n",
              "    <tr>\n",
              "      <th>3</th>\n",
              "      <td>2019-01-01 01:00:00+00:00</td>\n",
              "      <td>31.983299</td>\n",
              "      <td>35.983299</td>\n",
              "      <td>icao:OJAM</td>\n",
              "      <td>8.0</td>\n",
              "      <td>3.0</td>\n",
              "      <td>1.54</td>\n",
              "      <td>120.0</td>\n",
              "      <td>9999.0</td>\n",
              "      <td>8.0</td>\n",
              "    </tr>\n",
              "    <tr>\n",
              "      <th>6</th>\n",
              "      <td>2019-01-01 02:00:00+00:00</td>\n",
              "      <td>31.983299</td>\n",
              "      <td>35.983299</td>\n",
              "      <td>icao:OJAM</td>\n",
              "      <td>8.0</td>\n",
              "      <td>3.0</td>\n",
              "      <td>1.54</td>\n",
              "      <td>120.0</td>\n",
              "      <td>9999.0</td>\n",
              "      <td>8.0</td>\n",
              "    </tr>\n",
              "    <tr>\n",
              "      <th>9</th>\n",
              "      <td>2019-01-01 04:00:00+00:00</td>\n",
              "      <td>31.983299</td>\n",
              "      <td>35.983299</td>\n",
              "      <td>icao:OJAM</td>\n",
              "      <td>8.0</td>\n",
              "      <td>2.0</td>\n",
              "      <td>2.57</td>\n",
              "      <td>150.0</td>\n",
              "      <td>9999.0</td>\n",
              "      <td>8.0</td>\n",
              "    </tr>\n",
              "    <tr>\n",
              "      <th>12</th>\n",
              "      <td>2019-01-01 05:00:00+00:00</td>\n",
              "      <td>31.983299</td>\n",
              "      <td>35.983299</td>\n",
              "      <td>icao:OJAM</td>\n",
              "      <td>8.0</td>\n",
              "      <td>2.0</td>\n",
              "      <td>3.60</td>\n",
              "      <td>130.0</td>\n",
              "      <td>9999.0</td>\n",
              "      <td>8.0</td>\n",
              "    </tr>\n",
              "    <tr>\n",
              "      <th>...</th>\n",
              "      <td>...</td>\n",
              "      <td>...</td>\n",
              "      <td>...</td>\n",
              "      <td>...</td>\n",
              "      <td>...</td>\n",
              "      <td>...</td>\n",
              "      <td>...</td>\n",
              "      <td>...</td>\n",
              "      <td>...</td>\n",
              "      <td>...</td>\n",
              "    </tr>\n",
              "    <tr>\n",
              "      <th>44254</th>\n",
              "      <td>2023-11-12 04:00:00+00:00</td>\n",
              "      <td>31.983299</td>\n",
              "      <td>35.983299</td>\n",
              "      <td>icao:OJAM</td>\n",
              "      <td>19.0</td>\n",
              "      <td>9.0</td>\n",
              "      <td>1.03</td>\n",
              "      <td>NaN</td>\n",
              "      <td>5000.0</td>\n",
              "      <td>19.0</td>\n",
              "    </tr>\n",
              "    <tr>\n",
              "      <th>44255</th>\n",
              "      <td>2023-11-12 04:25:00+00:00</td>\n",
              "      <td>31.983299</td>\n",
              "      <td>35.983299</td>\n",
              "      <td>icao:OJAM</td>\n",
              "      <td>18.0</td>\n",
              "      <td>9.0</td>\n",
              "      <td>0.00</td>\n",
              "      <td>0.0</td>\n",
              "      <td>3000.0</td>\n",
              "      <td>18.0</td>\n",
              "    </tr>\n",
              "    <tr>\n",
              "      <th>44256</th>\n",
              "      <td>2023-11-12 05:00:00+00:00</td>\n",
              "      <td>31.983299</td>\n",
              "      <td>35.983299</td>\n",
              "      <td>icao:OJAM</td>\n",
              "      <td>18.0</td>\n",
              "      <td>9.0</td>\n",
              "      <td>0.00</td>\n",
              "      <td>0.0</td>\n",
              "      <td>3000.0</td>\n",
              "      <td>18.0</td>\n",
              "    </tr>\n",
              "    <tr>\n",
              "      <th>44257</th>\n",
              "      <td>2023-11-12 06:00:00+00:00</td>\n",
              "      <td>31.983299</td>\n",
              "      <td>35.983299</td>\n",
              "      <td>icao:OJAM</td>\n",
              "      <td>20.0</td>\n",
              "      <td>9.0</td>\n",
              "      <td>0.00</td>\n",
              "      <td>0.0</td>\n",
              "      <td>3000.0</td>\n",
              "      <td>20.0</td>\n",
              "    </tr>\n",
              "    <tr>\n",
              "      <th>44258</th>\n",
              "      <td>2023-11-12 07:00:00+00:00</td>\n",
              "      <td>31.983299</td>\n",
              "      <td>35.983299</td>\n",
              "      <td>icao:OJAM</td>\n",
              "      <td>22.0</td>\n",
              "      <td>11.0</td>\n",
              "      <td>0.00</td>\n",
              "      <td>0.0</td>\n",
              "      <td>3000.0</td>\n",
              "      <td>22.0</td>\n",
              "    </tr>\n",
              "  </tbody>\n",
              "</table>\n",
              "<p>43311 rows × 10 columns</p>\n",
              "</div>"
            ],
            "text/plain": [
              "                           time        lat        lng identifier  temperature  \\\n",
              "0     2019-01-01 00:00:00+00:00  31.983299  35.983299  icao:OJAM          7.0   \n",
              "3     2019-01-01 01:00:00+00:00  31.983299  35.983299  icao:OJAM          8.0   \n",
              "6     2019-01-01 02:00:00+00:00  31.983299  35.983299  icao:OJAM          8.0   \n",
              "9     2019-01-01 04:00:00+00:00  31.983299  35.983299  icao:OJAM          8.0   \n",
              "12    2019-01-01 05:00:00+00:00  31.983299  35.983299  icao:OJAM          8.0   \n",
              "...                         ...        ...        ...        ...          ...   \n",
              "44254 2023-11-12 04:00:00+00:00  31.983299  35.983299  icao:OJAM         19.0   \n",
              "44255 2023-11-12 04:25:00+00:00  31.983299  35.983299  icao:OJAM         18.0   \n",
              "44256 2023-11-12 05:00:00+00:00  31.983299  35.983299  icao:OJAM         18.0   \n",
              "44257 2023-11-12 06:00:00+00:00  31.983299  35.983299  icao:OJAM         20.0   \n",
              "44258 2023-11-12 07:00:00+00:00  31.983299  35.983299  icao:OJAM         22.0   \n",
              "\n",
              "       dew_point  wind_speed  wind_direction  visibility  temperature_original  \n",
              "0            3.0        1.54           120.0      5000.0                   7.0  \n",
              "3            3.0        1.54           120.0      9999.0                   8.0  \n",
              "6            3.0        1.54           120.0      9999.0                   8.0  \n",
              "9            2.0        2.57           150.0      9999.0                   8.0  \n",
              "12           2.0        3.60           130.0      9999.0                   8.0  \n",
              "...          ...         ...             ...         ...                   ...  \n",
              "44254        9.0        1.03             NaN      5000.0                  19.0  \n",
              "44255        9.0        0.00             0.0      3000.0                  18.0  \n",
              "44256        9.0        0.00             0.0      3000.0                  18.0  \n",
              "44257        9.0        0.00             0.0      3000.0                  20.0  \n",
              "44258       11.0        0.00             0.0      3000.0                  22.0  \n",
              "\n",
              "[43311 rows x 10 columns]"
            ]
          },
          "execution_count": 214,
          "metadata": {},
          "output_type": "execute_result"
        }
      ],
      "source": [
        "df"
      ]
    },
    {
      "cell_type": "code",
      "execution_count": null,
      "id": "c6bb6a5c",
      "metadata": {
        "id": "c6bb6a5c",
        "outputId": "0cf6a0d5-ad24-4d16-a132-211d1c2c92c2"
      },
      "outputs": [
        {
          "data": {
            "text/html": [
              "<div>\n",
              "<style scoped>\n",
              "    .dataframe tbody tr th:only-of-type {\n",
              "        vertical-align: middle;\n",
              "    }\n",
              "\n",
              "    .dataframe tbody tr th {\n",
              "        vertical-align: top;\n",
              "    }\n",
              "\n",
              "    .dataframe thead th {\n",
              "        text-align: right;\n",
              "    }\n",
              "</style>\n",
              "<table border=\"1\" class=\"dataframe\">\n",
              "  <thead>\n",
              "    <tr style=\"text-align: right;\">\n",
              "      <th></th>\n",
              "      <th>time</th>\n",
              "      <th>lat</th>\n",
              "      <th>lng</th>\n",
              "      <th>identifier</th>\n",
              "      <th>temperature</th>\n",
              "      <th>dew_point</th>\n",
              "      <th>wind_speed</th>\n",
              "      <th>wind_direction</th>\n",
              "      <th>visibility</th>\n",
              "    </tr>\n",
              "  </thead>\n",
              "  <tbody>\n",
              "    <tr>\n",
              "      <th>0</th>\n",
              "      <td>2019-01-01 00:00:00+00:00</td>\n",
              "      <td>31.983299</td>\n",
              "      <td>35.983299</td>\n",
              "      <td>icao:OJAM</td>\n",
              "      <td>7.0</td>\n",
              "      <td>3.0</td>\n",
              "      <td>1.54</td>\n",
              "      <td>120.0</td>\n",
              "      <td>5000.0</td>\n",
              "    </tr>\n",
              "    <tr>\n",
              "      <th>3</th>\n",
              "      <td>2019-01-01 01:00:00+00:00</td>\n",
              "      <td>31.983299</td>\n",
              "      <td>35.983299</td>\n",
              "      <td>icao:OJAM</td>\n",
              "      <td>8.0</td>\n",
              "      <td>3.0</td>\n",
              "      <td>1.54</td>\n",
              "      <td>120.0</td>\n",
              "      <td>9999.0</td>\n",
              "    </tr>\n",
              "    <tr>\n",
              "      <th>6</th>\n",
              "      <td>2019-01-01 02:00:00+00:00</td>\n",
              "      <td>31.983299</td>\n",
              "      <td>35.983299</td>\n",
              "      <td>icao:OJAM</td>\n",
              "      <td>8.0</td>\n",
              "      <td>3.0</td>\n",
              "      <td>1.54</td>\n",
              "      <td>120.0</td>\n",
              "      <td>9999.0</td>\n",
              "    </tr>\n",
              "    <tr>\n",
              "      <th>9</th>\n",
              "      <td>2019-01-01 04:00:00+00:00</td>\n",
              "      <td>31.983299</td>\n",
              "      <td>35.983299</td>\n",
              "      <td>icao:OJAM</td>\n",
              "      <td>8.0</td>\n",
              "      <td>2.0</td>\n",
              "      <td>2.57</td>\n",
              "      <td>150.0</td>\n",
              "      <td>9999.0</td>\n",
              "    </tr>\n",
              "    <tr>\n",
              "      <th>12</th>\n",
              "      <td>2019-01-01 05:00:00+00:00</td>\n",
              "      <td>31.983299</td>\n",
              "      <td>35.983299</td>\n",
              "      <td>icao:OJAM</td>\n",
              "      <td>8.0</td>\n",
              "      <td>2.0</td>\n",
              "      <td>3.60</td>\n",
              "      <td>130.0</td>\n",
              "      <td>9999.0</td>\n",
              "    </tr>\n",
              "    <tr>\n",
              "      <th>...</th>\n",
              "      <td>...</td>\n",
              "      <td>...</td>\n",
              "      <td>...</td>\n",
              "      <td>...</td>\n",
              "      <td>...</td>\n",
              "      <td>...</td>\n",
              "      <td>...</td>\n",
              "      <td>...</td>\n",
              "      <td>...</td>\n",
              "    </tr>\n",
              "    <tr>\n",
              "      <th>44254</th>\n",
              "      <td>2023-11-12 04:00:00+00:00</td>\n",
              "      <td>31.983299</td>\n",
              "      <td>35.983299</td>\n",
              "      <td>icao:OJAM</td>\n",
              "      <td>19.0</td>\n",
              "      <td>9.0</td>\n",
              "      <td>1.03</td>\n",
              "      <td>NaN</td>\n",
              "      <td>5000.0</td>\n",
              "    </tr>\n",
              "    <tr>\n",
              "      <th>44255</th>\n",
              "      <td>2023-11-12 04:25:00+00:00</td>\n",
              "      <td>31.983299</td>\n",
              "      <td>35.983299</td>\n",
              "      <td>icao:OJAM</td>\n",
              "      <td>18.0</td>\n",
              "      <td>9.0</td>\n",
              "      <td>0.00</td>\n",
              "      <td>0.0</td>\n",
              "      <td>3000.0</td>\n",
              "    </tr>\n",
              "    <tr>\n",
              "      <th>44256</th>\n",
              "      <td>2023-11-12 05:00:00+00:00</td>\n",
              "      <td>31.983299</td>\n",
              "      <td>35.983299</td>\n",
              "      <td>icao:OJAM</td>\n",
              "      <td>18.0</td>\n",
              "      <td>9.0</td>\n",
              "      <td>0.00</td>\n",
              "      <td>0.0</td>\n",
              "      <td>3000.0</td>\n",
              "    </tr>\n",
              "    <tr>\n",
              "      <th>44257</th>\n",
              "      <td>2023-11-12 06:00:00+00:00</td>\n",
              "      <td>31.983299</td>\n",
              "      <td>35.983299</td>\n",
              "      <td>icao:OJAM</td>\n",
              "      <td>20.0</td>\n",
              "      <td>9.0</td>\n",
              "      <td>0.00</td>\n",
              "      <td>0.0</td>\n",
              "      <td>3000.0</td>\n",
              "    </tr>\n",
              "    <tr>\n",
              "      <th>44258</th>\n",
              "      <td>2023-11-12 07:00:00+00:00</td>\n",
              "      <td>31.983299</td>\n",
              "      <td>35.983299</td>\n",
              "      <td>icao:OJAM</td>\n",
              "      <td>22.0</td>\n",
              "      <td>11.0</td>\n",
              "      <td>0.00</td>\n",
              "      <td>0.0</td>\n",
              "      <td>3000.0</td>\n",
              "    </tr>\n",
              "  </tbody>\n",
              "</table>\n",
              "<p>43311 rows × 9 columns</p>\n",
              "</div>"
            ],
            "text/plain": [
              "                           time        lat        lng identifier  temperature  \\\n",
              "0     2019-01-01 00:00:00+00:00  31.983299  35.983299  icao:OJAM          7.0   \n",
              "3     2019-01-01 01:00:00+00:00  31.983299  35.983299  icao:OJAM          8.0   \n",
              "6     2019-01-01 02:00:00+00:00  31.983299  35.983299  icao:OJAM          8.0   \n",
              "9     2019-01-01 04:00:00+00:00  31.983299  35.983299  icao:OJAM          8.0   \n",
              "12    2019-01-01 05:00:00+00:00  31.983299  35.983299  icao:OJAM          8.0   \n",
              "...                         ...        ...        ...        ...          ...   \n",
              "44254 2023-11-12 04:00:00+00:00  31.983299  35.983299  icao:OJAM         19.0   \n",
              "44255 2023-11-12 04:25:00+00:00  31.983299  35.983299  icao:OJAM         18.0   \n",
              "44256 2023-11-12 05:00:00+00:00  31.983299  35.983299  icao:OJAM         18.0   \n",
              "44257 2023-11-12 06:00:00+00:00  31.983299  35.983299  icao:OJAM         20.0   \n",
              "44258 2023-11-12 07:00:00+00:00  31.983299  35.983299  icao:OJAM         22.0   \n",
              "\n",
              "       dew_point  wind_speed  wind_direction  visibility  \n",
              "0            3.0        1.54           120.0      5000.0  \n",
              "3            3.0        1.54           120.0      9999.0  \n",
              "6            3.0        1.54           120.0      9999.0  \n",
              "9            2.0        2.57           150.0      9999.0  \n",
              "12           2.0        3.60           130.0      9999.0  \n",
              "...          ...         ...             ...         ...  \n",
              "44254        9.0        1.03             NaN      5000.0  \n",
              "44255        9.0        0.00             0.0      3000.0  \n",
              "44256        9.0        0.00             0.0      3000.0  \n",
              "44257        9.0        0.00             0.0      3000.0  \n",
              "44258       11.0        0.00             0.0      3000.0  \n",
              "\n",
              "[43311 rows x 9 columns]"
            ]
          },
          "execution_count": 215,
          "metadata": {},
          "output_type": "execute_result"
        }
      ],
      "source": [
        "df.drop('temperature_original',axis=1)"
      ]
    },
    {
      "cell_type": "code",
      "execution_count": null,
      "id": "0b76d3ec",
      "metadata": {
        "id": "0b76d3ec",
        "outputId": "50f80501-ce53-45a6-d697-fa3f61714415"
      },
      "outputs": [
        {
          "data": {
            "text/plain": [
              "array([  3.,   2.,   4.,   5.,   1.,   0.,  -2.,  -4.,  -3.,  -1.,  nan,\n",
              "        -5.,   6.,   7.,  -6., -11.,   8.,  10.,  11.,   9.,  -9.,  -8.,\n",
              "        12.,  -7.,  18., -26.,  14., -10.,  13.,  15.,  17.,  16.,  19.,\n",
              "       -21.,  22.,  20., -12., -13., -17., -14.,  29.,  28.,  23.,  21.,\n",
              "        24., -23., -15., -16.,  25.,  27.])"
            ]
          },
          "execution_count": 216,
          "metadata": {},
          "output_type": "execute_result"
        }
      ],
      "source": [
        "unique_dew=df['dew_point'].unique()\n",
        "unique_dew"
      ]
    },
    {
      "cell_type": "code",
      "execution_count": null,
      "id": "8ba6a260",
      "metadata": {
        "id": "8ba6a260",
        "outputId": "89d43317-6bff-4bfc-9991-d169f057b41f"
      },
      "outputs": [
        {
          "data": {
            "text/plain": [
              "110"
            ]
          },
          "execution_count": 217,
          "metadata": {},
          "output_type": "execute_result"
        }
      ],
      "source": [
        "df['dew_point'].isnull().sum()"
      ]
    },
    {
      "cell_type": "code",
      "execution_count": null,
      "id": "1d5a965d",
      "metadata": {
        "id": "1d5a965d",
        "outputId": "e837ca50-ad6b-4604-bd6f-fbd2f09982fb"
      },
      "outputs": [
        {
          "name": "stdout",
          "output_type": "stream",
          "text": [
            "Row indices with NaN values in the 'dew_point' column:\n",
            "Int64Index([  343,  1172,  1174,  1507,  2405,  2905,  3269,  3422,  3967,\n",
            "             4138,\n",
            "            ...\n",
            "            38495, 38726, 40080, 40205, 41514, 41516, 42910, 42911, 42913,\n",
            "            44111],\n",
            "           dtype='int64', length=110)\n"
          ]
        }
      ],
      "source": [
        "import pandas as pd\n",
        "\n",
        "# Assuming your data is in a DataFrame called 'df'\n",
        "# Replace 'temperature_column_name' with the actual column name containing the 'temperature' values\n",
        "rows_with_nan_indices = df[df['dew_point'].isnull()].index\n",
        "\n",
        "# Display or further process the row indices with NaN values in the 'temperature' column\n",
        "print(\"Row indices with NaN values in the 'dew_point' column:\")\n",
        "print(rows_with_nan_indices)\n"
      ]
    },
    {
      "cell_type": "code",
      "execution_count": null,
      "id": "8a2c78b1",
      "metadata": {
        "id": "8a2c78b1",
        "outputId": "7d17d4f6-feb4-4555-8c99-6dfed7b3dd11"
      },
      "outputs": [
        {
          "name": "stdout",
          "output_type": "stream",
          "text": [
            "                           time        lat        lng identifier  temperature  \\\n",
            "0     2019-01-01 00:00:00+00:00  31.983299  35.983299  icao:OJAM          7.0   \n",
            "3     2019-01-01 01:00:00+00:00  31.983299  35.983299  icao:OJAM          8.0   \n",
            "6     2019-01-01 02:00:00+00:00  31.983299  35.983299  icao:OJAM          8.0   \n",
            "9     2019-01-01 04:00:00+00:00  31.983299  35.983299  icao:OJAM          8.0   \n",
            "12    2019-01-01 05:00:00+00:00  31.983299  35.983299  icao:OJAM          8.0   \n",
            "...                         ...        ...        ...        ...          ...   \n",
            "44254 2023-11-12 04:00:00+00:00  31.983299  35.983299  icao:OJAM         19.0   \n",
            "44255 2023-11-12 04:25:00+00:00  31.983299  35.983299  icao:OJAM         18.0   \n",
            "44256 2023-11-12 05:00:00+00:00  31.983299  35.983299  icao:OJAM         18.0   \n",
            "44257 2023-11-12 06:00:00+00:00  31.983299  35.983299  icao:OJAM         20.0   \n",
            "44258 2023-11-12 07:00:00+00:00  31.983299  35.983299  icao:OJAM         22.0   \n",
            "\n",
            "       dew_point  wind_speed  wind_direction  visibility  \\\n",
            "0            3.0        1.54           120.0      5000.0   \n",
            "3            3.0        1.54           120.0      9999.0   \n",
            "6            3.0        1.54           120.0      9999.0   \n",
            "9            2.0        2.57           150.0      9999.0   \n",
            "12           2.0        3.60           130.0      9999.0   \n",
            "...          ...         ...             ...         ...   \n",
            "44254        9.0        1.03             NaN      5000.0   \n",
            "44255        9.0        0.00             0.0      3000.0   \n",
            "44256        9.0        0.00             0.0      3000.0   \n",
            "44257        9.0        0.00             0.0      3000.0   \n",
            "44258       11.0        0.00             0.0      3000.0   \n",
            "\n",
            "       temperature_original  dew_point_original  \n",
            "0                       7.0                 3.0  \n",
            "3                       8.0                 3.0  \n",
            "6                       8.0                 3.0  \n",
            "9                       8.0                 2.0  \n",
            "12                      8.0                 2.0  \n",
            "...                     ...                 ...  \n",
            "44254                  19.0                 9.0  \n",
            "44255                  18.0                 9.0  \n",
            "44256                  18.0                 9.0  \n",
            "44257                  20.0                 9.0  \n",
            "44258                  22.0                11.0  \n",
            "\n",
            "[43311 rows x 11 columns]\n"
          ]
        }
      ],
      "source": [
        "import pandas as pd\n",
        "\n",
        "# Assuming your data is in a DataFrame called 'df'\n",
        "# Assuming 'dew_point' is the column with missing values\n",
        "# Assuming 'time' is a column indicating the order of observations (temporal or spatial)\n",
        "\n",
        "# Sort the DataFrame based on the 'time' column\n",
        "df = df.sort_values(by='time')\n",
        "\n",
        "# Create a new column to store the original 'dew_point' values before imputation\n",
        "df['dew_point_original'] = df['dew_point']\n",
        "\n",
        "# Use linear interpolation to fill missing values\n",
        "df['dew_point'] = df['dew_point'].interpolate(method='linear')\n",
        "\n",
        "# Display or further process the DataFrame with interpolated values\n",
        "print(df)\n",
        "\n"
      ]
    },
    {
      "cell_type": "code",
      "execution_count": null,
      "id": "dd9f3dcd",
      "metadata": {
        "id": "dd9f3dcd",
        "outputId": "664e5828-9ffd-411c-b6c8-d56d825fa89b"
      },
      "outputs": [
        {
          "data": {
            "text/plain": [
              "0"
            ]
          },
          "execution_count": 220,
          "metadata": {},
          "output_type": "execute_result"
        }
      ],
      "source": [
        "df['dew_point'].isnull().sum()"
      ]
    },
    {
      "cell_type": "code",
      "execution_count": null,
      "id": "a110ac36",
      "metadata": {
        "id": "a110ac36",
        "outputId": "d9c0f3b8-55e0-482f-e827-c87d66258bee"
      },
      "outputs": [
        {
          "name": "stdout",
          "output_type": "stream",
          "text": [
            "Index: 1507, Predicted Value: -0.5\n",
            "Index: 2405, Predicted Value: -1.0\n",
            "Index: 3269, Predicted Value: 8.0\n",
            "Index: 4138, Predicted Value: 8.0\n",
            "Index: 1172, Predicted Value: 2.5\n",
            "Index: 1174, Predicted Value: 1.5\n",
            "Index: 343, Predicted Value: 5.0\n",
            "Index: 2905, Predicted Value: 6.5\n",
            "Index: 3422, Predicted Value: 5.0\n",
            "Index: 3967, Predicted Value: 4.5\n"
          ]
        }
      ],
      "source": [
        "import pandas as pd\n",
        "\n",
        "# Assuming your data is in a DataFrame called 'df'\n",
        "# Assuming 'dew_point' is the column with missing values\n",
        "# Assuming 'time' is a column indicating the order of observations (temporal or spatial)\n",
        "\n",
        "# Create a new column to store the original values before interpolation\n",
        "df['dew_point_original'] = df['dew_point']\n",
        "\n",
        "# Use linear interpolation to fill missing values\n",
        "df['dew_point'] = df['dew_point'].interpolate(method='linear')\n",
        "\n",
        "# Indices of interest\n",
        "indices_of_interest = [343, 1172, 1174, 1507, 2405, 2905, 3269, 3422, 3967, 4138]\n",
        "\n",
        "# Filter indices that are present in the DataFrame\n",
        "valid_indices = set(indices_of_interest).intersection(df.index)\n",
        "\n",
        "# Extract the predicted values for the valid indices\n",
        "predicted_values = df.loc[valid_indices, 'dew_point']\n",
        "\n",
        "# Display the indices and predicted values\n",
        "for index, value in predicted_values.iteritems():\n",
        "    print(f\"Index: {index}, Predicted Value: {value}\")\n"
      ]
    },
    {
      "cell_type": "code",
      "execution_count": null,
      "id": "857b3591",
      "metadata": {
        "id": "857b3591",
        "outputId": "dea26892-84ac-4f7c-c2ac-ca4a2dcbdf64"
      },
      "outputs": [
        {
          "data": {
            "text/html": [
              "<div>\n",
              "<style scoped>\n",
              "    .dataframe tbody tr th:only-of-type {\n",
              "        vertical-align: middle;\n",
              "    }\n",
              "\n",
              "    .dataframe tbody tr th {\n",
              "        vertical-align: top;\n",
              "    }\n",
              "\n",
              "    .dataframe thead th {\n",
              "        text-align: right;\n",
              "    }\n",
              "</style>\n",
              "<table border=\"1\" class=\"dataframe\">\n",
              "  <thead>\n",
              "    <tr style=\"text-align: right;\">\n",
              "      <th></th>\n",
              "      <th>time</th>\n",
              "      <th>lat</th>\n",
              "      <th>lng</th>\n",
              "      <th>identifier</th>\n",
              "      <th>temperature</th>\n",
              "      <th>dew_point</th>\n",
              "      <th>wind_speed</th>\n",
              "      <th>wind_direction</th>\n",
              "      <th>visibility</th>\n",
              "      <th>temperature_original</th>\n",
              "      <th>dew_point_original</th>\n",
              "    </tr>\n",
              "  </thead>\n",
              "  <tbody>\n",
              "    <tr>\n",
              "      <th>0</th>\n",
              "      <td>2019-01-01 00:00:00+00:00</td>\n",
              "      <td>31.983299</td>\n",
              "      <td>35.983299</td>\n",
              "      <td>icao:OJAM</td>\n",
              "      <td>7.0</td>\n",
              "      <td>3.0</td>\n",
              "      <td>1.54</td>\n",
              "      <td>120.0</td>\n",
              "      <td>5000.0</td>\n",
              "      <td>7.0</td>\n",
              "      <td>3.0</td>\n",
              "    </tr>\n",
              "    <tr>\n",
              "      <th>3</th>\n",
              "      <td>2019-01-01 01:00:00+00:00</td>\n",
              "      <td>31.983299</td>\n",
              "      <td>35.983299</td>\n",
              "      <td>icao:OJAM</td>\n",
              "      <td>8.0</td>\n",
              "      <td>3.0</td>\n",
              "      <td>1.54</td>\n",
              "      <td>120.0</td>\n",
              "      <td>9999.0</td>\n",
              "      <td>8.0</td>\n",
              "      <td>3.0</td>\n",
              "    </tr>\n",
              "    <tr>\n",
              "      <th>6</th>\n",
              "      <td>2019-01-01 02:00:00+00:00</td>\n",
              "      <td>31.983299</td>\n",
              "      <td>35.983299</td>\n",
              "      <td>icao:OJAM</td>\n",
              "      <td>8.0</td>\n",
              "      <td>3.0</td>\n",
              "      <td>1.54</td>\n",
              "      <td>120.0</td>\n",
              "      <td>9999.0</td>\n",
              "      <td>8.0</td>\n",
              "      <td>3.0</td>\n",
              "    </tr>\n",
              "    <tr>\n",
              "      <th>9</th>\n",
              "      <td>2019-01-01 04:00:00+00:00</td>\n",
              "      <td>31.983299</td>\n",
              "      <td>35.983299</td>\n",
              "      <td>icao:OJAM</td>\n",
              "      <td>8.0</td>\n",
              "      <td>2.0</td>\n",
              "      <td>2.57</td>\n",
              "      <td>150.0</td>\n",
              "      <td>9999.0</td>\n",
              "      <td>8.0</td>\n",
              "      <td>2.0</td>\n",
              "    </tr>\n",
              "    <tr>\n",
              "      <th>12</th>\n",
              "      <td>2019-01-01 05:00:00+00:00</td>\n",
              "      <td>31.983299</td>\n",
              "      <td>35.983299</td>\n",
              "      <td>icao:OJAM</td>\n",
              "      <td>8.0</td>\n",
              "      <td>2.0</td>\n",
              "      <td>3.60</td>\n",
              "      <td>130.0</td>\n",
              "      <td>9999.0</td>\n",
              "      <td>8.0</td>\n",
              "      <td>2.0</td>\n",
              "    </tr>\n",
              "    <tr>\n",
              "      <th>...</th>\n",
              "      <td>...</td>\n",
              "      <td>...</td>\n",
              "      <td>...</td>\n",
              "      <td>...</td>\n",
              "      <td>...</td>\n",
              "      <td>...</td>\n",
              "      <td>...</td>\n",
              "      <td>...</td>\n",
              "      <td>...</td>\n",
              "      <td>...</td>\n",
              "      <td>...</td>\n",
              "    </tr>\n",
              "    <tr>\n",
              "      <th>44254</th>\n",
              "      <td>2023-11-12 04:00:00+00:00</td>\n",
              "      <td>31.983299</td>\n",
              "      <td>35.983299</td>\n",
              "      <td>icao:OJAM</td>\n",
              "      <td>19.0</td>\n",
              "      <td>9.0</td>\n",
              "      <td>1.03</td>\n",
              "      <td>NaN</td>\n",
              "      <td>5000.0</td>\n",
              "      <td>19.0</td>\n",
              "      <td>9.0</td>\n",
              "    </tr>\n",
              "    <tr>\n",
              "      <th>44255</th>\n",
              "      <td>2023-11-12 04:25:00+00:00</td>\n",
              "      <td>31.983299</td>\n",
              "      <td>35.983299</td>\n",
              "      <td>icao:OJAM</td>\n",
              "      <td>18.0</td>\n",
              "      <td>9.0</td>\n",
              "      <td>0.00</td>\n",
              "      <td>0.0</td>\n",
              "      <td>3000.0</td>\n",
              "      <td>18.0</td>\n",
              "      <td>9.0</td>\n",
              "    </tr>\n",
              "    <tr>\n",
              "      <th>44256</th>\n",
              "      <td>2023-11-12 05:00:00+00:00</td>\n",
              "      <td>31.983299</td>\n",
              "      <td>35.983299</td>\n",
              "      <td>icao:OJAM</td>\n",
              "      <td>18.0</td>\n",
              "      <td>9.0</td>\n",
              "      <td>0.00</td>\n",
              "      <td>0.0</td>\n",
              "      <td>3000.0</td>\n",
              "      <td>18.0</td>\n",
              "      <td>9.0</td>\n",
              "    </tr>\n",
              "    <tr>\n",
              "      <th>44257</th>\n",
              "      <td>2023-11-12 06:00:00+00:00</td>\n",
              "      <td>31.983299</td>\n",
              "      <td>35.983299</td>\n",
              "      <td>icao:OJAM</td>\n",
              "      <td>20.0</td>\n",
              "      <td>9.0</td>\n",
              "      <td>0.00</td>\n",
              "      <td>0.0</td>\n",
              "      <td>3000.0</td>\n",
              "      <td>20.0</td>\n",
              "      <td>9.0</td>\n",
              "    </tr>\n",
              "    <tr>\n",
              "      <th>44258</th>\n",
              "      <td>2023-11-12 07:00:00+00:00</td>\n",
              "      <td>31.983299</td>\n",
              "      <td>35.983299</td>\n",
              "      <td>icao:OJAM</td>\n",
              "      <td>22.0</td>\n",
              "      <td>11.0</td>\n",
              "      <td>0.00</td>\n",
              "      <td>0.0</td>\n",
              "      <td>3000.0</td>\n",
              "      <td>22.0</td>\n",
              "      <td>11.0</td>\n",
              "    </tr>\n",
              "  </tbody>\n",
              "</table>\n",
              "<p>43311 rows × 11 columns</p>\n",
              "</div>"
            ],
            "text/plain": [
              "                           time        lat        lng identifier  temperature  \\\n",
              "0     2019-01-01 00:00:00+00:00  31.983299  35.983299  icao:OJAM          7.0   \n",
              "3     2019-01-01 01:00:00+00:00  31.983299  35.983299  icao:OJAM          8.0   \n",
              "6     2019-01-01 02:00:00+00:00  31.983299  35.983299  icao:OJAM          8.0   \n",
              "9     2019-01-01 04:00:00+00:00  31.983299  35.983299  icao:OJAM          8.0   \n",
              "12    2019-01-01 05:00:00+00:00  31.983299  35.983299  icao:OJAM          8.0   \n",
              "...                         ...        ...        ...        ...          ...   \n",
              "44254 2023-11-12 04:00:00+00:00  31.983299  35.983299  icao:OJAM         19.0   \n",
              "44255 2023-11-12 04:25:00+00:00  31.983299  35.983299  icao:OJAM         18.0   \n",
              "44256 2023-11-12 05:00:00+00:00  31.983299  35.983299  icao:OJAM         18.0   \n",
              "44257 2023-11-12 06:00:00+00:00  31.983299  35.983299  icao:OJAM         20.0   \n",
              "44258 2023-11-12 07:00:00+00:00  31.983299  35.983299  icao:OJAM         22.0   \n",
              "\n",
              "       dew_point  wind_speed  wind_direction  visibility  \\\n",
              "0            3.0        1.54           120.0      5000.0   \n",
              "3            3.0        1.54           120.0      9999.0   \n",
              "6            3.0        1.54           120.0      9999.0   \n",
              "9            2.0        2.57           150.0      9999.0   \n",
              "12           2.0        3.60           130.0      9999.0   \n",
              "...          ...         ...             ...         ...   \n",
              "44254        9.0        1.03             NaN      5000.0   \n",
              "44255        9.0        0.00             0.0      3000.0   \n",
              "44256        9.0        0.00             0.0      3000.0   \n",
              "44257        9.0        0.00             0.0      3000.0   \n",
              "44258       11.0        0.00             0.0      3000.0   \n",
              "\n",
              "       temperature_original  dew_point_original  \n",
              "0                       7.0                 3.0  \n",
              "3                       8.0                 3.0  \n",
              "6                       8.0                 3.0  \n",
              "9                       8.0                 2.0  \n",
              "12                      8.0                 2.0  \n",
              "...                     ...                 ...  \n",
              "44254                  19.0                 9.0  \n",
              "44255                  18.0                 9.0  \n",
              "44256                  18.0                 9.0  \n",
              "44257                  20.0                 9.0  \n",
              "44258                  22.0                11.0  \n",
              "\n",
              "[43311 rows x 11 columns]"
            ]
          },
          "execution_count": 222,
          "metadata": {},
          "output_type": "execute_result"
        }
      ],
      "source": [
        "df"
      ]
    },
    {
      "cell_type": "code",
      "execution_count": null,
      "id": "15b9dea9",
      "metadata": {
        "id": "15b9dea9",
        "outputId": "7a16ef44-6fc1-45dd-8bf8-803e42fb2917"
      },
      "outputs": [
        {
          "data": {
            "text/plain": [
              "array([ 1.54,  2.57,  3.6 ,  2.06,  3.09,  0.  ,  4.12,  5.14,  6.17,\n",
              "        5.66,  8.23,  7.2 , 10.29,  4.63,  6.69, 12.86, 15.43, 13.89,\n",
              "       14.4 , 13.38,  9.26, 11.83, 10.8 ,  7.72,  8.75, 11.32, 16.46,\n",
              "        1.03,  9.77, 12.35,   nan,  0.51, 25.72, 20.58, 16.98, 37.04,\n",
              "       46.3 ])"
            ]
          },
          "execution_count": 223,
          "metadata": {},
          "output_type": "execute_result"
        }
      ],
      "source": [
        "df['wind_speed'].unique()"
      ]
    },
    {
      "cell_type": "code",
      "execution_count": null,
      "id": "e360d38e",
      "metadata": {
        "id": "e360d38e",
        "outputId": "69e21a90-f1ae-4b51-ec65-63ea7d81544e"
      },
      "outputs": [
        {
          "data": {
            "text/plain": [
              "6"
            ]
          },
          "execution_count": 224,
          "metadata": {},
          "output_type": "execute_result"
        }
      ],
      "source": [
        "df['wind_speed'].isnull().sum()"
      ]
    },
    {
      "cell_type": "code",
      "execution_count": null,
      "id": "df2143c8",
      "metadata": {
        "id": "df2143c8"
      },
      "outputs": [],
      "source": [
        "import pandas as pd\n",
        "\n",
        "# Assuming your data is in a DataFrame called 'df'\n",
        "# Assuming 'wind_speed' is the column with potential null values\n",
        "\n",
        "# Drop rows with null values in the 'wind_speed' column\n",
        "df.dropna(subset=['wind_speed'], inplace=True)\n",
        "\n",
        "# Now 'df' contains no null values in the 'wind_speed' column\n"
      ]
    },
    {
      "cell_type": "code",
      "execution_count": null,
      "id": "cb2e7ad0",
      "metadata": {
        "id": "cb2e7ad0",
        "outputId": "4e275896-16fe-47d0-c0d1-7babcb5a0f32"
      },
      "outputs": [
        {
          "data": {
            "text/plain": [
              "0"
            ]
          },
          "execution_count": 226,
          "metadata": {},
          "output_type": "execute_result"
        }
      ],
      "source": [
        "df['wind_speed'].isnull().sum()"
      ]
    },
    {
      "cell_type": "code",
      "execution_count": null,
      "id": "792a4ec0",
      "metadata": {
        "id": "792a4ec0",
        "outputId": "ed363f1a-a454-433b-8a4b-99f99772b1f0"
      },
      "outputs": [
        {
          "data": {
            "text/plain": [
              "array([120., 150., 130.,  80.,  90., 100.,  50.,   0., 230., 220., 250.,\n",
              "       260., 240., 200., 140., 170., 190., 270.,  40., 350., 320., 180.,\n",
              "       210., 280.,  60.,  70., 110., 290.,  20.,  30., 160., 330., 310.,\n",
              "       300., 340., 360.,  10.,  12.,  nan, 325.,  11., 307., 390.,   8.,\n",
              "       275.,  23.,  22.,  35.,  32., 175., 235.,  24., 106., 215., 265.,\n",
              "       520., 105., 211., 272., 315., 305., 306., 254.,   7.,  87.,  67.,\n",
              "         9., 255., 400., 115., 620., 311., 125., 298., 370.])"
            ]
          },
          "execution_count": 227,
          "metadata": {},
          "output_type": "execute_result"
        }
      ],
      "source": [
        "df['wind_direction'].unique()"
      ]
    },
    {
      "cell_type": "code",
      "execution_count": null,
      "id": "e38a2f64",
      "metadata": {
        "id": "e38a2f64",
        "outputId": "9c6747af-adf1-402e-cc1b-06345c6c957f"
      },
      "outputs": [
        {
          "data": {
            "text/plain": [
              "578"
            ]
          },
          "execution_count": 228,
          "metadata": {},
          "output_type": "execute_result"
        }
      ],
      "source": [
        "df['wind_direction'].isnull().sum()"
      ]
    },
    {
      "cell_type": "code",
      "execution_count": null,
      "id": "3cdaef87",
      "metadata": {
        "id": "3cdaef87",
        "outputId": "6eb4fe8b-4c55-4ef1-9b3c-e68232a85a28"
      },
      "outputs": [
        {
          "name": "stdout",
          "output_type": "stream",
          "text": [
            "Row indices with NaN values in the 'wind_direction' column:\n",
            "Int64Index([ 2885,  7134,  7137,  7138,  7239,  7453,  7454,  7892,  7893,\n",
            "             8029,\n",
            "            ...\n",
            "            44125, 44126, 44127, 44133, 44134, 44137, 44200, 44212, 44234,\n",
            "            44254],\n",
            "           dtype='int64', length=578)\n"
          ]
        }
      ],
      "source": [
        "import pandas as pd\n",
        "\n",
        "# Assuming your data is in a DataFrame called 'df'\n",
        "# Replace 'temperature_column_name' with the actual column name containing the 'temperature' values\n",
        "rows_with_nan_indices = df[df['wind_direction'].isnull()].index\n",
        "\n",
        "# Display or further process the row indices with NaN values in the 'temperature' column\n",
        "print(\"Row indices with NaN values in the 'wind_direction' column:\")\n",
        "print(rows_with_nan_indices)"
      ]
    },
    {
      "cell_type": "code",
      "execution_count": null,
      "id": "7a914621",
      "metadata": {
        "id": "7a914621"
      },
      "outputs": [],
      "source": [
        "# Assuming your data is in a DataFrame called 'df'\n",
        "# Assuming 'wind_direction' is the column with missing values\n",
        "\n",
        "# Use linear interpolation with limitations\n",
        "df['wind_direction'] = df['wind_direction'].interpolate(limit_area='inside', limit_direction='both')\n"
      ]
    },
    {
      "cell_type": "code",
      "execution_count": null,
      "id": "c9f4ded2",
      "metadata": {
        "id": "c9f4ded2",
        "outputId": "44886817-931a-4fc6-a8e7-fc8cd321b173"
      },
      "outputs": [
        {
          "data": {
            "text/plain": [
              "0"
            ]
          },
          "execution_count": 231,
          "metadata": {},
          "output_type": "execute_result"
        }
      ],
      "source": [
        "df['wind_direction'].isnull().sum()"
      ]
    },
    {
      "cell_type": "code",
      "execution_count": null,
      "id": "1f33cdd7",
      "metadata": {
        "id": "1f33cdd7",
        "outputId": "3e2c08cf-6612-4f18-f263-62d0c2a612e7"
      },
      "outputs": [
        {
          "name": "stdout",
          "output_type": "stream",
          "text": [
            "Index: 2885, Predicted Value: 120.0\n",
            "Index: 7134, Predicted Value: 25.0\n",
            "Index: 7137, Predicted Value: 193.33333333333334\n",
            "Index: 7138, Predicted Value: 256.6666666666667\n",
            "Index: 7239, Predicted Value: 180.0\n",
            "Index: 7453, Predicted Value: 116.66666666666667\n",
            "Index: 7454, Predicted Value: 233.33333333333334\n",
            "Index: 7892, Predicted Value: 83.33333333333333\n",
            "Index: 7893, Predicted Value: 166.66666666666666\n",
            "Index: 8029, Predicted Value: 75.0\n"
          ]
        }
      ],
      "source": [
        "import pandas as pd\n",
        "\n",
        "# Assuming your data is in a DataFrame called 'df'\n",
        "# Assuming 'wind_direction' is the column with missing values\n",
        "\n",
        "# Use linear interpolation with limitations\n",
        "df['wind_direction'] = df['wind_direction'].interpolate(limit_area='inside', limit_direction='both')\n",
        "\n",
        "# Indices of interest\n",
        "indices_of_interest = [2885, 7134, 7137, 7138, 7239, 7453, 7454, 7892, 7893, 8029]\n",
        "\n",
        "# Extract the predicted values for the specified indices\n",
        "predicted_values = df.loc[indices_of_interest, 'wind_direction']\n",
        "\n",
        "# Display the indices and predicted values\n",
        "for index, value in predicted_values.iteritems():\n",
        "    print(f\"Index: {index}, Predicted Value: {value}\")\n"
      ]
    },
    {
      "cell_type": "code",
      "execution_count": null,
      "id": "0e428aa5",
      "metadata": {
        "id": "0e428aa5",
        "outputId": "9f6bb811-02c0-4494-e81c-35d0271d1386"
      },
      "outputs": [
        {
          "data": {
            "text/plain": [
              "array([5000., 9999., 8000., 7000., 6000., 4000., 3500., 1500., 1000.,\n",
              "       3000., 1200., 2000., 2500., 9000.,  900.,  500., 1100.,  100.,\n",
              "        400., 4500.,   nan,  800.,  700.,  600.,  250.,    0., 1400.,\n",
              "       1300., 4800., 2600., 3200., 1800.,  200.,  300., 1700., 1600.,\n",
              "       2800., 3100., 4200., 3700., 3600.,  150.,   50., 3800., 3300.,\n",
              "       2700., 4700., 4400.])"
            ]
          },
          "execution_count": 233,
          "metadata": {},
          "output_type": "execute_result"
        }
      ],
      "source": [
        "df['visibility'].unique()"
      ]
    },
    {
      "cell_type": "code",
      "execution_count": null,
      "id": "c49fe7d0",
      "metadata": {
        "id": "c49fe7d0",
        "outputId": "57987577-8cc4-49cd-9e01-1b024a7eeccb"
      },
      "outputs": [
        {
          "data": {
            "text/plain": [
              "25"
            ]
          },
          "execution_count": 234,
          "metadata": {},
          "output_type": "execute_result"
        }
      ],
      "source": [
        "df['visibility'].isnull().sum()"
      ]
    },
    {
      "cell_type": "code",
      "execution_count": null,
      "id": "f167fc14",
      "metadata": {
        "id": "f167fc14"
      },
      "outputs": [],
      "source": [
        "import pandas as pd\n",
        "\n",
        "# Assuming your data is in a DataFrame called 'df'\n",
        "# Assuming 'visibility' is the column for which you want to drop null values\n",
        "\n",
        "# Drop rows with null values in the 'visibility' column\n",
        "df.dropna(subset=['visibility'], inplace=True)\n",
        "\n",
        "# Now 'df' contains no null values in the 'visibility' column\n"
      ]
    },
    {
      "cell_type": "code",
      "execution_count": null,
      "id": "1a9d2e35",
      "metadata": {
        "id": "1a9d2e35",
        "outputId": "cd7ee4f9-9b34-4fbe-c577-83db9918a86d"
      },
      "outputs": [
        {
          "data": {
            "text/plain": [
              "0"
            ]
          },
          "execution_count": 236,
          "metadata": {},
          "output_type": "execute_result"
        }
      ],
      "source": [
        "df['visibility'].isnull().sum()"
      ]
    },
    {
      "cell_type": "code",
      "execution_count": null,
      "id": "e36cd61b",
      "metadata": {
        "id": "e36cd61b",
        "outputId": "34f75fe7-b2fe-4fa0-c501-e9ff7004f6ec"
      },
      "outputs": [
        {
          "data": {
            "text/html": [
              "<div>\n",
              "<style scoped>\n",
              "    .dataframe tbody tr th:only-of-type {\n",
              "        vertical-align: middle;\n",
              "    }\n",
              "\n",
              "    .dataframe tbody tr th {\n",
              "        vertical-align: top;\n",
              "    }\n",
              "\n",
              "    .dataframe thead th {\n",
              "        text-align: right;\n",
              "    }\n",
              "</style>\n",
              "<table border=\"1\" class=\"dataframe\">\n",
              "  <thead>\n",
              "    <tr style=\"text-align: right;\">\n",
              "      <th></th>\n",
              "      <th>time</th>\n",
              "      <th>lat</th>\n",
              "      <th>lng</th>\n",
              "      <th>identifier</th>\n",
              "      <th>temperature</th>\n",
              "      <th>dew_point</th>\n",
              "      <th>wind_speed</th>\n",
              "      <th>wind_direction</th>\n",
              "      <th>visibility</th>\n",
              "      <th>temperature_original</th>\n",
              "      <th>dew_point_original</th>\n",
              "    </tr>\n",
              "  </thead>\n",
              "  <tbody>\n",
              "    <tr>\n",
              "      <th>0</th>\n",
              "      <td>2019-01-01 00:00:00+00:00</td>\n",
              "      <td>31.983299</td>\n",
              "      <td>35.983299</td>\n",
              "      <td>icao:OJAM</td>\n",
              "      <td>7.0</td>\n",
              "      <td>3.0</td>\n",
              "      <td>1.54</td>\n",
              "      <td>120.0</td>\n",
              "      <td>5000.0</td>\n",
              "      <td>7.0</td>\n",
              "      <td>3.0</td>\n",
              "    </tr>\n",
              "    <tr>\n",
              "      <th>3</th>\n",
              "      <td>2019-01-01 01:00:00+00:00</td>\n",
              "      <td>31.983299</td>\n",
              "      <td>35.983299</td>\n",
              "      <td>icao:OJAM</td>\n",
              "      <td>8.0</td>\n",
              "      <td>3.0</td>\n",
              "      <td>1.54</td>\n",
              "      <td>120.0</td>\n",
              "      <td>9999.0</td>\n",
              "      <td>8.0</td>\n",
              "      <td>3.0</td>\n",
              "    </tr>\n",
              "    <tr>\n",
              "      <th>6</th>\n",
              "      <td>2019-01-01 02:00:00+00:00</td>\n",
              "      <td>31.983299</td>\n",
              "      <td>35.983299</td>\n",
              "      <td>icao:OJAM</td>\n",
              "      <td>8.0</td>\n",
              "      <td>3.0</td>\n",
              "      <td>1.54</td>\n",
              "      <td>120.0</td>\n",
              "      <td>9999.0</td>\n",
              "      <td>8.0</td>\n",
              "      <td>3.0</td>\n",
              "    </tr>\n",
              "    <tr>\n",
              "      <th>9</th>\n",
              "      <td>2019-01-01 04:00:00+00:00</td>\n",
              "      <td>31.983299</td>\n",
              "      <td>35.983299</td>\n",
              "      <td>icao:OJAM</td>\n",
              "      <td>8.0</td>\n",
              "      <td>2.0</td>\n",
              "      <td>2.57</td>\n",
              "      <td>150.0</td>\n",
              "      <td>9999.0</td>\n",
              "      <td>8.0</td>\n",
              "      <td>2.0</td>\n",
              "    </tr>\n",
              "    <tr>\n",
              "      <th>12</th>\n",
              "      <td>2019-01-01 05:00:00+00:00</td>\n",
              "      <td>31.983299</td>\n",
              "      <td>35.983299</td>\n",
              "      <td>icao:OJAM</td>\n",
              "      <td>8.0</td>\n",
              "      <td>2.0</td>\n",
              "      <td>3.60</td>\n",
              "      <td>130.0</td>\n",
              "      <td>9999.0</td>\n",
              "      <td>8.0</td>\n",
              "      <td>2.0</td>\n",
              "    </tr>\n",
              "    <tr>\n",
              "      <th>...</th>\n",
              "      <td>...</td>\n",
              "      <td>...</td>\n",
              "      <td>...</td>\n",
              "      <td>...</td>\n",
              "      <td>...</td>\n",
              "      <td>...</td>\n",
              "      <td>...</td>\n",
              "      <td>...</td>\n",
              "      <td>...</td>\n",
              "      <td>...</td>\n",
              "      <td>...</td>\n",
              "    </tr>\n",
              "    <tr>\n",
              "      <th>44254</th>\n",
              "      <td>2023-11-12 04:00:00+00:00</td>\n",
              "      <td>31.983299</td>\n",
              "      <td>35.983299</td>\n",
              "      <td>icao:OJAM</td>\n",
              "      <td>19.0</td>\n",
              "      <td>9.0</td>\n",
              "      <td>1.03</td>\n",
              "      <td>145.0</td>\n",
              "      <td>5000.0</td>\n",
              "      <td>19.0</td>\n",
              "      <td>9.0</td>\n",
              "    </tr>\n",
              "    <tr>\n",
              "      <th>44255</th>\n",
              "      <td>2023-11-12 04:25:00+00:00</td>\n",
              "      <td>31.983299</td>\n",
              "      <td>35.983299</td>\n",
              "      <td>icao:OJAM</td>\n",
              "      <td>18.0</td>\n",
              "      <td>9.0</td>\n",
              "      <td>0.00</td>\n",
              "      <td>0.0</td>\n",
              "      <td>3000.0</td>\n",
              "      <td>18.0</td>\n",
              "      <td>9.0</td>\n",
              "    </tr>\n",
              "    <tr>\n",
              "      <th>44256</th>\n",
              "      <td>2023-11-12 05:00:00+00:00</td>\n",
              "      <td>31.983299</td>\n",
              "      <td>35.983299</td>\n",
              "      <td>icao:OJAM</td>\n",
              "      <td>18.0</td>\n",
              "      <td>9.0</td>\n",
              "      <td>0.00</td>\n",
              "      <td>0.0</td>\n",
              "      <td>3000.0</td>\n",
              "      <td>18.0</td>\n",
              "      <td>9.0</td>\n",
              "    </tr>\n",
              "    <tr>\n",
              "      <th>44257</th>\n",
              "      <td>2023-11-12 06:00:00+00:00</td>\n",
              "      <td>31.983299</td>\n",
              "      <td>35.983299</td>\n",
              "      <td>icao:OJAM</td>\n",
              "      <td>20.0</td>\n",
              "      <td>9.0</td>\n",
              "      <td>0.00</td>\n",
              "      <td>0.0</td>\n",
              "      <td>3000.0</td>\n",
              "      <td>20.0</td>\n",
              "      <td>9.0</td>\n",
              "    </tr>\n",
              "    <tr>\n",
              "      <th>44258</th>\n",
              "      <td>2023-11-12 07:00:00+00:00</td>\n",
              "      <td>31.983299</td>\n",
              "      <td>35.983299</td>\n",
              "      <td>icao:OJAM</td>\n",
              "      <td>22.0</td>\n",
              "      <td>11.0</td>\n",
              "      <td>0.00</td>\n",
              "      <td>0.0</td>\n",
              "      <td>3000.0</td>\n",
              "      <td>22.0</td>\n",
              "      <td>11.0</td>\n",
              "    </tr>\n",
              "  </tbody>\n",
              "</table>\n",
              "<p>43280 rows × 11 columns</p>\n",
              "</div>"
            ],
            "text/plain": [
              "                           time        lat        lng identifier  temperature  \\\n",
              "0     2019-01-01 00:00:00+00:00  31.983299  35.983299  icao:OJAM          7.0   \n",
              "3     2019-01-01 01:00:00+00:00  31.983299  35.983299  icao:OJAM          8.0   \n",
              "6     2019-01-01 02:00:00+00:00  31.983299  35.983299  icao:OJAM          8.0   \n",
              "9     2019-01-01 04:00:00+00:00  31.983299  35.983299  icao:OJAM          8.0   \n",
              "12    2019-01-01 05:00:00+00:00  31.983299  35.983299  icao:OJAM          8.0   \n",
              "...                         ...        ...        ...        ...          ...   \n",
              "44254 2023-11-12 04:00:00+00:00  31.983299  35.983299  icao:OJAM         19.0   \n",
              "44255 2023-11-12 04:25:00+00:00  31.983299  35.983299  icao:OJAM         18.0   \n",
              "44256 2023-11-12 05:00:00+00:00  31.983299  35.983299  icao:OJAM         18.0   \n",
              "44257 2023-11-12 06:00:00+00:00  31.983299  35.983299  icao:OJAM         20.0   \n",
              "44258 2023-11-12 07:00:00+00:00  31.983299  35.983299  icao:OJAM         22.0   \n",
              "\n",
              "       dew_point  wind_speed  wind_direction  visibility  \\\n",
              "0            3.0        1.54           120.0      5000.0   \n",
              "3            3.0        1.54           120.0      9999.0   \n",
              "6            3.0        1.54           120.0      9999.0   \n",
              "9            2.0        2.57           150.0      9999.0   \n",
              "12           2.0        3.60           130.0      9999.0   \n",
              "...          ...         ...             ...         ...   \n",
              "44254        9.0        1.03           145.0      5000.0   \n",
              "44255        9.0        0.00             0.0      3000.0   \n",
              "44256        9.0        0.00             0.0      3000.0   \n",
              "44257        9.0        0.00             0.0      3000.0   \n",
              "44258       11.0        0.00             0.0      3000.0   \n",
              "\n",
              "       temperature_original  dew_point_original  \n",
              "0                       7.0                 3.0  \n",
              "3                       8.0                 3.0  \n",
              "6                       8.0                 3.0  \n",
              "9                       8.0                 2.0  \n",
              "12                      8.0                 2.0  \n",
              "...                     ...                 ...  \n",
              "44254                  19.0                 9.0  \n",
              "44255                  18.0                 9.0  \n",
              "44256                  18.0                 9.0  \n",
              "44257                  20.0                 9.0  \n",
              "44258                  22.0                11.0  \n",
              "\n",
              "[43280 rows x 11 columns]"
            ]
          },
          "execution_count": 237,
          "metadata": {},
          "output_type": "execute_result"
        }
      ],
      "source": [
        "df"
      ]
    },
    {
      "cell_type": "code",
      "execution_count": null,
      "id": "9d3a83c1",
      "metadata": {
        "id": "9d3a83c1"
      },
      "outputs": [],
      "source": [
        "## feature engineering"
      ]
    },
    {
      "cell_type": "code",
      "execution_count": null,
      "id": "9cc3a0fc",
      "metadata": {
        "id": "9cc3a0fc"
      },
      "outputs": [],
      "source": [
        "df['day'] = df['time'].dt.day\n",
        "df['month'] = df['time'].dt.month\n",
        "df['year'] = df['time'].dt.year\n",
        "df['hour'] = df['time'].dt.hour\n"
      ]
    },
    {
      "cell_type": "code",
      "execution_count": null,
      "id": "7aa6f6bc",
      "metadata": {
        "id": "7aa6f6bc"
      },
      "outputs": [],
      "source": [
        "df['temperature_mean'] = df['temperature'].rolling(window=24).mean()  # Example rolling mean over 24 hours\n"
      ]
    },
    {
      "cell_type": "code",
      "execution_count": null,
      "id": "1f270000",
      "metadata": {
        "id": "1f270000",
        "outputId": "27552bf9-bb34-4fed-81d6-4dba110a9685"
      },
      "outputs": [
        {
          "data": {
            "image/png": "[encoded data removed]",
            "text/plain": [
              "<Figure size 432x288 with 1 Axes>"
            ]
          },
          "metadata": {
            "needs_background": "light"
          },
          "output_type": "display_data"
        }
      ],
      "source": [
        "import matplotlib.pyplot as plt\n",
        "\n",
        "# Histogram for temperature distribution\n",
        "plt.hist(df['temperature'], bins=20, color='skyblue')\n",
        "plt.xlabel('Temperature')\n",
        "plt.ylabel('Frequency')\n",
        "plt.title('Temperature Distribution')\n",
        "plt.show()\n"
      ]
    },
    {
      "cell_type": "code",
      "execution_count": null,
      "id": "8d9156c9",
      "metadata": {
        "id": "8d9156c9",
        "outputId": "aacaf5ba-3f64-4330-ee15-64b9d48bdbb2"
      },
      "outputs": [
        {
          "data": {
            "image/png": "[encoded data removed]",
            "text/plain": [
              "<Figure size 432x288 with 1 Axes>"
            ]
          },
          "metadata": {
            "needs_background": "light"
          },
          "output_type": "display_data"
        },
        {
          "data": {
            "image/png": "[encoded data removed]",
            "text/plain": [
              "<Figure size 432x288 with 2 Axes>"
            ]
          },
          "metadata": {
            "needs_background": "light"
          },
          "output_type": "display_data"
        }
      ],
      "source": [
        "import seaborn as sns\n",
        "\n",
        "# Scatter plot between temperature and dew_point\n",
        "sns.scatterplot(x='temperature', y='dew_point', data=df)\n",
        "plt.xlabel('Temperature')\n",
        "plt.ylabel('Dew Point')\n",
        "plt.title('Scatter Plot: Temperature vs Dew Point')\n",
        "plt.show()\n",
        "\n",
        "# Correlation matrix\n",
        "correlation_matrix = df.corr()\n",
        "sns.heatmap(correlation_matrix, annot=True, cmap='coolwarm')\n",
        "plt.title('Correlation Matrix')\n",
        "plt.show()\n"
      ]
    },
    {
      "cell_type": "code",
      "execution_count": null,
      "id": "3ae474cd",
      "metadata": {
        "id": "3ae474cd",
        "outputId": "ce5d9d0a-edcd-4c12-a879-8ead60233680"
      },
      "outputs": [
        {
          "data": {
            "image/png": "[encoded data removed]",
            "text/plain": [
              "<Figure size 432x288 with 1 Axes>"
            ]
          },
          "metadata": {
            "needs_background": "light"
          },
          "output_type": "display_data"
        }
      ],
      "source": [
        "# Plot time series data\n",
        "plt.plot(df['time'], df['temperature'], marker='o')\n",
        "plt.xlabel('Time')\n",
        "plt.ylabel('Temperature')\n",
        "plt.title('Temperature Time Series')\n",
        "plt.xticks(rotation=45)\n",
        "plt.show()\n"
      ]
    },
    {
      "cell_type": "code",
      "execution_count": null,
      "id": "7f948728",
      "metadata": {
        "id": "7f948728",
        "outputId": "45de12d8-30e4-41cb-ffbf-c2c69f050ad9"
      },
      "outputs": [
        {
          "name": "stdout",
          "output_type": "stream",
          "text": [
            "Number of outliers in 'temperature' column: 0\n"
          ]
        }
      ],
      "source": [
        "# Calculate the IQR for the 'temperature' column\n",
        "import numpy as np\n",
        "\n",
        "Q1_temp = df['temperature'].quantile(0.25)\n",
        "Q3_temp = df['temperature'].quantile(0.75)\n",
        "IQR_temp = Q3_temp - Q1_temp\n",
        "\n",
        "# Define the outlier threshold for 'temperature'\n",
        "outlier_threshold_temp = 1.5\n",
        "\n",
        "# Identify outliers using the IQR method for 'temperature'\n",
        "outliers_temp = (df['temperature'] < (Q1_temp - outlier_threshold_temp * IQR_temp)) | (df['temperature'] > (Q3_temp + outlier_threshold_temp * IQR_temp))\n",
        "\n",
        "# Replace outliers with NaN values\n",
        "df.loc[outliers_temp, 'temperature'] = np.nan\n",
        "\n",
        "# Alternatively, you can drop rows with outliers\n",
        "# df_cleaned = df[~outliers_temp]\n",
        "\n",
        "# Count the number of outliers dropped or replaced\n",
        "num_outliers_temp = outliers_temp.sum()\n",
        "print(f\"Number of outliers in 'temperature' column: {num_outliers_temp}\")\n"
      ]
    },
    {
      "cell_type": "code",
      "execution_count": null,
      "id": "cd8ae6a6",
      "metadata": {
        "scrolled": true,
        "id": "cd8ae6a6",
        "outputId": "3e7636f3-6a53-4b56-ceeb-d47d9274adf3"
      },
      "outputs": [
        {
          "data": {
            "text/html": [
              "<div>\n",
              "<style scoped>\n",
              "    .dataframe tbody tr th:only-of-type {\n",
              "        vertical-align: middle;\n",
              "    }\n",
              "\n",
              "    .dataframe tbody tr th {\n",
              "        vertical-align: top;\n",
              "    }\n",
              "\n",
              "    .dataframe thead th {\n",
              "        text-align: right;\n",
              "    }\n",
              "</style>\n",
              "<table border=\"1\" class=\"dataframe\">\n",
              "  <thead>\n",
              "    <tr style=\"text-align: right;\">\n",
              "      <th></th>\n",
              "      <th>time</th>\n",
              "      <th>lat</th>\n",
              "      <th>lng</th>\n",
              "      <th>identifier</th>\n",
              "      <th>temperature</th>\n",
              "      <th>dew_point</th>\n",
              "      <th>wind_speed</th>\n",
              "      <th>wind_direction</th>\n",
              "      <th>visibility</th>\n",
              "      <th>temperature_original</th>\n",
              "      <th>dew_point_original</th>\n",
              "      <th>day</th>\n",
              "      <th>month</th>\n",
              "      <th>year</th>\n",
              "      <th>hour</th>\n",
              "      <th>temperature_mean</th>\n",
              "    </tr>\n",
              "  </thead>\n",
              "  <tbody>\n",
              "    <tr>\n",
              "      <th>0</th>\n",
              "      <td>2019-01-01 00:00:00+00:00</td>\n",
              "      <td>31.983299</td>\n",
              "      <td>35.983299</td>\n",
              "      <td>icao:OJAM</td>\n",
              "      <td>7.0</td>\n",
              "      <td>3.0</td>\n",
              "      <td>1.54</td>\n",
              "      <td>120.0</td>\n",
              "      <td>5000.0</td>\n",
              "      <td>7.0</td>\n",
              "      <td>3.0</td>\n",
              "      <td>1</td>\n",
              "      <td>1</td>\n",
              "      <td>2019</td>\n",
              "      <td>0</td>\n",
              "      <td>NaN</td>\n",
              "    </tr>\n",
              "    <tr>\n",
              "      <th>3</th>\n",
              "      <td>2019-01-01 01:00:00+00:00</td>\n",
              "      <td>31.983299</td>\n",
              "      <td>35.983299</td>\n",
              "      <td>icao:OJAM</td>\n",
              "      <td>8.0</td>\n",
              "      <td>3.0</td>\n",
              "      <td>1.54</td>\n",
              "      <td>120.0</td>\n",
              "      <td>9999.0</td>\n",
              "      <td>8.0</td>\n",
              "      <td>3.0</td>\n",
              "      <td>1</td>\n",
              "      <td>1</td>\n",
              "      <td>2019</td>\n",
              "      <td>1</td>\n",
              "      <td>NaN</td>\n",
              "    </tr>\n",
              "    <tr>\n",
              "      <th>6</th>\n",
              "      <td>2019-01-01 02:00:00+00:00</td>\n",
              "      <td>31.983299</td>\n",
              "      <td>35.983299</td>\n",
              "      <td>icao:OJAM</td>\n",
              "      <td>8.0</td>\n",
              "      <td>3.0</td>\n",
              "      <td>1.54</td>\n",
              "      <td>120.0</td>\n",
              "      <td>9999.0</td>\n",
              "      <td>8.0</td>\n",
              "      <td>3.0</td>\n",
              "      <td>1</td>\n",
              "      <td>1</td>\n",
              "      <td>2019</td>\n",
              "      <td>2</td>\n",
              "      <td>NaN</td>\n",
              "    </tr>\n",
              "    <tr>\n",
              "      <th>9</th>\n",
              "      <td>2019-01-01 04:00:00+00:00</td>\n",
              "      <td>31.983299</td>\n",
              "      <td>35.983299</td>\n",
              "      <td>icao:OJAM</td>\n",
              "      <td>8.0</td>\n",
              "      <td>2.0</td>\n",
              "      <td>2.57</td>\n",
              "      <td>150.0</td>\n",
              "      <td>9999.0</td>\n",
              "      <td>8.0</td>\n",
              "      <td>2.0</td>\n",
              "      <td>1</td>\n",
              "      <td>1</td>\n",
              "      <td>2019</td>\n",
              "      <td>4</td>\n",
              "      <td>NaN</td>\n",
              "    </tr>\n",
              "    <tr>\n",
              "      <th>12</th>\n",
              "      <td>2019-01-01 05:00:00+00:00</td>\n",
              "      <td>31.983299</td>\n",
              "      <td>35.983299</td>\n",
              "      <td>icao:OJAM</td>\n",
              "      <td>8.0</td>\n",
              "      <td>2.0</td>\n",
              "      <td>3.60</td>\n",
              "      <td>130.0</td>\n",
              "      <td>9999.0</td>\n",
              "      <td>8.0</td>\n",
              "      <td>2.0</td>\n",
              "      <td>1</td>\n",
              "      <td>1</td>\n",
              "      <td>2019</td>\n",
              "      <td>5</td>\n",
              "      <td>NaN</td>\n",
              "    </tr>\n",
              "    <tr>\n",
              "      <th>...</th>\n",
              "      <td>...</td>\n",
              "      <td>...</td>\n",
              "      <td>...</td>\n",
              "      <td>...</td>\n",
              "      <td>...</td>\n",
              "      <td>...</td>\n",
              "      <td>...</td>\n",
              "      <td>...</td>\n",
              "      <td>...</td>\n",
              "      <td>...</td>\n",
              "      <td>...</td>\n",
              "      <td>...</td>\n",
              "      <td>...</td>\n",
              "      <td>...</td>\n",
              "      <td>...</td>\n",
              "      <td>...</td>\n",
              "    </tr>\n",
              "    <tr>\n",
              "      <th>44254</th>\n",
              "      <td>2023-11-12 04:00:00+00:00</td>\n",
              "      <td>31.983299</td>\n",
              "      <td>35.983299</td>\n",
              "      <td>icao:OJAM</td>\n",
              "      <td>19.0</td>\n",
              "      <td>9.0</td>\n",
              "      <td>1.03</td>\n",
              "      <td>145.0</td>\n",
              "      <td>5000.0</td>\n",
              "      <td>19.0</td>\n",
              "      <td>9.0</td>\n",
              "      <td>12</td>\n",
              "      <td>11</td>\n",
              "      <td>2023</td>\n",
              "      <td>4</td>\n",
              "      <td>20.166667</td>\n",
              "    </tr>\n",
              "    <tr>\n",
              "      <th>44255</th>\n",
              "      <td>2023-11-12 04:25:00+00:00</td>\n",
              "      <td>31.983299</td>\n",
              "      <td>35.983299</td>\n",
              "      <td>icao:OJAM</td>\n",
              "      <td>18.0</td>\n",
              "      <td>9.0</td>\n",
              "      <td>0.00</td>\n",
              "      <td>0.0</td>\n",
              "      <td>3000.0</td>\n",
              "      <td>18.0</td>\n",
              "      <td>9.0</td>\n",
              "      <td>12</td>\n",
              "      <td>11</td>\n",
              "      <td>2023</td>\n",
              "      <td>4</td>\n",
              "      <td>20.291667</td>\n",
              "    </tr>\n",
              "    <tr>\n",
              "      <th>44256</th>\n",
              "      <td>2023-11-12 05:00:00+00:00</td>\n",
              "      <td>31.983299</td>\n",
              "      <td>35.983299</td>\n",
              "      <td>icao:OJAM</td>\n",
              "      <td>18.0</td>\n",
              "      <td>9.0</td>\n",
              "      <td>0.00</td>\n",
              "      <td>0.0</td>\n",
              "      <td>3000.0</td>\n",
              "      <td>18.0</td>\n",
              "      <td>9.0</td>\n",
              "      <td>12</td>\n",
              "      <td>11</td>\n",
              "      <td>2023</td>\n",
              "      <td>5</td>\n",
              "      <td>20.375000</td>\n",
              "    </tr>\n",
              "    <tr>\n",
              "      <th>44257</th>\n",
              "      <td>2023-11-12 06:00:00+00:00</td>\n",
              "      <td>31.983299</td>\n",
              "      <td>35.983299</td>\n",
              "      <td>icao:OJAM</td>\n",
              "      <td>20.0</td>\n",
              "      <td>9.0</td>\n",
              "      <td>0.00</td>\n",
              "      <td>0.0</td>\n",
              "      <td>3000.0</td>\n",
              "      <td>20.0</td>\n",
              "      <td>9.0</td>\n",
              "      <td>12</td>\n",
              "      <td>11</td>\n",
              "      <td>2023</td>\n",
              "      <td>6</td>\n",
              "      <td>20.458333</td>\n",
              "    </tr>\n",
              "    <tr>\n",
              "      <th>44258</th>\n",
              "      <td>2023-11-12 07:00:00+00:00</td>\n",
              "      <td>31.983299</td>\n",
              "      <td>35.983299</td>\n",
              "      <td>icao:OJAM</td>\n",
              "      <td>22.0</td>\n",
              "      <td>11.0</td>\n",
              "      <td>0.00</td>\n",
              "      <td>0.0</td>\n",
              "      <td>3000.0</td>\n",
              "      <td>22.0</td>\n",
              "      <td>11.0</td>\n",
              "      <td>12</td>\n",
              "      <td>11</td>\n",
              "      <td>2023</td>\n",
              "      <td>7</td>\n",
              "      <td>20.500000</td>\n",
              "    </tr>\n",
              "  </tbody>\n",
              "</table>\n",
              "<p>43280 rows × 16 columns</p>\n",
              "</div>"
            ],
            "text/plain": [
              "                           time        lat        lng identifier  temperature  \\\n",
              "0     2019-01-01 00:00:00+00:00  31.983299  35.983299  icao:OJAM          7.0   \n",
              "3     2019-01-01 01:00:00+00:00  31.983299  35.983299  icao:OJAM          8.0   \n",
              "6     2019-01-01 02:00:00+00:00  31.983299  35.983299  icao:OJAM          8.0   \n",
              "9     2019-01-01 04:00:00+00:00  31.983299  35.983299  icao:OJAM          8.0   \n",
              "12    2019-01-01 05:00:00+00:00  31.983299  35.983299  icao:OJAM          8.0   \n",
              "...                         ...        ...        ...        ...          ...   \n",
              "44254 2023-11-12 04:00:00+00:00  31.983299  35.983299  icao:OJAM         19.0   \n",
              "44255 2023-11-12 04:25:00+00:00  31.983299  35.983299  icao:OJAM         18.0   \n",
              "44256 2023-11-12 05:00:00+00:00  31.983299  35.983299  icao:OJAM         18.0   \n",
              "44257 2023-11-12 06:00:00+00:00  31.983299  35.983299  icao:OJAM         20.0   \n",
              "44258 2023-11-12 07:00:00+00:00  31.983299  35.983299  icao:OJAM         22.0   \n",
              "\n",
              "       dew_point  wind_speed  wind_direction  visibility  \\\n",
              "0            3.0        1.54           120.0      5000.0   \n",
              "3            3.0        1.54           120.0      9999.0   \n",
              "6            3.0        1.54           120.0      9999.0   \n",
              "9            2.0        2.57           150.0      9999.0   \n",
              "12           2.0        3.60           130.0      9999.0   \n",
              "...          ...         ...             ...         ...   \n",
              "44254        9.0        1.03           145.0      5000.0   \n",
              "44255        9.0        0.00             0.0      3000.0   \n",
              "44256        9.0        0.00             0.0      3000.0   \n",
              "44257        9.0        0.00             0.0      3000.0   \n",
              "44258       11.0        0.00             0.0      3000.0   \n",
              "\n",
              "       temperature_original  dew_point_original  day  month  year  hour  \\\n",
              "0                       7.0                 3.0    1      1  2019     0   \n",
              "3                       8.0                 3.0    1      1  2019     1   \n",
              "6                       8.0                 3.0    1      1  2019     2   \n",
              "9                       8.0                 2.0    1      1  2019     4   \n",
              "12                      8.0                 2.0    1      1  2019     5   \n",
              "...                     ...                 ...  ...    ...   ...   ...   \n",
              "44254                  19.0                 9.0   12     11  2023     4   \n",
              "44255                  18.0                 9.0   12     11  2023     4   \n",
              "44256                  18.0                 9.0   12     11  2023     5   \n",
              "44257                  20.0                 9.0   12     11  2023     6   \n",
              "44258                  22.0                11.0   12     11  2023     7   \n",
              "\n",
              "       temperature_mean  \n",
              "0                   NaN  \n",
              "3                   NaN  \n",
              "6                   NaN  \n",
              "9                   NaN  \n",
              "12                  NaN  \n",
              "...                 ...  \n",
              "44254         20.166667  \n",
              "44255         20.291667  \n",
              "44256         20.375000  \n",
              "44257         20.458333  \n",
              "44258         20.500000  \n",
              "\n",
              "[43280 rows x 16 columns]"
            ]
          },
          "execution_count": 245,
          "metadata": {},
          "output_type": "execute_result"
        }
      ],
      "source": [
        "df"
      ]
    },
    {
      "cell_type": "code",
      "execution_count": null,
      "id": "6b961501",
      "metadata": {
        "id": "6b961501",
        "outputId": "9bac7ee2-633e-4d07-88a0-1228c56928ec"
      },
      "outputs": [
        {
          "name": "stdout",
          "output_type": "stream",
          "text": [
            "Null Value Counts:\n",
            "lat                      0\n",
            "lng                      0\n",
            "identifier               0\n",
            "temperature              0\n",
            "dew_point                0\n",
            "wind_speed               0\n",
            "wind_direction           0\n",
            "visibility               0\n",
            "temperature_original     0\n",
            "dew_point_original       0\n",
            "day                      0\n",
            "month                    0\n",
            "year                     0\n",
            "hour                     0\n",
            "temperature_mean        23\n",
            "dtype: int64\n"
          ]
        }
      ],
      "source": [
        "import pandas as pd\n",
        "\n",
        "# Assuming your DataFrame is named 'df'\n",
        "# Replace 'df' with the actual name of your DataFrame if different\n",
        "\n",
        "# List of columns to check for null values\n",
        "columns_to_check = ['lat', 'lng', 'identifier', 'temperature', 'dew_point', 'wind_speed',\n",
        "                    'wind_direction', 'visibility', 'temperature_original', 'dew_point_original',\n",
        "                    'day', 'month', 'year', 'hour', 'temperature_mean']\n",
        "\n",
        "# Calculate the count of null values for each column in the list\n",
        "null_counts = df[columns_to_check].isnull().sum()\n",
        "\n",
        "# Print the count of null values in each specified column\n",
        "print(\"Null Value Counts:\")\n",
        "print(null_counts)\n"
      ]
    },
    {
      "cell_type": "code",
      "execution_count": null,
      "id": "4e710158",
      "metadata": {
        "id": "4e710158",
        "outputId": "1578079a-ceab-4675-e125-e1d9d25e59be"
      },
      "outputs": [
        {
          "name": "stdout",
          "output_type": "stream",
          "text": [
            "                           time        lat        lng identifier  temperature  \\\n",
            "68    2019-01-02 00:00:00+00:00  31.983299  35.983299  icao:OJAM          7.0   \n",
            "71    2019-01-02 01:00:00+00:00  31.983299  35.983299  icao:OJAM          7.0   \n",
            "74    2019-01-02 02:00:00+00:00  31.983299  35.983299  icao:OJAM          7.0   \n",
            "77    2019-01-02 03:00:00+00:00  31.983299  35.983299  icao:OJAM          6.0   \n",
            "80    2019-01-02 04:00:00+00:00  31.983299  35.983299  icao:OJAM          6.0   \n",
            "...                         ...        ...        ...        ...          ...   \n",
            "44254 2023-11-12 04:00:00+00:00  31.983299  35.983299  icao:OJAM         19.0   \n",
            "44255 2023-11-12 04:25:00+00:00  31.983299  35.983299  icao:OJAM         18.0   \n",
            "44256 2023-11-12 05:00:00+00:00  31.983299  35.983299  icao:OJAM         18.0   \n",
            "44257 2023-11-12 06:00:00+00:00  31.983299  35.983299  icao:OJAM         20.0   \n",
            "44258 2023-11-12 07:00:00+00:00  31.983299  35.983299  icao:OJAM         22.0   \n",
            "\n",
            "       dew_point  wind_speed  wind_direction  visibility  \\\n",
            "68           3.0        1.54           220.0      5000.0   \n",
            "71           2.0        1.54           220.0      5000.0   \n",
            "74           3.0        2.06           220.0      5000.0   \n",
            "77           4.0        1.54           220.0      5000.0   \n",
            "80           4.0        1.54           220.0      5000.0   \n",
            "...          ...         ...             ...         ...   \n",
            "44254        9.0        1.03           145.0      5000.0   \n",
            "44255        9.0        0.00             0.0      3000.0   \n",
            "44256        9.0        0.00             0.0      3000.0   \n",
            "44257        9.0        0.00             0.0      3000.0   \n",
            "44258       11.0        0.00             0.0      3000.0   \n",
            "\n",
            "       temperature_original  dew_point_original  day  month  year  hour  \\\n",
            "68                      7.0                 3.0    2      1  2019     0   \n",
            "71                      7.0                 2.0    2      1  2019     1   \n",
            "74                      7.0                 3.0    2      1  2019     2   \n",
            "77                      6.0                 4.0    2      1  2019     3   \n",
            "80                      6.0                 4.0    2      1  2019     4   \n",
            "...                     ...                 ...  ...    ...   ...   ...   \n",
            "44254                  19.0                 9.0   12     11  2023     4   \n",
            "44255                  18.0                 9.0   12     11  2023     4   \n",
            "44256                  18.0                 9.0   12     11  2023     5   \n",
            "44257                  20.0                 9.0   12     11  2023     6   \n",
            "44258                  22.0                11.0   12     11  2023     7   \n",
            "\n",
            "       temperature_mean  \n",
            "68             9.791667  \n",
            "71             9.791667  \n",
            "74             9.750000  \n",
            "77             9.666667  \n",
            "80             9.583333  \n",
            "...                 ...  \n",
            "44254         20.166667  \n",
            "44255         20.291667  \n",
            "44256         20.375000  \n",
            "44257         20.458333  \n",
            "44258         20.500000  \n",
            "\n",
            "[43257 rows x 16 columns]\n"
          ]
        }
      ],
      "source": [
        "\n",
        "# Drop rows with null values in the 'temperature_mean' column\n",
        "df.dropna(subset=['temperature_mean'], inplace=True)\n",
        "\n",
        "# Print the updated DataFrame to verify\n",
        "print(df)\n"
      ]
    },
    {
      "cell_type": "code",
      "execution_count": null,
      "id": "509bf16c",
      "metadata": {
        "id": "509bf16c",
        "outputId": "a31823c8-3181-471a-e0ef-2f44cbf235f3"
      },
      "outputs": [
        {
          "name": "stdout",
          "output_type": "stream",
          "text": [
            "temperature ADF Statistic: -6.1424316705213755\n",
            "temperature p-value: 7.912033191943885e-08\n",
            "temperature Critical Values: {'1%': -3.430501371168215, '5%': -2.8616069027156428, '10%': -2.5668056101432453}\n"
          ]
        }
      ],
      "source": [
        "from statsmodels.tsa.stattools import adfuller\n",
        "\n",
        "def check_stationarity(column_name):\n",
        "    result = adfuller(df[column_name])\n",
        "    print(f'{column_name} ADF Statistic:', result[0])\n",
        "    print(f'{column_name} p-value:', result[1])\n",
        "    print(f'{column_name} Critical Values:', result[4])\n",
        "\n",
        "# Check stationarity for each variable\n",
        "check_stationarity('temperature')\n",
        "# Add other variables as needed\n"
      ]
    },
    {
      "cell_type": "code",
      "execution_count": null,
      "id": "3bcf67aa",
      "metadata": {
        "id": "3bcf67aa",
        "outputId": "dd861d6d-2f1e-4108-ec7b-2118c73d9d6c"
      },
      "outputs": [
        {
          "name": "stdout",
          "output_type": "stream",
          "text": [
            "temperature ADF Statistic: -9.206123775838792\n",
            "temperature p-value: 1.9428118715626894e-15\n",
            "temperature Critical Values: {'1%': -3.4303994059943967, '5%': -2.8615618367343143, '10%': -2.566781622919306}\n",
            "temperature is stationary.\n",
            "\n",
            "dew_point ADF Statistic: -16.593540534091776\n",
            "dew_point p-value: 1.7901564514690554e-29\n",
            "dew_point Critical Values: {'1%': -3.4303994063676737, '5%': -2.861561836899296, '10%': -2.5667816230071203}\n",
            "dew_point is stationary.\n",
            "\n",
            "wind_speed ADF Statistic: -29.63526193020645\n",
            "wind_speed p-value: 0.0\n",
            "wind_speed Critical Values: {'1%': -3.4303992864632544, '5%': -2.8615617839037184, '10%': -2.566781594799377}\n",
            "wind_speed is stationary.\n",
            "\n",
            "wind_direction ADF Statistic: -25.41621635412689\n",
            "wind_direction p-value: 0.0\n",
            "wind_direction Critical Values: {'1%': -3.430399943699247, '5%': -2.8615620743900743, '10%': -2.5667817494153877}\n",
            "wind_direction is stationary.\n",
            "\n",
            "visibility ADF Statistic: -24.656009497269668\n",
            "visibility p-value: 0.0\n",
            "visibility Critical Values: {'1%': -3.4303993098769983, '5%': -2.8615617942521685, '10%': -2.566781600307505}\n",
            "visibility is stationary.\n",
            "\n"
          ]
        }
      ],
      "source": [
        "import pandas as pd\n",
        "from statsmodels.tsa.stattools import adfuller\n",
        "\n",
        "# Load the data\n",
        "df = pd.read_csv(\"jordan-airports-historical-observations.csv\")\n",
        "\n",
        "# Convert 'time' column to datetime format if it exists\n",
        "if 'time' in df.columns:\n",
        "    df['time'] = pd.to_datetime(df['time'])\n",
        "    df.set_index('time', inplace=True)\n",
        "\n",
        "# Function to check stationarity\n",
        "def check_stationarity(series, column_name):\n",
        "    result = adfuller(series.dropna())\n",
        "    print(f'{column_name} ADF Statistic: {result[0]}')\n",
        "    print(f'{column_name} p-value: {result[1]}')\n",
        "    print(f'{column_name} Critical Values: {result[4]}')\n",
        "    if result[1] < 0.05:\n",
        "        print(f'{column_name} is stationary.\\n')\n",
        "    else:\n",
        "        print(f'{column_name} is not stationary.\\n')\n",
        "\n",
        "# List of columns to check\n",
        "columns_to_check = ['temperature', 'dew_point', 'wind_speed', 'wind_direction', 'visibility']\n",
        "\n",
        "# Check stationarity for each specified column\n",
        "for column in columns_to_check:\n",
        "    if column in df.columns:\n",
        "        check_stationarity(df[column], column)\n",
        "    else:\n",
        "        print(f\"Column {column} does not exist in the DataFrame.\\n\")\n"
      ]
    },
    {
      "cell_type": "code",
      "execution_count": null,
      "id": "08f7db77",
      "metadata": {
        "id": "08f7db77",
        "outputId": "46613cf4-9b28-42a1-9db0-3fb1c5472bdd"
      },
      "outputs": [
        {
          "data": {
            "text/html": [
              "<div>\n",
              "<style scoped>\n",
              "    .dataframe tbody tr th:only-of-type {\n",
              "        vertical-align: middle;\n",
              "    }\n",
              "\n",
              "    .dataframe tbody tr th {\n",
              "        vertical-align: top;\n",
              "    }\n",
              "\n",
              "    .dataframe thead th {\n",
              "        text-align: right;\n",
              "    }\n",
              "</style>\n",
              "<table border=\"1\" class=\"dataframe\">\n",
              "  <thead>\n",
              "    <tr style=\"text-align: right;\">\n",
              "      <th></th>\n",
              "      <th>lat</th>\n",
              "      <th>lng</th>\n",
              "      <th>identifier</th>\n",
              "      <th>temperature</th>\n",
              "      <th>dew_point</th>\n",
              "      <th>wind_speed</th>\n",
              "      <th>wind_direction</th>\n",
              "      <th>visibility</th>\n",
              "    </tr>\n",
              "    <tr>\n",
              "      <th>time</th>\n",
              "      <th></th>\n",
              "      <th></th>\n",
              "      <th></th>\n",
              "      <th></th>\n",
              "      <th></th>\n",
              "      <th></th>\n",
              "      <th></th>\n",
              "      <th></th>\n",
              "    </tr>\n",
              "  </thead>\n",
              "  <tbody>\n",
              "    <tr>\n",
              "      <th>2019-01-01 00:00:00+00:00</th>\n",
              "      <td>31.983299</td>\n",
              "      <td>35.983299</td>\n",
              "      <td>icao:OJAM</td>\n",
              "      <td>7.0</td>\n",
              "      <td>3.0</td>\n",
              "      <td>1.54</td>\n",
              "      <td>120.0</td>\n",
              "      <td>5000.0</td>\n",
              "    </tr>\n",
              "    <tr>\n",
              "      <th>2019-01-01 00:00:00+00:00</th>\n",
              "      <td>31.983299</td>\n",
              "      <td>35.983299</td>\n",
              "      <td>icao:OJAM</td>\n",
              "      <td>7.0</td>\n",
              "      <td>3.0</td>\n",
              "      <td>1.54</td>\n",
              "      <td>120.0</td>\n",
              "      <td>5000.0</td>\n",
              "    </tr>\n",
              "    <tr>\n",
              "      <th>2019-01-01 00:00:00+00:00</th>\n",
              "      <td>31.983299</td>\n",
              "      <td>35.983299</td>\n",
              "      <td>icao:OJAM</td>\n",
              "      <td>7.0</td>\n",
              "      <td>3.0</td>\n",
              "      <td>1.54</td>\n",
              "      <td>120.0</td>\n",
              "      <td>5000.0</td>\n",
              "    </tr>\n",
              "    <tr>\n",
              "      <th>2019-01-01 01:00:00+00:00</th>\n",
              "      <td>31.983299</td>\n",
              "      <td>35.983299</td>\n",
              "      <td>icao:OJAM</td>\n",
              "      <td>8.0</td>\n",
              "      <td>3.0</td>\n",
              "      <td>1.54</td>\n",
              "      <td>120.0</td>\n",
              "      <td>9999.0</td>\n",
              "    </tr>\n",
              "    <tr>\n",
              "      <th>2019-01-01 01:00:00+00:00</th>\n",
              "      <td>31.983299</td>\n",
              "      <td>35.983299</td>\n",
              "      <td>icao:OJAM</td>\n",
              "      <td>8.0</td>\n",
              "      <td>3.0</td>\n",
              "      <td>1.54</td>\n",
              "      <td>120.0</td>\n",
              "      <td>9999.0</td>\n",
              "    </tr>\n",
              "    <tr>\n",
              "      <th>...</th>\n",
              "      <td>...</td>\n",
              "      <td>...</td>\n",
              "      <td>...</td>\n",
              "      <td>...</td>\n",
              "      <td>...</td>\n",
              "      <td>...</td>\n",
              "      <td>...</td>\n",
              "      <td>...</td>\n",
              "    </tr>\n",
              "    <tr>\n",
              "      <th>2023-11-12 04:00:00+00:00</th>\n",
              "      <td>31.983299</td>\n",
              "      <td>35.983299</td>\n",
              "      <td>icao:OJAM</td>\n",
              "      <td>19.0</td>\n",
              "      <td>9.0</td>\n",
              "      <td>1.03</td>\n",
              "      <td>NaN</td>\n",
              "      <td>5000.0</td>\n",
              "    </tr>\n",
              "    <tr>\n",
              "      <th>2023-11-12 04:25:00+00:00</th>\n",
              "      <td>31.983299</td>\n",
              "      <td>35.983299</td>\n",
              "      <td>icao:OJAM</td>\n",
              "      <td>18.0</td>\n",
              "      <td>9.0</td>\n",
              "      <td>0.00</td>\n",
              "      <td>0.0</td>\n",
              "      <td>3000.0</td>\n",
              "    </tr>\n",
              "    <tr>\n",
              "      <th>2023-11-12 05:00:00+00:00</th>\n",
              "      <td>31.983299</td>\n",
              "      <td>35.983299</td>\n",
              "      <td>icao:OJAM</td>\n",
              "      <td>18.0</td>\n",
              "      <td>9.0</td>\n",
              "      <td>0.00</td>\n",
              "      <td>0.0</td>\n",
              "      <td>3000.0</td>\n",
              "    </tr>\n",
              "    <tr>\n",
              "      <th>2023-11-12 06:00:00+00:00</th>\n",
              "      <td>31.983299</td>\n",
              "      <td>35.983299</td>\n",
              "      <td>icao:OJAM</td>\n",
              "      <td>20.0</td>\n",
              "      <td>9.0</td>\n",
              "      <td>0.00</td>\n",
              "      <td>0.0</td>\n",
              "      <td>3000.0</td>\n",
              "    </tr>\n",
              "    <tr>\n",
              "      <th>2023-11-12 07:00:00+00:00</th>\n",
              "      <td>31.983299</td>\n",
              "      <td>35.983299</td>\n",
              "      <td>icao:OJAM</td>\n",
              "      <td>22.0</td>\n",
              "      <td>11.0</td>\n",
              "      <td>0.00</td>\n",
              "      <td>0.0</td>\n",
              "      <td>3000.0</td>\n",
              "    </tr>\n",
              "  </tbody>\n",
              "</table>\n",
              "<p>132777 rows × 8 columns</p>\n",
              "</div>"
            ],
            "text/plain": [
              "                                 lat        lng identifier  temperature  \\\n",
              "time                                                                      \n",
              "2019-01-01 00:00:00+00:00  31.983299  35.983299  icao:OJAM          7.0   \n",
              "2019-01-01 00:00:00+00:00  31.983299  35.983299  icao:OJAM          7.0   \n",
              "2019-01-01 00:00:00+00:00  31.983299  35.983299  icao:OJAM          7.0   \n",
              "2019-01-01 01:00:00+00:00  31.983299  35.983299  icao:OJAM          8.0   \n",
              "2019-01-01 01:00:00+00:00  31.983299  35.983299  icao:OJAM          8.0   \n",
              "...                              ...        ...        ...          ...   \n",
              "2023-11-12 04:00:00+00:00  31.983299  35.983299  icao:OJAM         19.0   \n",
              "2023-11-12 04:25:00+00:00  31.983299  35.983299  icao:OJAM         18.0   \n",
              "2023-11-12 05:00:00+00:00  31.983299  35.983299  icao:OJAM         18.0   \n",
              "2023-11-12 06:00:00+00:00  31.983299  35.983299  icao:OJAM         20.0   \n",
              "2023-11-12 07:00:00+00:00  31.983299  35.983299  icao:OJAM         22.0   \n",
              "\n",
              "                           dew_point  wind_speed  wind_direction  visibility  \n",
              "time                                                                          \n",
              "2019-01-01 00:00:00+00:00        3.0        1.54           120.0      5000.0  \n",
              "2019-01-01 00:00:00+00:00        3.0        1.54           120.0      5000.0  \n",
              "2019-01-01 00:00:00+00:00        3.0        1.54           120.0      5000.0  \n",
              "2019-01-01 01:00:00+00:00        3.0        1.54           120.0      9999.0  \n",
              "2019-01-01 01:00:00+00:00        3.0        1.54           120.0      9999.0  \n",
              "...                              ...         ...             ...         ...  \n",
              "2023-11-12 04:00:00+00:00        9.0        1.03             NaN      5000.0  \n",
              "2023-11-12 04:25:00+00:00        9.0        0.00             0.0      3000.0  \n",
              "2023-11-12 05:00:00+00:00        9.0        0.00             0.0      3000.0  \n",
              "2023-11-12 06:00:00+00:00        9.0        0.00             0.0      3000.0  \n",
              "2023-11-12 07:00:00+00:00       11.0        0.00             0.0      3000.0  \n",
              "\n",
              "[132777 rows x 8 columns]"
            ]
          },
          "execution_count": 250,
          "metadata": {},
          "output_type": "execute_result"
        }
      ],
      "source": [
        "df"
      ]
    },
    {
      "cell_type": "code",
      "execution_count": null,
      "id": "06602eaa",
      "metadata": {
        "id": "06602eaa"
      },
      "outputs": [],
      "source": []
    },
    {
      "cell_type": "code",
      "execution_count": null,
      "id": "18939837",
      "metadata": {
        "id": "18939837",
        "outputId": "6823a509-0d5a-4288-ee5f-f67c969c2064"
      },
      "outputs": [
        {
          "name": "stdout",
          "output_type": "stream",
          "text": [
            "Index(['time', 'lat', 'lng', 'identifier', 'temperature', 'dew_point',\n",
            "       'wind_speed', 'wind_direction', 'visibility'],\n",
            "      dtype='object')\n"
          ]
        },
        {
          "name": "stderr",
          "output_type": "stream",
          "text": [
            "C:\\Users\\USER\\anaconda3\\lib\\site-packages\\statsmodels\\tsa\\statespace\\sarimax.py:866: UserWarning: Too few observations to estimate starting parameters for seasonal ARMA. All parameters except for variances will be set to zeros.\n",
            "  warn('Too few observations to estimate starting parameters%s.'\n",
            "C:\\Users\\USER\\anaconda3\\lib\\site-packages\\statsmodels\\base\\model.py:566: ConvergenceWarning: Maximum Likelihood optimization failed to converge. Check mle_retvals\n",
            "  warnings.warn(\"Maximum Likelihood optimization failed to \"\n"
          ]
        },
        {
          "name": "stdout",
          "output_type": "stream",
          "text": [
            "Mean Absolute Error (MAE): 2.206013347386945\n",
            "Root Mean Squared Error (RMSE): 2.7656954899027357\n",
            "            Forecasted Temperature  Lower Confidence Interval  \\\n",
            "2024-01-07                9.432461                   4.963679   \n",
            "2024-01-14                9.740323                   5.053644   \n",
            "2024-01-21                7.349017                   2.631091   \n",
            "2024-01-28                8.648787                   3.922262   \n",
            "2024-02-04               10.236900                   5.505886   \n",
            "2024-02-11               10.518506                   5.783982   \n",
            "2024-02-18                9.027854                   4.290084   \n",
            "2024-02-25               10.683553                   5.942611   \n",
            "2024-03-03               11.681107                   6.937016   \n",
            "2024-03-10               13.051635                   8.304402   \n",
            "\n",
            "            Upper Confidence Interval  \n",
            "2024-01-07                  13.901242  \n",
            "2024-01-14                  14.427001  \n",
            "2024-01-21                  12.066942  \n",
            "2024-01-28                  13.375311  \n",
            "2024-02-04                  14.967914  \n",
            "2024-02-11                  15.253030  \n",
            "2024-02-18                  13.765624  \n",
            "2024-02-25                  15.424494  \n",
            "2024-03-03                  16.425198  \n",
            "2024-03-10                  17.798868  \n"
          ]
        }
      ],
      "source": [
        "import pandas as pd\n",
        "from statsmodels.tsa.statespace.sarimax import SARIMAX\n",
        "from sklearn.metrics import mean_absolute_error, mean_squared_error\n",
        "import numpy as np\n",
        "\n",
        "# Load the data and check column names\n",
        "df = pd.read_csv(\"jordan-airports-historical-observations.csv\")\n",
        "print(df.columns)  # Check if 'time' column exists\n",
        "\n",
        "# Ensure 'time' column is in datetime format and set as index\n",
        "df['time'] = pd.to_datetime(df['time'])\n",
        "df.set_index('time', inplace=True)\n",
        "\n",
        "# Sort the DataFrame by index to ensure it's in chronological order\n",
        "df = df.sort_index()\n",
        "\n",
        "# Resample the data to weekly frequency, taking the mean for each week\n",
        "data = df['temperature'].resample('W').mean()\n",
        "\n",
        "# Split the data into train and test sets\n",
        "split_date = '2023-01-01'\n",
        "train = data[:split_date]\n",
        "test = data[split_date:]\n",
        "\n",
        "# Fit the SARIMA model\n",
        "model = SARIMAX(train, order=(1, 1, 1), seasonal_order=(1, 1, 1, 52))\n",
        "sarima_model = model.fit(disp=False)\n",
        "\n",
        "# Forecasting for the whole year of 2024\n",
        "forecast_steps = 52  # Number of weeks in 2024\n",
        "forecast_start = pd.to_datetime('2024-01-07')  # First Sunday of 2024\n",
        "forecast_end = pd.to_datetime('2024-12-29')  # Last Sunday of 2024\n",
        "forecast_index = pd.date_range(start=forecast_start, end=forecast_end, freq='W')\n",
        "forecast = sarima_model.get_forecast(steps=forecast_steps)\n",
        "forecast_values = forecast.predicted_mean\n",
        "forecast_values.index = forecast_index\n",
        "forecast_conf_int = forecast.conf_int()\n",
        "forecast_conf_int.index = forecast_index\n",
        "\n",
        "# Evaluation for 2023\n",
        "forecast_2023 = sarima_model.get_forecast(steps=len(test))\n",
        "forecast_values_2023 = forecast_2023.predicted_mean\n",
        "mae = mean_absolute_error(test, forecast_values_2023)\n",
        "rmse = np.sqrt(mean_squared_error(test, forecast_values_2023))\n",
        "\n",
        "# Print evaluation metrics\n",
        "print(f\"Mean Absolute Error (MAE): {mae}\")\n",
        "print(f\"Root Mean Squared Error (RMSE): {rmse}\")\n",
        "\n",
        "# Print the first few forecasted values for 2024\n",
        "forecast_df = pd.DataFrame({'Forecasted Temperature': forecast_values,\n",
        "                            'Lower Confidence Interval': forecast_conf_int.iloc[:, 0],\n",
        "                            'Upper Confidence Interval': forecast_conf_int.iloc[:, 1]})\n",
        "print(forecast_df.head(10))\n",
        "\n",
        "# Save the forecasted values and confidence intervals for 2024 to a CSV file\n",
        "forecast_df.to_csv('forecasted_temperature_2024.csv')\n"
      ]
    },
    {
      "cell_type": "code",
      "execution_count": null,
      "id": "c75c5a15",
      "metadata": {
        "id": "c75c5a15",
        "outputId": "a24142b4-66ea-41d5-8da1-fb7df297ee44"
      },
      "outputs": [
        {
          "name": "stdout",
          "output_type": "stream",
          "text": [
            "Index(['time', 'lat', 'lng', 'identifier', 'temperature', 'dew_point',\n",
            "       'wind_speed', 'wind_direction', 'visibility'],\n",
            "      dtype='object')\n"
          ]
        },
        {
          "name": "stderr",
          "output_type": "stream",
          "text": [
            "C:\\Users\\USER\\anaconda3\\lib\\site-packages\\statsmodels\\tsa\\statespace\\sarimax.py:866: UserWarning: Too few observations to estimate starting parameters for seasonal ARMA. All parameters except for variances will be set to zeros.\n",
            "  warn('Too few observations to estimate starting parameters%s.'\n",
            "C:\\Users\\USER\\anaconda3\\lib\\site-packages\\statsmodels\\base\\model.py:566: ConvergenceWarning: Maximum Likelihood optimization failed to converge. Check mle_retvals\n",
            "  warnings.warn(\"Maximum Likelihood optimization failed to \"\n"
          ]
        },
        {
          "name": "stdout",
          "output_type": "stream",
          "text": [
            "Mean Absolute Error (MAE): 2.206013347386945\n",
            "Root Mean Squared Error (RMSE): 2.7656954899027357\n"
          ]
        },
        {
          "data": {
            "image/png": "[encoded data removed]",
            "text/plain": [
              "<Figure size 864x432 with 1 Axes>"
            ]
          },
          "metadata": {
            "needs_background": "light"
          },
          "output_type": "display_data"
        }
      ],
      "source": [
        "import pandas as pd\n",
        "from statsmodels.tsa.statespace.sarimax import SARIMAX\n",
        "from sklearn.metrics import mean_absolute_error, mean_squared_error\n",
        "import numpy as np\n",
        "import matplotlib.pyplot as plt\n",
        "\n",
        "# Load the data and check column names\n",
        "df = pd.read_csv(\"jordan-airports-historical-observations.csv\")\n",
        "print(df.columns)  # Check if 'time' column exists\n",
        "\n",
        "# Ensure 'time' column is in datetime format and set as index\n",
        "df['time'] = pd.to_datetime(df['time'])\n",
        "df.set_index('time', inplace=True)\n",
        "\n",
        "# Sort the DataFrame by index to ensure it's in chronological order\n",
        "df = df.sort_index()\n",
        "\n",
        "# Resample the data to weekly frequency, taking the mean for each week\n",
        "data = df['temperature'].resample('W').mean()\n",
        "\n",
        "# Split the data into train and test sets\n",
        "split_date = '2023-01-01'\n",
        "train = data[:split_date]\n",
        "test = data[split_date:]\n",
        "\n",
        "# Fit the SARIMA model\n",
        "model = SARIMAX(train, order=(1, 1, 1), seasonal_order=(1, 1, 1, 52))\n",
        "sarima_model = model.fit(disp=False)\n",
        "\n",
        "# Forecasting for the whole year of 2024\n",
        "forecast_steps = 52  # Number of weeks in 2024\n",
        "forecast_start = pd.to_datetime('2024-01-07')  # First Sunday of 2024\n",
        "forecast_end = pd.to_datetime('2024-12-29')  # Last Sunday of 2024\n",
        "forecast_index = pd.date_range(start=forecast_start, end=forecast_end, freq='W')\n",
        "forecast = sarima_model.get_forecast(steps=forecast_steps)\n",
        "forecast_values = forecast.predicted_mean\n",
        "forecast_values.index = forecast_index\n",
        "forecast_conf_int = forecast.conf_int()\n",
        "forecast_conf_int.index = forecast_index\n",
        "\n",
        "# Evaluation for 2023\n",
        "forecast_2023 = sarima_model.get_forecast(steps=len(test))\n",
        "forecast_values_2023 = forecast_2023.predicted_mean\n",
        "mae = mean_absolute_error(test, forecast_values_2023)\n",
        "rmse = np.sqrt(mean_squared_error(test, forecast_values_2023))\n",
        "\n",
        "# Print evaluation metrics\n",
        "print(f\"Mean Absolute Error (MAE): {mae}\")\n",
        "print(f\"Root Mean Squared Error (RMSE): {rmse}\")\n",
        "\n",
        "# Plot the results\n",
        "plt.figure(figsize=(12, 6))\n",
        "plt.plot(train, label='Train')\n",
        "plt.plot(test, label='Test')\n",
        "plt.plot(forecast_values_2023, label='Forecast 2023', color='orange')\n",
        "plt.plot(forecast_values, label='Forecast 2024', color='green')\n",
        "plt.fill_between(forecast_conf_int.index,\n",
        "                 forecast_conf_int.iloc[:, 0],\n",
        "                 forecast_conf_int.iloc[:, 1], color='k', alpha=.2)\n",
        "plt.title('Weekly Temperature Forecast')\n",
        "plt.xlabel('Date')\n",
        "plt.ylabel('Temperature')\n",
        "plt.legend()\n",
        "plt.show()\n"
      ]
    },
    {
      "cell_type": "code",
      "execution_count": null,
      "id": "b6f1e3eb",
      "metadata": {
        "id": "b6f1e3eb",
        "outputId": "80318596-ce90-40c0-ab6b-47bcc70e2b57"
      },
      "outputs": [
        {
          "name": "stdout",
          "output_type": "stream",
          "text": [
            "Index(['time', 'lat', 'lng', 'identifier', 'temperature', 'dew_point',\n",
            "       'wind_speed', 'wind_direction', 'visibility'],\n",
            "      dtype='object')\n",
            "Mean Absolute Error (MAE): 11.895831777122114\n",
            "Root Mean Squared Error (RMSE): 13.730632726735111\n",
            "            Forecasted Temperature  Lower Confidence Interval  \\\n",
            "2024-01-07                9.503814                   4.378386   \n",
            "2024-01-14                9.366115                   2.716224   \n",
            "2024-01-21                8.686706                   1.123608   \n",
            "2024-01-28                8.447232                  -0.420143   \n",
            "2024-02-04                8.487110                  -1.717312   \n",
            "2024-02-11                8.465624                  -2.920083   \n",
            "2024-02-18                8.330682                  -4.099300   \n",
            "2024-02-25                8.275669                  -5.173257   \n",
            "2024-03-03                8.287175                  -6.153455   \n",
            "2024-03-10                8.273846                  -7.088510   \n",
            "\n",
            "            Upper Confidence Interval  \n",
            "2024-01-07                  14.629242  \n",
            "2024-01-14                  16.016007  \n",
            "2024-01-21                  16.249804  \n",
            "2024-01-28                  17.314606  \n",
            "2024-02-04                  18.691532  \n",
            "2024-02-11                  19.851332  \n",
            "2024-02-18                  20.760663  \n",
            "2024-02-25                  21.724594  \n",
            "2024-03-03                  22.727805  \n",
            "2024-03-10                  23.636203  \n"
          ]
        }
      ],
      "source": [
        "import pandas as pd\n",
        "from statsmodels.tsa.arima.model import ARIMA\n",
        "from sklearn.metrics import mean_absolute_error, mean_squared_error\n",
        "import numpy as np\n",
        "\n",
        "# Load the data and check column names\n",
        "df = pd.read_csv(\"jordan-airports-historical-observations.csv\")\n",
        "print(df.columns)  # Check if 'time' column exists\n",
        "\n",
        "# Ensure 'time' column is in datetime format and set as index\n",
        "df['time'] = pd.to_datetime(df['time'])\n",
        "df.set_index('time', inplace=True)\n",
        "\n",
        "# Sort the DataFrame by index to ensure it's in chronological order\n",
        "df = df.sort_index()\n",
        "\n",
        "# Resample the data to weekly frequency, taking the mean for each week\n",
        "data = df['temperature'].resample('W').mean()\n",
        "\n",
        "# Split the data into train and test sets\n",
        "split_date = '2023-01-01'\n",
        "train = data[:split_date]\n",
        "test = data[split_date:]\n",
        "\n",
        "# Fit the ARIMA model\n",
        "model = ARIMA(train, order=(5, 1, 0))  # Adjust the order (p, d, q) as needed\n",
        "arima_model = model.fit()\n",
        "\n",
        "# Forecasting for the whole year of 2024\n",
        "forecast_steps = 52  # Number of weeks in 2024\n",
        "forecast_start = pd.to_datetime('2024-01-07')  # First Sunday of 2024\n",
        "forecast_end = pd.to_datetime('2024-12-29')  # Last Sunday of 2024\n",
        "forecast_index = pd.date_range(start=forecast_start, end=forecast_end, freq='W')\n",
        "forecast = arima_model.get_forecast(steps=forecast_steps)\n",
        "forecast_values = forecast.predicted_mean\n",
        "forecast_values.index = forecast_index\n",
        "forecast_conf_int = forecast.conf_int()\n",
        "forecast_conf_int.index = forecast_index\n",
        "\n",
        "# Evaluation for 2023\n",
        "forecast_2023 = arima_model.get_forecast(steps=len(test))\n",
        "forecast_values_2023 = forecast_2023.predicted_mean\n",
        "mae = mean_absolute_error(test, forecast_values_2023)\n",
        "rmse = np.sqrt(mean_squared_error(test, forecast_values_2023))\n",
        "\n",
        "# Print evaluation metrics\n",
        "print(f\"Mean Absolute Error (MAE): {mae}\")\n",
        "print(f\"Root Mean Squared Error (RMSE): {rmse}\")\n",
        "\n",
        "# Print the first few forecasted values for 2024\n",
        "forecast_df = pd.DataFrame({'Forecasted Temperature': forecast_values,\n",
        "                            'Lower Confidence Interval': forecast_conf_int.iloc[:, 0],\n",
        "                            'Upper Confidence Interval': forecast_conf_int.iloc[:, 1]})\n",
        "print(forecast_df.head(10))\n",
        "\n",
        "# Save the forecasted values and confidence intervals for 2024 to a CSV file\n",
        "forecast_df.to_csv('forecasted_temperature_2024.csv')\n"
      ]
    },
    {
      "cell_type": "code",
      "execution_count": null,
      "id": "3a790e43",
      "metadata": {
        "id": "3a790e43",
        "outputId": "08655d6b-f8a7-4d82-8929-7a952b6edb55"
      },
      "outputs": [
        {
          "name": "stdout",
          "output_type": "stream",
          "text": [
            "Index(['time', 'lat', 'lng', 'identifier', 'temperature', 'dew_point',\n",
            "       'wind_speed', 'wind_direction', 'visibility'],\n",
            "      dtype='object')\n"
          ]
        },
        {
          "name": "stderr",
          "output_type": "stream",
          "text": [
            "C:\\Users\\USER\\anaconda3\\lib\\site-packages\\statsmodels\\tsa\\statespace\\sarimax.py:866: UserWarning: Too few observations to estimate starting parameters for seasonal ARMA. All parameters except for variances will be set to zeros.\n",
            "  warn('Too few observations to estimate starting parameters%s.'\n",
            "C:\\Users\\USER\\anaconda3\\lib\\site-packages\\statsmodels\\base\\model.py:566: ConvergenceWarning: Maximum Likelihood optimization failed to converge. Check mle_retvals\n",
            "  warnings.warn(\"Maximum Likelihood optimization failed to \"\n"
          ]
        },
        {
          "name": "stdout",
          "output_type": "stream",
          "text": [
            "Mean Absolute Error (MAE): 2.25064138351406\n",
            "Root Mean Squared Error (RMSE): 2.821760189046535\n",
            "            Forecasted Temperature  Lower Confidence Interval  \\\n",
            "2024-01-07                9.761610                   4.913656   \n",
            "2024-01-14               10.048355                   4.636228   \n",
            "2024-01-21                7.417043                   1.890362   \n",
            "2024-01-28                8.884589                   3.180119   \n",
            "2024-02-04               10.643954                   4.788644   \n",
            "2024-02-11               10.617391                   4.623914   \n",
            "2024-02-18                9.425126                   3.053753   \n",
            "2024-02-25               11.111115                   4.447498   \n",
            "2024-03-03               12.072698                   5.220843   \n",
            "2024-03-10               12.996076                   5.955000   \n",
            "\n",
            "            Upper Confidence Interval  \n",
            "2024-01-07                  14.609564  \n",
            "2024-01-14                  15.460482  \n",
            "2024-01-21                  12.943723  \n",
            "2024-01-28                  14.589058  \n",
            "2024-02-04                  16.499264  \n",
            "2024-02-11                  16.610869  \n",
            "2024-02-18                  15.796500  \n",
            "2024-02-25                  17.774733  \n",
            "2024-03-03                  18.924554  \n",
            "2024-03-10                  20.037153  \n"
          ]
        },
        {
          "data": {
            "image/png": "[encoded data removed]",
            "text/plain": [
              "<Figure size 1008x504 with 1 Axes>"
            ]
          },
          "metadata": {
            "needs_background": "light"
          },
          "output_type": "display_data"
        }
      ],
      "source": [
        "import pandas as pd\n",
        "from statsmodels.tsa.arima.model import ARIMA\n",
        "from sklearn.metrics import mean_absolute_error, mean_squared_error\n",
        "import numpy as np\n",
        "import matplotlib.pyplot as plt\n",
        "\n",
        "# Load the data and check column names\n",
        "df = pd.read_csv(\"jordan-airports-historical-observations.csv\")\n",
        "print(df.columns)  # Check if 'time' column exists\n",
        "\n",
        "# Ensure 'time' column is in datetime format and set as index\n",
        "df['time'] = pd.to_datetime(df['time'])\n",
        "df.set_index('time', inplace=True)\n",
        "\n",
        "# Sort the DataFrame by index to ensure it's in chronological order\n",
        "df = df.sort_index()\n",
        "\n",
        "# Resample the data to weekly frequency, taking the mean for each week\n",
        "data = df['temperature'].resample('W').mean()\n",
        "\n",
        "# Split the data into train and test sets\n",
        "split_date = '2023-01-01'\n",
        "train = data[:split_date]\n",
        "test = data[split_date:]\n",
        "\n",
        "# Fit the ARIMA model\n",
        "model = ARIMA(train, order=(5, 1, 0), seasonal_order=(1, 1, 1, 52))  # Adjust the order (p, d, q) and seasonal_order (P, D, Q, S) as needed\n",
        "arima_model = model.fit()\n",
        "\n",
        "# Forecasting for the test period\n",
        "forecast_2023 = arima_model.get_forecast(steps=len(test))\n",
        "forecast_values_2023 = forecast_2023.predicted_mean\n",
        "forecast_conf_int_2023 = forecast_2023.conf_int()\n",
        "\n",
        "# Forecasting for the whole year of 2024\n",
        "forecast_steps = 52  # Number of weeks in 2024\n",
        "forecast_2024 = arima_model.get_forecast(steps=forecast_steps)\n",
        "forecast_values_2024 = forecast_2024.predicted_mean\n",
        "forecast_conf_int_2024 = forecast_2024.conf_int()\n",
        "\n",
        "# Create a date range for the 2024 forecast\n",
        "forecast_index_2024 = pd.date_range(start='2024-01-07', periods=forecast_steps, freq='W')\n",
        "forecast_values_2024.index = forecast_index_2024\n",
        "forecast_conf_int_2024.index = forecast_index_2024\n",
        "\n",
        "# Evaluation metrics for 2023 forecast\n",
        "mae = mean_absolute_error(test, forecast_values_2023)\n",
        "rmse = np.sqrt(mean_squared_error(test, forecast_values_2023))\n",
        "\n",
        "# Print evaluation metrics\n",
        "print(f\"Mean Absolute Error (MAE): {mae}\")\n",
        "print(f\"Root Mean Squared Error (RMSE): {rmse}\")\n",
        "\n",
        "# Print the first few forecasted values for 2024\n",
        "forecast_df = pd.DataFrame({\n",
        "    'Forecasted Temperature': forecast_values_2024,\n",
        "    'Lower Confidence Interval': forecast_conf_int_2024.iloc[:, 0],\n",
        "    'Upper Confidence Interval': forecast_conf_int_2024.iloc[:, 1]\n",
        "})\n",
        "print(forecast_df.head(10))\n",
        "\n",
        "# Save the forecasted values and confidence intervals for 2024 to a CSV file\n",
        "forecast_df.to_csv('forecasted_temperature_2024.csv')\n",
        "\n",
        "# Plot the results with accurate seasonal forecasts\n",
        "plt.figure(figsize=(14, 7))\n",
        "plt.plot(train, label='Train', color='blue', marker='o')\n",
        "plt.plot(test, label='Test', color='orange', marker='x')\n",
        "plt.plot(forecast_values_2023, label='Forecast 2023', color='red', linestyle='--', marker='d')\n",
        "plt.plot(forecast_values_2024, label='Forecast 2024', color='green', linestyle='-', marker='s')\n",
        "plt.fill_between(forecast_conf_int_2023.index,\n",
        "                 forecast_conf_int_2023.iloc[:, 0],\n",
        "                 forecast_conf_int_2023.iloc[:, 1], color='grey', alpha=.3, label='Confidence Interval 2023')\n",
        "plt.fill_between(forecast_conf_int_2024.index,\n",
        "                 forecast_conf_int_2024.iloc[:, 0],\n",
        "                 forecast_conf_int_2024.iloc[:, 1], color='grey', alpha=.3, label='Confidence Interval 2024')\n",
        "plt.title('Weekly Temperature Forecast with ARIMA Model')\n",
        "plt.xlabel('Date')\n",
        "plt.ylabel('Temperature')\n",
        "plt.legend()\n",
        "plt.grid(True)\n",
        "plt.show()\n"
      ]
    },
    {
      "cell_type": "code",
      "execution_count": null,
      "id": "b7705d8d",
      "metadata": {
        "id": "b7705d8d",
        "outputId": "21b12c05-c09b-46ba-94f6-4af23bc421ce"
      },
      "outputs": [
        {
          "name": "stdout",
          "output_type": "stream",
          "text": [
            "Index(['time', 'lat', 'lng', 'identifier', 'temperature', 'dew_point',\n",
            "       'wind_speed', 'wind_direction', 'visibility'],\n",
            "      dtype='object')\n"
          ]
        },
        {
          "name": "stderr",
          "output_type": "stream",
          "text": [
            "C:\\Users\\USER\\anaconda3\\lib\\site-packages\\statsmodels\\tsa\\holtwinters\\model.py:427: FutureWarning: After 0.13 initialization must be handled at model creation\n",
            "  warnings.warn(\n"
          ]
        },
        {
          "name": "stdout",
          "output_type": "stream",
          "text": [
            "Mean Absolute Error (MAE): 2.2757895439531937\n",
            "Root Mean Squared Error (RMSE): 2.812740478964236\n",
            "            Forecasted Temperature\n",
            "2024-01-07                9.757996\n",
            "2024-01-14                9.590158\n",
            "2024-01-21                7.078697\n",
            "2024-01-28                8.148627\n",
            "2024-02-04                9.985215\n",
            "2024-02-11               10.325048\n",
            "2024-02-18                9.211010\n",
            "2024-02-25               10.774343\n",
            "2024-03-03               11.747399\n",
            "2024-03-10               12.401099\n"
          ]
        }
      ],
      "source": [
        "import pandas as pd\n",
        "from statsmodels.tsa.holtwinters import ExponentialSmoothing\n",
        "from sklearn.metrics import mean_absolute_error, mean_squared_error\n",
        "import numpy as np\n",
        "\n",
        "# Load the data and check column names\n",
        "df = pd.read_csv(\"jordan-airports-historical-observations.csv\")\n",
        "print(df.columns)  # Check if 'time' column exists\n",
        "\n",
        "# Ensure 'time' column is in datetime format and set as index\n",
        "df['time'] = pd.to_datetime(df['time'])\n",
        "df.set_index('time', inplace=True)\n",
        "\n",
        "# Sort the DataFrame by index to ensure it's in chronological order\n",
        "df = df.sort_index()\n",
        "\n",
        "# Resample the data to weekly frequency, taking the mean for each week\n",
        "data = df['temperature'].resample('W').mean()\n",
        "\n",
        "# Split the data into train and test sets\n",
        "split_date = '2023-01-01'\n",
        "train = data[:split_date]\n",
        "test = data[split_date:]\n",
        "\n",
        "# Fit the Exponential Smoothing (Holt-Winters) model\n",
        "model = ExponentialSmoothing(train, trend='add', seasonal='add', seasonal_periods=52)\n",
        "hw_model = model.fit()\n",
        "\n",
        "# Forecasting for the whole year of 2024\n",
        "forecast_steps = 52  # Number of weeks in 2024\n",
        "forecast_start = pd.to_datetime('2024-01-07')  # First Sunday of 2024\n",
        "forecast_end = pd.to_datetime('2024-12-29')  # Last Sunday of 2024\n",
        "forecast_index = pd.date_range(start=forecast_start, end=forecast_end, freq='W')\n",
        "forecast_values = hw_model.forecast(steps=forecast_steps)\n",
        "forecast_values.index = forecast_index\n",
        "\n",
        "# Evaluation for 2023\n",
        "forecast_2023 = hw_model.forecast(steps=len(test))\n",
        "mae = mean_absolute_error(test, forecast_2023)\n",
        "rmse = np.sqrt(mean_squared_error(test, forecast_2023))\n",
        "\n",
        "# Print evaluation metrics\n",
        "print(f\"Mean Absolute Error (MAE): {mae}\")\n",
        "print(f\"Root Mean Squared Error (RMSE): {rmse}\")\n",
        "\n",
        "# Print the first few forecasted values for 2024\n",
        "forecast_df = pd.DataFrame({'Forecasted Temperature': forecast_values})\n",
        "print(forecast_df.head(10))\n",
        "\n",
        "# Save the forecasted values for 2024 to a CSV file\n",
        "forecast_df.to_csv('forecasted_temperature_2024_hw.csv')\n"
      ]
    },
    {
      "cell_type": "code",
      "execution_count": null,
      "id": "af236edd",
      "metadata": {
        "id": "af236edd",
        "outputId": "7c398757-45aa-47cc-debb-5b9ebfe5a5d9"
      },
      "outputs": [
        {
          "name": "stdout",
          "output_type": "stream",
          "text": [
            "Index(['time', 'lat', 'lng', 'identifier', 'temperature', 'dew_point',\n",
            "       'wind_speed', 'wind_direction', 'visibility'],\n",
            "      dtype='object')\n"
          ]
        },
        {
          "name": "stderr",
          "output_type": "stream",
          "text": [
            "C:\\Users\\USER\\anaconda3\\lib\\site-packages\\statsmodels\\tsa\\holtwinters\\model.py:427: FutureWarning: After 0.13 initialization must be handled at model creation\n",
            "  warnings.warn(\n"
          ]
        },
        {
          "name": "stdout",
          "output_type": "stream",
          "text": [
            "Mean Absolute Error (MAE): 2.2757895439531937\n",
            "Root Mean Squared Error (RMSE): 2.812740478964236\n"
          ]
        },
        {
          "data": {
            "image/png": "[encoded data removed]",
            "text/plain": [
              "<Figure size 864x432 with 1 Axes>"
            ]
          },
          "metadata": {
            "needs_background": "light"
          },
          "output_type": "display_data"
        }
      ],
      "source": [
        "import pandas as pd\n",
        "from statsmodels.tsa.holtwinters import ExponentialSmoothing\n",
        "from sklearn.metrics import mean_absolute_error, mean_squared_error\n",
        "import numpy as np\n",
        "import matplotlib.pyplot as plt\n",
        "\n",
        "# Load the data and check column names\n",
        "df = pd.read_csv(\"jordan-airports-historical-observations.csv\")\n",
        "print(df.columns)  # Check if 'time' column exists\n",
        "\n",
        "# Ensure 'time' column is in datetime format and set as index\n",
        "df['time'] = pd.to_datetime(df['time'])\n",
        "df.set_index('time', inplace=True)\n",
        "\n",
        "# Sort the DataFrame by index to ensure it's in chronological order\n",
        "df = df.sort_index()\n",
        "\n",
        "# Resample the data to weekly frequency, taking the mean for each week\n",
        "data = df['temperature'].resample('W').mean()\n",
        "\n",
        "# Split the data into train and test sets\n",
        "split_date = '2023-01-01'\n",
        "train = data[:split_date]\n",
        "test = data[split_date:]\n",
        "\n",
        "# Fit the Exponential Smoothing (Holt-Winters) model\n",
        "model = ExponentialSmoothing(train, trend='add', seasonal='add', seasonal_periods=52)\n",
        "hw_model = model.fit()\n",
        "\n",
        "# Forecasting for the whole year of 2024\n",
        "forecast_steps = 52  # Number of weeks in 2024\n",
        "forecast_start = pd.to_datetime('2024-01-07')  # First Sunday of 2024\n",
        "forecast_end = pd.to_datetime('2024-12-29')  # Last Sunday of 2024\n",
        "forecast_index = pd.date_range(start=forecast_start, end=forecast_end, freq='W')\n",
        "forecast_values = hw_model.forecast(steps=forecast_steps)\n",
        "forecast_values.index = forecast_index\n",
        "\n",
        "# Evaluation for 2023\n",
        "forecast_2023 = hw_model.forecast(steps=len(test))\n",
        "mae = mean_absolute_error(test, forecast_2023)\n",
        "rmse = np.sqrt(mean_squared_error(test, forecast_2023))\n",
        "\n",
        "# Print evaluation metrics\n",
        "print(f\"Mean Absolute Error (MAE): {mae}\")\n",
        "print(f\"Root Mean Squared Error (RMSE): {rmse}\")\n",
        "\n",
        "# Plot the results\n",
        "plt.figure(figsize=(12, 6))\n",
        "plt.plot(train, label='Train')\n",
        "plt.plot(test, label='Test')\n",
        "plt.plot(forecast_2023, label='Forecast 2023', color='orange')\n",
        "plt.plot(forecast_values, label='Forecast 2024', color='green')\n",
        "plt.title('Weekly Temperature Forecast with Holt-Winters Exponential Smoothing')\n",
        "plt.xlabel('Date')\n",
        "plt.ylabel('Temperature')\n",
        "plt.legend()\n",
        "plt.show()\n",
        "\n",
        "# Save the forecasted values for 2024 to a CSV file\n",
        "forecast_df = pd.DataFrame({'Forecasted Temperature': forecast_values})\n",
        "forecast_df.to_csv('forecasted_temperature_2024_hw.csv')\n"
      ]
    },
    {
      "cell_type": "code",
      "execution_count": null,
      "id": "ad7efb4a",
      "metadata": {
        "id": "ad7efb4a",
        "outputId": "efcf97ba-8a41-4dff-d3ef-79292ea4cc86"
      },
      "outputs": [
        {
          "name": "stdout",
          "output_type": "stream",
          "text": [
            "Requirement already satisfied: ipywidgets in c:\\users\\user\\anaconda3\\lib\\site-packages (7.6.3)\n",
            "Requirement already satisfied: widgetsnbextension~=3.5.0 in c:\\users\\user\\anaconda3\\lib\\site-packages (from ipywidgets) (3.5.1)\n",
            "Requirement already satisfied: jupyterlab-widgets>=1.0.0 in c:\\users\\user\\anaconda3\\lib\\site-packages (from ipywidgets) (1.0.0)\n",
            "Requirement already satisfied: ipython>=4.0.0 in c:\\users\\user\\anaconda3\\lib\\site-packages (from ipywidgets) (7.22.0)\n",
            "Requirement already satisfied: nbformat>=4.2.0 in c:\\users\\user\\anaconda3\\lib\\site-packages (from ipywidgets) (5.1.3)\n",
            "Requirement already satisfied: ipykernel>=4.5.1 in c:\\users\\user\\anaconda3\\lib\\site-packages (from ipywidgets) (5.3.4)\n",
            "Requirement already satisfied: traitlets>=4.3.1 in c:\\users\\user\\anaconda3\\lib\\site-packages (from ipywidgets) (5.0.5)\n",
            "Requirement already satisfied: tornado>=4.2 in c:\\users\\user\\anaconda3\\lib\\site-packages (from ipykernel>=4.5.1->ipywidgets) (6.1)\n",
            "Requirement already satisfied: jupyter-client in c:\\users\\user\\anaconda3\\lib\\site-packages (from ipykernel>=4.5.1->ipywidgets) (6.1.12)\n",
            "Requirement already satisfied: decorator in c:\\users\\user\\anaconda3\\lib\\site-packages (from ipython>=4.0.0->ipywidgets) (5.0.6)\n",
            "Requirement already satisfied: prompt-toolkit!=3.0.0,!=3.0.1,<3.1.0,>=2.0.0 in c:\\users\\user\\anaconda3\\lib\\site-packages (from ipython>=4.0.0->ipywidgets) (3.0.17)\n",
            "Requirement already satisfied: jedi>=0.16 in c:\\users\\user\\anaconda3\\lib\\site-packages (from ipython>=4.0.0->ipywidgets) (0.17.2)\n",
            "Requirement already satisfied: colorama in c:\\users\\user\\anaconda3\\lib\\site-packages (from ipython>=4.0.0->ipywidgets) (0.4.4)\n",
            "Requirement already satisfied: backcall in c:\\users\\user\\anaconda3\\lib\\site-packages (from ipython>=4.0.0->ipywidgets) (0.2.0)\n",
            "Requirement already satisfied: pickleshare in c:\\users\\user\\anaconda3\\lib\\site-packages (from ipython>=4.0.0->ipywidgets) (0.7.5)\n",
            "Requirement already satisfied: setuptools>=18.5 in c:\\users\\user\\anaconda3\\lib\\site-packages (from ipython>=4.0.0->ipywidgets) (52.0.0.post20210125)\n",
            "Requirement already satisfied: pygments in c:\\users\\user\\anaconda3\\lib\\site-packages (from ipython>=4.0.0->ipywidgets) (2.8.1)\n",
            "Requirement already satisfied: parso<0.8.0,>=0.7.0 in c:\\users\\user\\anaconda3\\lib\\site-packages (from jedi>=0.16->ipython>=4.0.0->ipywidgets) (0.7.0)\n",
            "Requirement already satisfied: jupyter-core in c:\\users\\user\\anaconda3\\lib\\site-packages (from nbformat>=4.2.0->ipywidgets) (4.7.1)\n",
            "Requirement already satisfied: jsonschema!=2.5.0,>=2.4 in c:\\users\\user\\anaconda3\\lib\\site-packages (from nbformat>=4.2.0->ipywidgets) (3.2.0)\n",
            "Requirement already satisfied: ipython-genutils in c:\\users\\user\\anaconda3\\lib\\site-packages (from nbformat>=4.2.0->ipywidgets) (0.2.0)\n",
            "Requirement already satisfied: pyrsistent>=0.14.0 in c:\\users\\user\\anaconda3\\lib\\site-packages (from jsonschema!=2.5.0,>=2.4->nbformat>=4.2.0->ipywidgets) (0.17.3)\n",
            "Requirement already satisfied: six>=1.11.0 in c:\\users\\user\\anaconda3\\lib\\site-packages (from jsonschema!=2.5.0,>=2.4->nbformat>=4.2.0->ipywidgets) (1.15.0)\n",
            "Requirement already satisfied: attrs>=17.4.0 in c:\\users\\user\\anaconda3\\lib\\site-packages (from jsonschema!=2.5.0,>=2.4->nbformat>=4.2.0->ipywidgets) (20.3.0)\n",
            "Requirement already satisfied: wcwidth in c:\\users\\user\\anaconda3\\lib\\site-packages (from prompt-toolkit!=3.0.0,!=3.0.1,<3.1.0,>=2.0.0->ipython>=4.0.0->ipywidgets) (0.2.5)\n",
            "Requirement already satisfied: notebook>=4.4.1 in c:\\users\\user\\anaconda3\\lib\\site-packages (from widgetsnbextension~=3.5.0->ipywidgets) (6.3.0)\n",
            "Requirement already satisfied: Send2Trash>=1.5.0 in c:\\users\\user\\anaconda3\\lib\\site-packages (from notebook>=4.4.1->widgetsnbextension~=3.5.0->ipywidgets) (1.5.0)\n",
            "Requirement already satisfied: terminado>=0.8.3 in c:\\users\\user\\anaconda3\\lib\\site-packages (from notebook>=4.4.1->widgetsnbextension~=3.5.0->ipywidgets) (0.9.4)\n",
            "Requirement already satisfied: nbconvert in c:\\users\\user\\anaconda3\\lib\\site-packages (from notebook>=4.4.1->widgetsnbextension~=3.5.0->ipywidgets) (6.0.7)\n",
            "Requirement already satisfied: prometheus-client in c:\\users\\user\\anaconda3\\lib\\site-packages (from notebook>=4.4.1->widgetsnbextension~=3.5.0->ipywidgets) (0.10.1)\n",
            "Requirement already satisfied: pyzmq>=17 in c:\\users\\user\\anaconda3\\lib\\site-packages (from notebook>=4.4.1->widgetsnbextension~=3.5.0->ipywidgets) (20.0.0)\n",
            "Requirement already satisfied: argon2-cffi in c:\\users\\user\\anaconda3\\lib\\site-packages (from notebook>=4.4.1->widgetsnbextension~=3.5.0->ipywidgets) (20.1.0)\n",
            "Requirement already satisfied: jinja2 in c:\\users\\user\\anaconda3\\lib\\site-packages (from notebook>=4.4.1->widgetsnbextension~=3.5.0->ipywidgets) (2.11.3)\n",
            "Requirement already satisfied: python-dateutil>=2.1 in c:\\users\\user\\anaconda3\\lib\\site-packages (from jupyter-client->ipykernel>=4.5.1->ipywidgets) (2.8.1)\n",
            "Requirement already satisfied: pywin32>=1.0 in c:\\users\\user\\anaconda3\\lib\\site-packages (from jupyter-core->nbformat>=4.2.0->ipywidgets) (227)\n",
            "Requirement already satisfied: pywinpty>=0.5 in c:\\users\\user\\anaconda3\\lib\\site-packages (from terminado>=0.8.3->notebook>=4.4.1->widgetsnbextension~=3.5.0->ipywidgets) (0.5.7)\n",
            "Requirement already satisfied: cffi>=1.0.0 in c:\\users\\user\\anaconda3\\lib\\site-packages (from argon2-cffi->notebook>=4.4.1->widgetsnbextension~=3.5.0->ipywidgets) (1.14.5)\n",
            "Requirement already satisfied: pycparser in c:\\users\\user\\anaconda3\\lib\\site-packages (from cffi>=1.0.0->argon2-cffi->notebook>=4.4.1->widgetsnbextension~=3.5.0->ipywidgets) (2.20)\n",
            "Requirement already satisfied: MarkupSafe>=0.23 in c:\\users\\user\\anaconda3\\lib\\site-packages (from jinja2->notebook>=4.4.1->widgetsnbextension~=3.5.0->ipywidgets) (1.1.1)\n",
            "Requirement already satisfied: bleach in c:\\users\\user\\anaconda3\\lib\\site-packages (from nbconvert->notebook>=4.4.1->widgetsnbextension~=3.5.0->ipywidgets) (3.3.0)\n",
            "Requirement already satisfied: mistune<2,>=0.8.1 in c:\\users\\user\\anaconda3\\lib\\site-packages (from nbconvert->notebook>=4.4.1->widgetsnbextension~=3.5.0->ipywidgets) (0.8.4)\n",
            "Requirement already satisfied: jupyterlab-pygments in c:\\users\\user\\anaconda3\\lib\\site-packages (from nbconvert->notebook>=4.4.1->widgetsnbextension~=3.5.0->ipywidgets) (0.1.2)\n",
            "Requirement already satisfied: pandocfilters>=1.4.1 in c:\\users\\user\\anaconda3\\lib\\site-packages (from nbconvert->notebook>=4.4.1->widgetsnbextension~=3.5.0->ipywidgets) (1.4.3)\n",
            "Requirement already satisfied: defusedxml in c:\\users\\user\\anaconda3\\lib\\site-packages (from nbconvert->notebook>=4.4.1->widgetsnbextension~=3.5.0->ipywidgets) (0.7.1)\n",
            "Requirement already satisfied: nbclient<0.6.0,>=0.5.0 in c:\\users\\user\\anaconda3\\lib\\site-packages (from nbconvert->notebook>=4.4.1->widgetsnbextension~=3.5.0->ipywidgets) (0.5.3)\n",
            "Requirement already satisfied: testpath in c:\\users\\user\\anaconda3\\lib\\site-packages (from nbconvert->notebook>=4.4.1->widgetsnbextension~=3.5.0->ipywidgets) (0.4.4)\n",
            "Requirement already satisfied: entrypoints>=0.2.2 in c:\\users\\user\\anaconda3\\lib\\site-packages (from nbconvert->notebook>=4.4.1->widgetsnbextension~=3.5.0->ipywidgets) (0.3)\n",
            "Requirement already satisfied: nest-asyncio in c:\\users\\user\\anaconda3\\lib\\site-packages (from nbclient<0.6.0,>=0.5.0->nbconvert->notebook>=4.4.1->widgetsnbextension~=3.5.0->ipywidgets) (1.5.1)\n",
            "Requirement already satisfied: async-generator in c:\\users\\user\\anaconda3\\lib\\site-packages (from nbclient<0.6.0,>=0.5.0->nbconvert->notebook>=4.4.1->widgetsnbextension~=3.5.0->ipywidgets) (1.10)\n",
            "Requirement already satisfied: webencodings in c:\\users\\user\\anaconda3\\lib\\site-packages (from bleach->nbconvert->notebook>=4.4.1->widgetsnbextension~=3.5.0->ipywidgets) (0.5.1)\n",
            "Requirement already satisfied: packaging in c:\\users\\user\\anaconda3\\lib\\site-packages (from bleach->nbconvert->notebook>=4.4.1->widgetsnbextension~=3.5.0->ipywidgets) (20.9)\n",
            "Requirement already satisfied: pyparsing>=2.0.2 in c:\\users\\user\\anaconda3\\lib\\site-packages (from packaging->bleach->nbconvert->notebook>=4.4.1->widgetsnbextension~=3.5.0->ipywidgets) (2.4.7)\n"
          ]
        }
      ],
      "source": [
        "!pip install ipywidgets\n"
      ]
    },
    {
      "cell_type": "code",
      "execution_count": null,
      "id": "c47e28fa",
      "metadata": {
        "colab": {
          "referenced_widgets": [
            "4eacced49b4e42bca3e547765731ed91",
            "60828374567b47569c24fdc9b63af943",
            "544a9225481446bea25e745d863bf046"
          ]
        },
        "id": "c47e28fa",
        "outputId": "7132cd36-cdfa-4e8e-dfa5-bb24080cd101"
      },
      "outputs": [
        {
          "data": {
            "application/vnd.jupyter.widget-view+json": {
              "model_id": "4eacced49b4e42bca3e547765731ed91",
              "version_major": 2,
              "version_minor": 0
            },
            "text/plain": [
              "Dropdown(description='Model:', options=('SARIMA', 'ARIMA', 'Holt-Winters'), value='SARIMA')"
            ]
          },
          "metadata": {},
          "output_type": "display_data"
        },
        {
          "data": {
            "application/vnd.jupyter.widget-view+json": {
              "model_id": "60828374567b47569c24fdc9b63af943",
              "version_major": 2,
              "version_minor": 0
            },
            "text/plain": [
              "Button(button_style='success', description='Run Forecast', style=ButtonStyle())"
            ]
          },
          "metadata": {},
          "output_type": "display_data"
        },
        {
          "data": {
            "application/vnd.jupyter.widget-view+json": {
              "model_id": "544a9225481446bea25e745d863bf046",
              "version_major": 2,
              "version_minor": 0
            },
            "text/plain": [
              "Output()"
            ]
          },
          "metadata": {},
          "output_type": "display_data"
        }
      ],
      "source": [
        "import pandas as pd\n",
        "from statsmodels.tsa.statespace.sarimax import SARIMAX\n",
        "from statsmodels.tsa.arima.model import ARIMA\n",
        "from statsmodels.tsa.holtwinters import ExponentialSmoothing\n",
        "from sklearn.metrics import mean_absolute_error, mean_squared_error\n",
        "import numpy as np\n",
        "import ipywidgets as widgets\n",
        "from IPython.display import display\n",
        "\n",
        "# Load the data\n",
        "df = pd.read_csv(\"jordan-airports-historical-observations.csv\")\n",
        "df['time'] = pd.to_datetime(df['time'])\n",
        "df.set_index('time', inplace=True)\n",
        "df = df.sort_index()\n",
        "data = df['temperature'].resample('W').mean()\n",
        "\n",
        "# Split the data into train and test sets\n",
        "split_date = '2023-01-01'\n",
        "train = data[:split_date]\n",
        "test = data[split_date:]\n",
        "\n",
        "# Define widget elements\n",
        "model_selector = widgets.Dropdown(\n",
        "    options=['SARIMA', 'ARIMA', 'Holt-Winters'],\n",
        "    value='SARIMA',\n",
        "    description='Model:',\n",
        ")\n",
        "forecast_button = widgets.Button(\n",
        "    description='Run Forecast',\n",
        "    button_style='success'\n",
        ")\n",
        "output = widgets.Output()\n",
        "\n",
        "# Define the function to run the selected model and display results\n",
        "def run_forecast(button):\n",
        "    with output:\n",
        "        output.clear_output()\n",
        "        model_name = model_selector.value\n",
        "\n",
        "        if model_name == 'SARIMA':\n",
        "            model = SARIMAX(train, order=(1, 1, 1), seasonal_order=(1, 1, 1, 52))\n",
        "            sarima_model = model.fit(disp=False)\n",
        "            forecast = sarima_model.get_forecast(steps=52)\n",
        "            forecast_values = forecast.predicted_mean\n",
        "            forecast_conf_int = forecast.conf_int()\n",
        "\n",
        "        elif model_name == 'ARIMA':\n",
        "            model = ARIMA(train, order=(5, 1, 0))\n",
        "            arima_model = model.fit()\n",
        "            forecast = arima_model.get_forecast(steps=52)\n",
        "            forecast_values = forecast.predicted_mean\n",
        "            forecast_conf_int = forecast.conf_int()\n",
        "\n",
        "        elif model_name == 'Holt-Winters':\n",
        "            model = ExponentialSmoothing(train, trend='add', seasonal='add', seasonal_periods=52)\n",
        "            hw_model = model.fit()\n",
        "            forecast_values = hw_model.forecast(steps=52)\n",
        "\n",
        "        forecast_start = pd.to_datetime('2024-01-07')\n",
        "        forecast_end = pd.to_datetime('2024-12-29')\n",
        "        forecast_index = pd.date_range(start=forecast_start, end=forecast_end, freq='W')\n",
        "        forecast_values.index = forecast_index\n",
        "        if model_name in ['SARIMA', 'ARIMA']:\n",
        "            forecast_conf_int.index = forecast_index\n",
        "\n",
        "        # Evaluation for 2023\n",
        "        if model_name == 'SARIMA':\n",
        "            forecast_2023 = sarima_model.get_forecast(steps=len(test))\n",
        "        elif model_name == 'ARIMA':\n",
        "            forecast_2023 = arima_model.get_forecast(steps=len(test))\n",
        "        elif model_name == 'Holt-Winters':\n",
        "            forecast_2023 = hw_model.forecast(steps=len(test))\n",
        "\n",
        "        forecast_values_2023 = forecast_2023.predicted_mean\n",
        "        mae = mean_absolute_error(test, forecast_values_2023)\n",
        "        rmse = np.sqrt(mean_squared_error(test, forecast_values_2023))\n",
        "\n",
        "        # Display evaluation metrics and forecast\n",
        "        print(f\"Model: {model_name}\")\n",
        "        print(f\"Mean Absolute Error (MAE): {mae}\")\n",
        "        print(f\"Root Mean Squared Error (RMSE): {rmse}\")\n",
        "        print(f\"Forecasted values for 2024:\")\n",
        "        display(forecast_values.head(10))\n",
        "\n",
        "        # Optionally, save to CSV\n",
        "        forecast_df = pd.DataFrame({'Forecasted Temperature': forecast_values})\n",
        "        if model_name in ['SARIMA', 'ARIMA']:\n",
        "            forecast_df['Lower Confidence Interval'] = forecast_conf_int.iloc[:, 0]\n",
        "            forecast_df['Upper Confidence Interval'] = forecast_conf_int.iloc[:, 1]\n",
        "        forecast_df.to_csv(f'forecasted_temperature_2024_{model_name.lower()}.csv')\n",
        "\n",
        "forecast_button.on_click(run_forecast)\n",
        "\n",
        "# Display the widgets\n",
        "display(model_selector, forecast_button, output)\n"
      ]
    },
    {
      "cell_type": "code",
      "execution_count": 6,
      "id": "7a60d518",
      "metadata": {
        "colab": {
          "base_uri": "https://localhost:8080/",
          "height": 111,
          "referenced_widgets": [
            "f78de52cfb9e43e0aec2e3767bc95715",
            "9ebfb94e19af41dbb652c6c06be418b3",
            "0f2ca1f65cc344a18cb8bc39b20e36d7",
            "c21e8f0af390461dbc35aa25615716ab",
            "826f5bf3227644c6b6df85ba9e95af6d",
            "fd5d793e29f24c9dacf073a190f9c446",
            "00fb71fb78654aaebf92f77763102ea9",
            "203630fd348d4b2d8ed1c5b7b368fbf1",
            "f3f46683d4bf4ebca254a62497e5dc32",
            "05e5595ba2e34303b99d9628cdb61e1c",
            "7184411d5eb946c7b3e980967be07f24"
          ]
        },
        "id": "7a60d518",
        "outputId": "dc4d967c-8874-4f66-9f68-c3861d040271"
      },
      "outputs": [
        {
          "output_type": "display_data",
          "data": {
            "text/plain": [
              "Dropdown(description='Model:', options=('SARIMA', 'ARIMA', 'Holt-Winters'), value='SARIMA')"
            ],
            "application/vnd.jupyter.widget-view+json": {
              "version_major": 2,
              "version_minor": 0,
              "model_id": "f78de52cfb9e43e0aec2e3767bc95715"
            }
          },
          "metadata": {}
        },
        {
          "output_type": "display_data",
          "data": {
            "text/plain": [
              "DatePicker(value=None, description='Date:')"
            ],
            "application/vnd.jupyter.widget-view+json": {
              "version_major": 2,
              "version_minor": 0,
              "model_id": "c21e8f0af390461dbc35aa25615716ab"
            }
          },
          "metadata": {}
        },
        {
          "output_type": "display_data",
          "data": {
            "text/plain": [
              "Button(button_style='success', description='Get Forecast', style=ButtonStyle())"
            ],
            "application/vnd.jupyter.widget-view+json": {
              "version_major": 2,
              "version_minor": 0,
              "model_id": "00fb71fb78654aaebf92f77763102ea9"
            }
          },
          "metadata": {}
        },
        {
          "output_type": "display_data",
          "data": {
            "text/plain": [
              "Output()"
            ],
            "application/vnd.jupyter.widget-view+json": {
              "version_major": 2,
              "version_minor": 0,
              "model_id": "05e5595ba2e34303b99d9628cdb61e1c"
            }
          },
          "metadata": {}
        }
      ],
      "source": [
        "import pandas as pd\n",
        "from statsmodels.tsa.statespace.sarimax import SARIMAX\n",
        "from statsmodels.tsa.arima.model import ARIMA\n",
        "from statsmodels.tsa.holtwinters import ExponentialSmoothing\n",
        "from sklearn.metrics import mean_absolute_error, mean_squared_error\n",
        "import numpy as np\n",
        "import ipywidgets as widgets\n",
        "from IPython.display import display\n",
        "\n",
        "# Load the data\n",
        "df = pd.read_csv(\"jordan-airports-historical-observations.csv\")\n",
        "df['time'] = pd.to_datetime(df['time'])\n",
        "df.set_index('time', inplace=True)\n",
        "df = df.sort_index()\n",
        "data = df['temperature'].resample('W').mean()\n",
        "\n",
        "# Split the data into train and test sets\n",
        "split_date = '2023-01-01'\n",
        "train = data[:split_date]\n",
        "test = data[split_date:]\n",
        "\n",
        "# Define the forecast range\n",
        "forecast_start = pd.to_datetime('2024-01-07')\n",
        "forecast_end = pd.to_datetime('2024-12-29')\n",
        "\n",
        "# Define widget elements\n",
        "model_selector = widgets.Dropdown(\n",
        "    options=['SARIMA', 'ARIMA', 'Holt-Winters'],\n",
        "    value='SARIMA',\n",
        "    description='Model:',\n",
        ")\n",
        "date_picker = widgets.DatePicker(\n",
        "    description='Date:',\n",
        "    disabled=False,\n",
        "    min=forecast_start,\n",
        "    max=forecast_end\n",
        ")\n",
        "forecast_button = widgets.Button(\n",
        "    description='Get Forecast',\n",
        "    button_style='success'\n",
        ")\n",
        "output = widgets.Output()\n",
        "\n",
        "# Define the function to run the selected model and display results\n",
        "def run_forecast(button):\n",
        "    with output:\n",
        "        output.clear_output()\n",
        "        model_name = model_selector.value\n",
        "        selected_date = date_picker.value\n",
        "\n",
        "        if selected_date is None:\n",
        "            print(\"Please select a date.\")\n",
        "            return\n",
        "\n",
        "        selected_date = pd.Timestamp(selected_date)\n",
        "\n",
        "        if selected_date < forecast_start or selected_date > forecast_end:\n",
        "            print(\"Selected date is out of the forecast range.\")\n",
        "            return\n",
        "\n",
        "        # Forecasting setup\n",
        "        forecast_index = pd.date_range(start=forecast_start, end=forecast_end, freq='W')\n",
        "\n",
        "        try:\n",
        "            if model_name == 'SARIMA':\n",
        "                model = SARIMAX(train, order=(1, 1, 1), seasonal_order=(1, 1, 1, 52), enforce_stationarity=False, enforce_invertibility=False)\n",
        "                sarima_model = model.fit(disp=False)\n",
        "                forecast = sarima_model.get_forecast(steps=52)\n",
        "                forecast_values = forecast.predicted_mean\n",
        "\n",
        "            elif model_name == 'ARIMA':\n",
        "                model = ARIMA(train, order=(5, 1, 0))\n",
        "                arima_model = model.fit()\n",
        "                forecast = arima_model.get_forecast(steps=52)\n",
        "                forecast_values = forecast.predicted_mean\n",
        "\n",
        "            elif model_name == 'Holt-Winters':\n",
        "                model = ExponentialSmoothing(train, trend='add', seasonal='add', seasonal_periods=52, initialization_method=\"estimated\")\n",
        "                hw_model = model.fit()\n",
        "                forecast_values = hw_model.forecast(steps=52)\n",
        "\n",
        "            forecast_values.index = forecast_index\n",
        "\n",
        "            # Map the selected date to the nearest forecasted date\n",
        "            nearest_forecast_date = min(forecast_index, key=lambda d: abs(d - selected_date))\n",
        "\n",
        "            # Debugging: print forecast dates and selected date\n",
        "            print(\"Forecast range:\", forecast_start, \"to\", forecast_end)\n",
        "            print(\"Selected date:\", selected_date)\n",
        "            print(\"Nearest forecast date:\", nearest_forecast_date)\n",
        "            print(\"Forecast index range:\", forecast_values.index.min(), \"to\", forecast_values.index.max())\n",
        "\n",
        "            # Find the forecasted temperature for the nearest forecast date\n",
        "            if nearest_forecast_date in forecast_values.index:\n",
        "                temperature_forecast = forecast_values[nearest_forecast_date]\n",
        "                print(f\"Forecasted temperature for {nearest_forecast_date.date()}: {temperature_forecast:.2f}°C\")\n",
        "            else:\n",
        "                print(\"Selected date is out of the forecast range.\")\n",
        "\n",
        "        except Exception as e:\n",
        "            print(f\"Error fitting the {model_name} model: {e}\")\n",
        "\n",
        "forecast_button.on_click(run_forecast)\n",
        "\n",
        "# Display the widgets\n",
        "display(model_selector, date_picker, forecast_button, output)\n"
      ]
    },
    {
      "cell_type": "code",
      "execution_count": 7,
      "id": "c14d165f",
      "metadata": {
        "colab": {
          "base_uri": "https://localhost:8080/"
        },
        "id": "c14d165f",
        "outputId": "e6afc8bf-af7c-486d-ffc9-307d7a93a5b2"
      },
      "outputs": [
        {
          "output_type": "stream",
          "name": "stdout",
          "text": [
            "Collecting streamlit\n",
            "  Downloading streamlit-1.45.0-py3-none-any.whl.metadata (8.9 kB)\n",
            "Requirement already satisfied: altair<6,>=4.0 in /usr/local/lib/python3.11/dist-packages (from streamlit) (5.5.0)\n",
            "Requirement already satisfied: blinker<2,>=1.5.0 in /usr/local/lib/python3.11/dist-packages (from streamlit) (1.9.0)\n",
            "Requirement already satisfied: cachetools<6,>=4.0 in /usr/local/lib/python3.11/dist-packages (from streamlit) (5.5.2)\n",
            "Requirement already satisfied: click<9,>=7.0 in /usr/local/lib/python3.11/dist-packages (from streamlit) (8.1.8)\n",
            "Requirement already satisfied: numpy<3,>=1.23 in /usr/local/lib/python3.11/dist-packages (from streamlit) (2.0.2)\n",
            "Requirement already satisfied: packaging<25,>=20 in /usr/local/lib/python3.11/dist-packages (from streamlit) (24.2)\n",
            "Requirement already satisfied: pandas<3,>=1.4.0 in /usr/local/lib/python3.11/dist-packages (from streamlit) (2.2.2)\n",
            "Requirement already satisfied: pillow<12,>=7.1.0 in /usr/local/lib/python3.11/dist-packages (from streamlit) (11.2.1)\n",
            "Requirement already satisfied: protobuf<7,>=3.20 in /usr/local/lib/python3.11/dist-packages (from streamlit) (5.29.4)\n",
            "Requirement already satisfied: pyarrow>=7.0 in /usr/local/lib/python3.11/dist-packages (from streamlit) (18.1.0)\n",
            "Requirement already satisfied: requests<3,>=2.27 in /usr/local/lib/python3.11/dist-packages (from streamlit) (2.32.3)\n",
            "Requirement already satisfied: tenacity<10,>=8.1.0 in /usr/local/lib/python3.11/dist-packages (from streamlit) (9.1.2)\n",
            "Requirement already satisfied: toml<2,>=0.10.1 in /usr/local/lib/python3.11/dist-packages (from streamlit) (0.10.2)\n",
            "Requirement already satisfied: typing-extensions<5,>=4.4.0 in /usr/local/lib/python3.11/dist-packages (from streamlit) (4.13.2)\n",
            "Collecting watchdog<7,>=2.1.5 (from streamlit)\n",
            "  Downloading watchdog-6.0.0-py3-none-manylinux2014_x86_64.whl.metadata (44 kB)\n",
            "\u001b[2K     \u001b[90m━━━━━━━━━━━━━━━━━━━━━━━━━━━━━━━━━━━━━━━━\u001b[0m \u001b[32m44.3/44.3 kB\u001b[0m \u001b[31m2.6 MB/s\u001b[0m eta \u001b[36m0:00:00\u001b[0m\n",
            "\u001b[?25hRequirement already satisfied: gitpython!=3.1.19,<4,>=3.0.7 in /usr/local/lib/python3.11/dist-packages (from streamlit) (3.1.44)\n",
            "Collecting pydeck<1,>=0.8.0b4 (from streamlit)\n",
            "  Downloading pydeck-0.9.1-py2.py3-none-any.whl.metadata (4.1 kB)\n",
            "Requirement already satisfied: tornado<7,>=6.0.3 in /usr/local/lib/python3.11/dist-packages (from streamlit) (6.4.2)\n",
            "Requirement already satisfied: jinja2 in /usr/local/lib/python3.11/dist-packages (from altair<6,>=4.0->streamlit) (3.1.6)\n",
            "Requirement already satisfied: jsonschema>=3.0 in /usr/local/lib/python3.11/dist-packages (from altair<6,>=4.0->streamlit) (4.23.0)\n",
            "Requirement already satisfied: narwhals>=1.14.2 in /usr/local/lib/python3.11/dist-packages (from altair<6,>=4.0->streamlit) (1.37.1)\n",
            "Requirement already satisfied: gitdb<5,>=4.0.1 in /usr/local/lib/python3.11/dist-packages (from gitpython!=3.1.19,<4,>=3.0.7->streamlit) (4.0.12)\n",
            "Requirement already satisfied: python-dateutil>=2.8.2 in /usr/local/lib/python3.11/dist-packages (from pandas<3,>=1.4.0->streamlit) (2.9.0.post0)\n",
            "Requirement already satisfied: pytz>=2020.1 in /usr/local/lib/python3.11/dist-packages (from pandas<3,>=1.4.0->streamlit) (2025.2)\n",
            "Requirement already satisfied: tzdata>=2022.7 in /usr/local/lib/python3.11/dist-packages (from pandas<3,>=1.4.0->streamlit) (2025.2)\n",
            "Requirement already satisfied: charset-normalizer<4,>=2 in /usr/local/lib/python3.11/dist-packages (from requests<3,>=2.27->streamlit) (3.4.1)\n",
            "Requirement already satisfied: idna<4,>=2.5 in /usr/local/lib/python3.11/dist-packages (from requests<3,>=2.27->streamlit) (3.10)\n",
            "Requirement already satisfied: urllib3<3,>=1.21.1 in /usr/local/lib/python3.11/dist-packages (from requests<3,>=2.27->streamlit) (2.4.0)\n",
            "Requirement already satisfied: certifi>=2017.4.17 in /usr/local/lib/python3.11/dist-packages (from requests<3,>=2.27->streamlit) (2025.4.26)\n",
            "Requirement already satisfied: smmap<6,>=3.0.1 in /usr/local/lib/python3.11/dist-packages (from gitdb<5,>=4.0.1->gitpython!=3.1.19,<4,>=3.0.7->streamlit) (5.0.2)\n",
            "Requirement already satisfied: MarkupSafe>=2.0 in /usr/local/lib/python3.11/dist-packages (from jinja2->altair<6,>=4.0->streamlit) (3.0.2)\n",
            "Requirement already satisfied: attrs>=22.2.0 in /usr/local/lib/python3.11/dist-packages (from jsonschema>=3.0->altair<6,>=4.0->streamlit) (25.3.0)\n",
            "Requirement already satisfied: jsonschema-specifications>=2023.03.6 in /usr/local/lib/python3.11/dist-packages (from jsonschema>=3.0->altair<6,>=4.0->streamlit) (2025.4.1)\n",
            "Requirement already satisfied: referencing>=0.28.4 in /usr/local/lib/python3.11/dist-packages (from jsonschema>=3.0->altair<6,>=4.0->streamlit) (0.36.2)\n",
            "Requirement already satisfied: rpds-py>=0.7.1 in /usr/local/lib/python3.11/dist-packages (from jsonschema>=3.0->altair<6,>=4.0->streamlit) (0.24.0)\n",
            "Requirement already satisfied: six>=1.5 in /usr/local/lib/python3.11/dist-packages (from python-dateutil>=2.8.2->pandas<3,>=1.4.0->streamlit) (1.17.0)\n",
            "Downloading streamlit-1.45.0-py3-none-any.whl (9.9 MB)\n",
            "\u001b[2K   \u001b[90m━━━━━━━━━━━━━━━━━━━━━━━━━━━━━━━━━━━━━━━━\u001b[0m \u001b[32m9.9/9.9 MB\u001b[0m \u001b[31m38.8 MB/s\u001b[0m eta \u001b[36m0:00:00\u001b[0m\n",
            "\u001b[?25hDownloading pydeck-0.9.1-py2.py3-none-any.whl (6.9 MB)\n",
            "\u001b[2K   \u001b[90m━━━━━━━━━━━━━━━━━━━━━━━━━━━━━━━━━━━━━━━━\u001b[0m \u001b[32m6.9/6.9 MB\u001b[0m \u001b[31m59.6 MB/s\u001b[0m eta \u001b[36m0:00:00\u001b[0m\n",
            "\u001b[?25hDownloading watchdog-6.0.0-py3-none-manylinux2014_x86_64.whl (79 kB)\n",
            "\u001b[2K   \u001b[90m━━━━━━━━━━━━━━━━━━━━━━━━━━━━━━━━━━━━━━━━\u001b[0m \u001b[32m79.1/79.1 kB\u001b[0m \u001b[31m5.9 MB/s\u001b[0m eta \u001b[36m0:00:00\u001b[0m\n",
            "\u001b[?25hInstalling collected packages: watchdog, pydeck, streamlit\n",
            "Successfully installed pydeck-0.9.1 streamlit-1.45.0 watchdog-6.0.0\n"
          ]
        }
      ],
      "source": [
        "pip install streamlit\n"
      ]
    },
    {
      "cell_type": "code",
      "source": [
        "%%writefile app.py\n",
        "import streamlit as st\n",
        "import pandas as pd\n",
        "from statsmodels.tsa.statespace.sarimax import SARIMAX\n",
        "from statsmodels.tsa.arima.model import ARIMA\n",
        "from statsmodels.tsa.holtwinters import ExponentialSmoothing\n",
        "import datetime\n",
        "\n",
        "# Load and prepare data\n",
        "df = pd.read_csv(\"jordan-airports-historical-observations.csv\")\n",
        "df['time'] = pd.to_datetime(df['time'])\n",
        "df.set_index('time', inplace=True)\n",
        "df = df.sort_index()\n",
        "data = df['temperature'].resample('W').mean()\n",
        "\n",
        "# Split data\n",
        "split_date = '2023-01-01'\n",
        "train = data[:split_date]\n",
        "forecast_start = pd.to_datetime('2024-01-07')\n",
        "forecast_end = pd.to_datetime('2024-12-29')\n",
        "forecast_index = pd.date_range(start=forecast_start, end=forecast_end, freq='W')\n",
        "\n",
        "# Streamlit UI\n",
        "st.title(\"Weekly Temperature Forecast\")\n",
        "model_name = st.selectbox(\"Select Model\", ['SARIMA', 'ARIMA', 'Holt-Winters'])\n",
        "date_input = st.date_input(\"Select a date\", min_value=forecast_start, max_value=forecast_end)\n",
        "\n",
        "if st.button(\"Get Forecast\"):\n",
        "    if model_name == 'SARIMA':\n",
        "        model = SARIMAX(train, order=(1, 1, 1), seasonal_order=(1, 1, 1, 52),\n",
        "                        enforce_stationarity=False, enforce_invertibility=False)\n",
        "        model_fit = model.fit(disp=False)\n",
        "        forecast = model_fit.get_forecast(steps=52).predicted_mean\n",
        "    elif model_name == 'ARIMA':\n",
        "        model = ARIMA(train, order=(5, 1, 0))\n",
        "        model_fit = model.fit()\n",
        "        forecast = model_fit.get_forecast(steps=52).predicted_mean\n",
        "    elif model_name == 'Holt-Winters':\n",
        "        model = ExponentialSmoothing(train, trend='add', seasonal='add',\n",
        "                                     seasonal_periods=52, initialization_method=\"estimated\")\n",
        "        model_fit = model.fit()\n",
        "        forecast = model_fit.forecast(steps=52)\n",
        "\n",
        "    forecast.index = forecast_index\n",
        "    selected_date = pd.Timestamp(date_input)\n",
        "    nearest_date = min(forecast.index, key=lambda d: abs(d - selected_date))\n",
        "\n",
        "    if nearest_date in forecast.index:\n",
        "        st.success(f\"Forecasted temperature for {nearest_date.date()}: {forecast[nearest_date]:.2f}°C\")\n",
        "    else:\n",
        "        st.error(\"Selected date is out of forecast range.\")\n"
      ],
      "metadata": {
        "colab": {
          "base_uri": "https://localhost:8080/"
        },
        "id": "_FJjEiewt1HF",
        "outputId": "e3e389ab-054e-4fe2-dedc-a9e79abbd55a"
      },
      "id": "_FJjEiewt1HF",
      "execution_count": 16,
      "outputs": [
        {
          "output_type": "stream",
          "name": "stdout",
          "text": [
            "Overwriting app.py\n"
          ]
        }
      ]
    },
    {
      "cell_type": "code",
      "source": [
        "!streamlit run app.py &> /dev/null &\n",
        "\n"
      ],
      "metadata": {
        "id": "yISLgAsOv2QG"
      },
      "id": "yISLgAsOv2QG",
      "execution_count": 17,
      "outputs": []
    },
    {
      "cell_type": "code",
      "source": [
        "!streamlit run app.py &>/content/logs.txt &\n"
      ],
      "metadata": {
        "id": "Tu1rnk40t1J-"
      },
      "id": "Tu1rnk40t1J-",
      "execution_count": 10,
      "outputs": []
    },
    {
      "cell_type": "code",
      "source": [
        "!pip install pyngrok\n"
      ],
      "metadata": {
        "colab": {
          "base_uri": "https://localhost:8080/"
        },
        "id": "u-dBp3eluhlm",
        "outputId": "142b7ab4-bd8b-4753-a1f1-68e115d6f0c0"
      },
      "id": "u-dBp3eluhlm",
      "execution_count": 11,
      "outputs": [
        {
          "output_type": "stream",
          "name": "stdout",
          "text": [
            "Collecting pyngrok\n",
            "  Downloading pyngrok-7.2.5-py3-none-any.whl.metadata (8.9 kB)\n",
            "Requirement already satisfied: PyYAML>=5.1 in /usr/local/lib/python3.11/dist-packages (from pyngrok) (6.0.2)\n",
            "Downloading pyngrok-7.2.5-py3-none-any.whl (23 kB)\n",
            "Installing collected packages: pyngrok\n",
            "Successfully installed pyngrok-7.2.5\n"
          ]
        }
      ]
    },
    {
      "cell_type": "code",
      "source": [
        "from pyngrok import ngrok\n",
        "ngrok.set_auth_token(\"2waUQo4mvTEkpDFPLKrvtNyrzNg_3bS41yDT4HLL4KAcmtvFt\")\n"
      ],
      "metadata": {
        "id": "ITCkGpVNu7xf"
      },
      "id": "ITCkGpVNu7xf",
      "execution_count": 13,
      "outputs": []
    },
    {
      "cell_type": "code",
      "source": [
        "from pyngrok import ngrok\n",
        "\n",
        "# Use your authtoken first (only once)\n",
        "ngrok.set_auth_token(\"2waUQo4mvTEkpDFPLKrvtNyrzNg_3bS41yDT4HLL4KAcmtvFt\")  # Only needed once\n",
        "\n",
        "public_url = ngrok.connect(8501)\n",
        "print(f\"🌐 Streamlit app is live at: {public_url}\")\n"
      ],
      "metadata": {
        "colab": {
          "base_uri": "https://localhost:8080/"
        },
        "id": "B3_sYL7nu70Z",
        "outputId": "b65dffa4-871e-43ef-d50a-08ceb1c2a610"
      },
      "id": "B3_sYL7nu70Z",
      "execution_count": 18,
      "outputs": [
        {
          "output_type": "stream",
          "name": "stdout",
          "text": [
            "🌐 Streamlit app is live at: NgrokTunnel: \"https://3eb4-34-169-136-161.ngrok-free.app\" -> \"http://localhost:8501\"\n"
          ]
        }
      ]
    }
  ],
  "metadata": {
    "kernelspec": {
      "display_name": "Python 3",
      "language": "python",
      "name": "python3"
    },
    "language_info": {
      "codemirror_mode": {
        "name": "ipython",
        "version": 3
      },
      "file_extension": ".py",
      "mimetype": "text/x-python",
      "name": "python",
      "nbconvert_exporter": "python",
      "pygments_lexer": "ipython3",
      "version": "3.8.8"
    },
    "colab": {
      "provenance": []
    },
    "widgets": {
      "application/vnd.jupyter.widget-state+json": {
	  "state": {},
        "f78de52cfb9e43e0aec2e3767bc95715": {
          "model_module": "@jupyter-widgets/controls",
          "model_name": "DropdownModel",
          "model_module_version": "1.5.0",
          "state": {
            "_dom_classes": [],
            "_model_module": "@jupyter-widgets/controls",
            "_model_module_version": "1.5.0",
            "_model_name": "DropdownModel",
            "_options_labels": [
              "SARIMA",
              "ARIMA",
              "Holt-Winters"
            ],
            "_view_count": null,
            "_view_module": "@jupyter-widgets/controls",
            "_view_module_version": "1.5.0",
            "_view_name": "DropdownView",
            "description": "Model:",
            "description_tooltip": null,
            "disabled": false,
            "index": 0,
            "layout": "IPY_MODEL_9ebfb94e19af41dbb652c6c06be418b3",
            "style": "IPY_MODEL_0f2ca1f65cc344a18cb8bc39b20e36d7"
          }
        },
        "9ebfb94e19af41dbb652c6c06be418b3": {
          "model_module": "@jupyter-widgets/base",
          "model_name": "LayoutModel",
          "model_module_version": "1.2.0",
          "state": {
            "_model_module": "@jupyter-widgets/base",
            "_model_module_version": "1.2.0",
            "_model_name": "LayoutModel",
            "_view_count": null,
            "_view_module": "@jupyter-widgets/base",
            "_view_module_version": "1.2.0",
            "_view_name": "LayoutView",
            "align_content": null,
            "align_items": null,
            "align_self": null,
            "border": null,
            "bottom": null,
            "display": null,
            "flex": null,
            "flex_flow": null,
            "grid_area": null,
            "grid_auto_columns": null,
            "grid_auto_flow": null,
            "grid_auto_rows": null,
            "grid_column": null,
            "grid_gap": null,
            "grid_row": null,
            "grid_template_areas": null,
            "grid_template_columns": null,
            "grid_template_rows": null,
            "height": null,
            "justify_content": null,
            "justify_items": null,
            "left": null,
            "margin": null,
            "max_height": null,
            "max_width": null,
            "min_height": null,
            "min_width": null,
            "object_fit": null,
            "object_position": null,
            "order": null,
            "overflow": null,
            "overflow_x": null,
            "overflow_y": null,
            "padding": null,
            "right": null,
            "top": null,
            "visibility": null,
            "width": null
          }
        },
        "0f2ca1f65cc344a18cb8bc39b20e36d7": {
          "model_module": "@jupyter-widgets/controls",
          "model_name": "DescriptionStyleModel",
          "model_module_version": "1.5.0",
          "state": {
            "_model_module": "@jupyter-widgets/controls",
            "_model_module_version": "1.5.0",
            "_model_name": "DescriptionStyleModel",
            "_view_count": null,
            "_view_module": "@jupyter-widgets/base",
            "_view_module_version": "1.2.0",
            "_view_name": "StyleView",
            "description_width": ""
          }
        },
        "c21e8f0af390461dbc35aa25615716ab": {
          "model_module": "@jupyter-widgets/controls",
          "model_name": "DatePickerModel",
          "model_module_version": "1.5.0",
          "state": {
            "_dom_classes": [],
            "_model_module": "@jupyter-widgets/controls",
            "_model_module_version": "1.5.0",
            "_model_name": "DatePickerModel",
            "_view_count": null,
            "_view_module": "@jupyter-widgets/controls",
            "_view_module_version": "1.5.0",
            "_view_name": "DatePickerView",
            "description": "Date:",
            "description_tooltip": null,
            "disabled": false,
            "layout": "IPY_MODEL_826f5bf3227644c6b6df85ba9e95af6d",
            "style": "IPY_MODEL_fd5d793e29f24c9dacf073a190f9c446",
            "value": null
          }
        },
        "826f5bf3227644c6b6df85ba9e95af6d": {
          "model_module": "@jupyter-widgets/base",
          "model_name": "LayoutModel",
          "model_module_version": "1.2.0",
          "state": {
            "_model_module": "@jupyter-widgets/base",
            "_model_module_version": "1.2.0",
            "_model_name": "LayoutModel",
            "_view_count": null,
            "_view_module": "@jupyter-widgets/base",
            "_view_module_version": "1.2.0",
            "_view_name": "LayoutView",
            "align_content": null,
            "align_items": null,
            "align_self": null,
            "border": null,
            "bottom": null,
            "display": null,
            "flex": null,
            "flex_flow": null,
            "grid_area": null,
            "grid_auto_columns": null,
            "grid_auto_flow": null,
            "grid_auto_rows": null,
            "grid_column": null,
            "grid_gap": null,
            "grid_row": null,
            "grid_template_areas": null,
            "grid_template_columns": null,
            "grid_template_rows": null,
            "height": null,
            "justify_content": null,
            "justify_items": null,
            "left": null,
            "margin": null,
            "max_height": null,
            "max_width": null,
            "min_height": null,
            "min_width": null,
            "object_fit": null,
            "object_position": null,
            "order": null,
            "overflow": null,
            "overflow_x": null,
            "overflow_y": null,
            "padding": null,
            "right": null,
            "top": null,
            "visibility": null,
            "width": null
          }
        },
        "fd5d793e29f24c9dacf073a190f9c446": {
          "model_module": "@jupyter-widgets/controls",
          "model_name": "DescriptionStyleModel",
          "model_module_version": "1.5.0",
          "state": {
            "_model_module": "@jupyter-widgets/controls",
            "_model_module_version": "1.5.0",
            "_model_name": "DescriptionStyleModel",
            "_view_count": null,
            "_view_module": "@jupyter-widgets/base",
            "_view_module_version": "1.2.0",
            "_view_name": "StyleView",
            "description_width": ""
          }
        },
        "00fb71fb78654aaebf92f77763102ea9": {
          "model_module": "@jupyter-widgets/controls",
          "model_name": "ButtonModel",
          "model_module_version": "1.5.0",
          "state": {
            "_dom_classes": [],
            "_model_module": "@jupyter-widgets/controls",
            "_model_module_version": "1.5.0",
            "_model_name": "ButtonModel",
            "_view_count": null,
            "_view_module": "@jupyter-widgets/controls",
            "_view_module_version": "1.5.0",
            "_view_name": "ButtonView",
            "button_style": "success",
            "description": "Get Forecast",
            "disabled": false,
            "icon": "",
            "layout": "IPY_MODEL_203630fd348d4b2d8ed1c5b7b368fbf1",
            "style": "IPY_MODEL_f3f46683d4bf4ebca254a62497e5dc32",
            "tooltip": ""
          }
        },
        "203630fd348d4b2d8ed1c5b7b368fbf1": {
          "model_module": "@jupyter-widgets/base",
          "model_name": "LayoutModel",
          "model_module_version": "1.2.0",
          "state": {
            "_model_module": "@jupyter-widgets/base",
            "_model_module_version": "1.2.0",
            "_model_name": "LayoutModel",
            "_view_count": null,
            "_view_module": "@jupyter-widgets/base",
            "_view_module_version": "1.2.0",
            "_view_name": "LayoutView",
            "align_content": null,
            "align_items": null,
            "align_self": null,
            "border": null,
            "bottom": null,
            "display": null,
            "flex": null,
            "flex_flow": null,
            "grid_area": null,
            "grid_auto_columns": null,
            "grid_auto_flow": null,
            "grid_auto_rows": null,
            "grid_column": null,
            "grid_gap": null,
            "grid_row": null,
            "grid_template_areas": null,
            "grid_template_columns": null,
            "grid_template_rows": null,
            "height": null,
            "justify_content": null,
            "justify_items": null,
            "left": null,
            "margin": null,
            "max_height": null,
            "max_width": null,
            "min_height": null,
            "min_width": null,
            "object_fit": null,
            "object_position": null,
            "order": null,
            "overflow": null,
            "overflow_x": null,
            "overflow_y": null,
            "padding": null,
            "right": null,
            "top": null,
            "visibility": null,
            "width": null
          }
        },
        "f3f46683d4bf4ebca254a62497e5dc32": {
          "model_module": "@jupyter-widgets/controls",
          "model_name": "ButtonStyleModel",
          "model_module_version": "1.5.0",
          "state": {
            "_model_module": "@jupyter-widgets/controls",
            "_model_module_version": "1.5.0",
            "_model_name": "ButtonStyleModel",
            "_view_count": null,
            "_view_module": "@jupyter-widgets/base",
            "_view_module_version": "1.2.0",
            "_view_name": "StyleView",
            "button_color": null,
            "font_weight": ""
          }
        },
        "05e5595ba2e34303b99d9628cdb61e1c": {
          "model_module": "@jupyter-widgets/output",
          "model_name": "OutputModel",
          "model_module_version": "1.0.0",
          "state": {
            "_dom_classes": [],
            "_model_module": "@jupyter-widgets/output",
            "_model_module_version": "1.0.0",
            "_model_name": "OutputModel",
            "_view_count": null,
            "_view_module": "@jupyter-widgets/output",
            "_view_module_version": "1.0.0",
            "_view_name": "OutputView",
            "layout": "IPY_MODEL_7184411d5eb946c7b3e980967be07f24",
            "msg_id": "",
            "outputs": []
          }
        },
        "7184411d5eb946c7b3e980967be07f24": {
          "model_module": "@jupyter-widgets/base",
          "model_name": "LayoutModel",
          "model_module_version": "1.2.0",
          "state": {
            "_model_module": "@jupyter-widgets/base",
            "_model_module_version": "1.2.0",
            "_model_name": "LayoutModel",
            "_view_count": null,
            "_view_module": "@jupyter-widgets/base",
            "_view_module_version": "1.2.0",
            "_view_name": "LayoutView",
            "align_content": null,
            "align_items": null,
            "align_self": null,
            "border": null,
            "bottom": null,
            "display": null,
            "flex": null,
            "flex_flow": null,
            "grid_area": null,
            "grid_auto_columns": null,
            "grid_auto_flow": null,
            "grid_auto_rows": null,
            "grid_column": null,
            "grid_gap": null,
            "grid_row": null,
            "grid_template_areas": null,
            "grid_template_columns": null,
            "grid_template_rows": null,
            "height": null,
            "justify_content": null,
            "justify_items": null,
            "left": null,
            "margin": null,
            "max_height": null,
            "max_width": null,
            "min_height": null,
            "min_width": null,
            "object_fit": null,
            "object_position": null,
            "order": null,
            "overflow": null,
            "overflow_x": null,
            "overflow_y": null,
            "padding": null,
            "right": null,
            "top": null,
            "visibility": null,
            "width": null
          }
        }
      }
    }
  },
  "nbformat": 4,
  "nbformat_minor": 5
}